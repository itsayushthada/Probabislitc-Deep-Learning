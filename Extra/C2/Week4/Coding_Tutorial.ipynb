{
 "cells": [
  {
   "cell_type": "code",
   "execution_count": 1,
   "metadata": {
    "colab": {
     "base_uri": "https://localhost:8080/"
    },
    "id": "kHuZyb752hsv",
    "outputId": "fd83e75f-c5ad-4d21-919b-beafafca9cd1"
   },
   "outputs": [
    {
     "name": "stdout",
     "output_type": "stream",
     "text": [
      "2.3.0\n"
     ]
    }
   ],
   "source": [
    "import tensorflow as tf\n",
    "print(tf.__version__)"
   ]
  },
  {
   "cell_type": "markdown",
   "metadata": {
    "id": "G5gYfzP52hsw"
   },
   "source": [
    "# Model subclassing and custom training loops"
   ]
  },
  {
   "cell_type": "markdown",
   "metadata": {
    "id": "inqvTU1G2hsw"
   },
   "source": [
    " ## Coding tutorials\n",
    " #### [1. Model subclassing](#coding_tutorial_1)\n",
    " #### [2. Custom layers](#coding_tutorial_2)\n",
    " #### [3. Automatic differentiation](#coding_tutorial_3)\n",
    " #### [4. Custom training loops](#coding_tutorial_4)\n",
    " #### [5. tf.function decorator](#coding_tutorial_5)"
   ]
  },
  {
   "cell_type": "markdown",
   "metadata": {
    "id": "Qab5dtWU2hsw"
   },
   "source": [
    "***\n",
    "<a id=\"coding_tutorial_1\"></a>\n",
    "## Model subclassing"
   ]
  },
  {
   "cell_type": "code",
   "execution_count": 2,
   "metadata": {
    "id": "BBpimhGC2hsw"
   },
   "outputs": [],
   "source": [
    "import numpy as  np\n",
    "from tensorflow.keras.models import Model\n",
    "from tensorflow.keras.layers import Dense, Dropout, Softmax, concatenate, InputLayer, Input"
   ]
  },
  {
   "cell_type": "markdown",
   "metadata": {
    "id": "0XCBYmFK2hsw"
   },
   "source": [
    "#### Create a simple model using the model subclassing API"
   ]
  },
  {
   "cell_type": "code",
   "execution_count": 3,
   "metadata": {
    "id": "JJIU14h82hsw"
   },
   "outputs": [],
   "source": [
    "# Build the model\n",
    "\n",
    "class MyModel(Model):\n",
    "    def __init__(self, i_size, classes):\n",
    "        super(MyModel, self).__init__()\n",
    "        self.input_1 = InputLayer(input_shape=i_size)\n",
    "        self.dense_1 = Dense(units=64, activation=\"relu\")\n",
    "        self.dout_1 =  Dropout(rate=0.5)\n",
    "        self.dense_2 = Dense(units=classes, activation=\"softmax\")\n",
    "\n",
    "    def call(self, data, training=False):\n",
    "        h = self.input_1(data)\n",
    "        h = self.dense_1(h)\n",
    "        h = self.dout_1(h, training)\n",
    "        return self.dense_2(h)"
   ]
  },
  {
   "cell_type": "code",
   "execution_count": 4,
   "metadata": {
    "colab": {
     "base_uri": "https://localhost:8080/"
    },
    "id": "ftPKFuyF2hsw",
    "outputId": "6e99cc65-4b3f-4c79-d7a9-5dae581dc45d"
   },
   "outputs": [
    {
     "name": "stdout",
     "output_type": "stream",
     "text": [
      "Model: \"my_model\"\n",
      "_________________________________________________________________\n",
      "Layer (type)                 Output Shape              Param #   \n",
      "=================================================================\n",
      "input_1 (InputLayer)         [(None, 40)]              0         \n",
      "_________________________________________________________________\n",
      "dense (Dense)                multiple                  2624      \n",
      "_________________________________________________________________\n",
      "dropout (Dropout)            multiple                  0         \n",
      "_________________________________________________________________\n",
      "dense_1 (Dense)              multiple                  650       \n",
      "=================================================================\n",
      "Total params: 3,274\n",
      "Trainable params: 3,274\n",
      "Non-trainable params: 0\n",
      "_________________________________________________________________\n"
     ]
    }
   ],
   "source": [
    "# Print the model summary\n",
    "\n",
    "model = MyModel(i_size=(40), classes=10)\n",
    "\n",
    "model(tf.random.normal(shape=(4, 40), mean=0, stddev=1.0))\n",
    "model.summary()"
   ]
  },
  {
   "cell_type": "markdown",
   "metadata": {
    "id": "eITLf6Ii2hsw"
   },
   "source": [
    "***\n",
    "<a id=\"coding_tutorial_2\"></a>\n",
    "## Custom layers"
   ]
  },
  {
   "cell_type": "code",
   "execution_count": 5,
   "metadata": {
    "id": "HFyLBEh-2hsw"
   },
   "outputs": [],
   "source": [
    "from tensorflow.keras.models import Model\n",
    "from tensorflow.keras.layers import Layer, Softmax"
   ]
  },
  {
   "cell_type": "markdown",
   "metadata": {
    "id": "D00mHrq42hsw"
   },
   "source": [
    "#### Create custom layers"
   ]
  },
  {
   "cell_type": "code",
   "execution_count": 6,
   "metadata": {
    "id": "UY55KYDn2hsw"
   },
   "outputs": [],
   "source": [
    "# Create a custom layer\n",
    "\n",
    "class MyLayer(Layer):\n",
    "    def __init__(self, units, input_dim):\n",
    "        super(MyLayer, self).__init__()\n",
    "        self.w = self.add_weight(shape=(input_dim, units), initializer=\"random_normal\")\n",
    "        self.b = self.add_weight(shape=(units,), initializer=\"zeros\", trainable=False)\n",
    "\n",
    "    def call(self, inputs):\n",
    "        return tf.matmul(inputs, self.w) + self.b"
   ]
  },
  {
   "cell_type": "code",
   "execution_count": 7,
   "metadata": {
    "colab": {
     "base_uri": "https://localhost:8080/"
    },
    "id": "r0Cf8wgG2hsw",
    "outputId": "e45f6b94-10bd-4565-8dc1-0f3413a316b7"
   },
   "outputs": [
    {
     "name": "stdout",
     "output_type": "stream",
     "text": [
      "Output:\n",
      "[[ 0.00200713 -0.04902335]\n",
      " [ 0.04388793 -0.07413518]\n",
      " [ 0.05831473 -0.14500706]\n",
      " [ 0.06919327  0.05782203]]\n",
      "\n",
      "\n",
      "Weights:\n",
      "[<tf.Variable 'Variable:0' shape=(5, 2) dtype=float32, numpy=\n",
      "array([[ 0.0196559 , -0.00593896],\n",
      "       [ 0.03377752,  0.04630087],\n",
      "       [ 0.05686619,  0.00152219],\n",
      "       [ 0.04953028, -0.0436723 ],\n",
      "       [-0.02488605,  0.06981435]], dtype=float32)>]\n"
     ]
    }
   ],
   "source": [
    "# Specify trainable weights\n",
    "\n",
    "my_dense = MyLayer(units=2, input_dim=5)\n",
    "\n",
    "print(\"Output:\\n{}\".format(my_dense(tf.random.normal(shape=(4, 5), mean=0, stddev=1.0).numpy())))\n",
    "print(\"\\n\")\n",
    "print(\"Weights:\\n{}\".format([x for x in my_dense.weights if x.trainable is True]))"
   ]
  },
  {
   "cell_type": "code",
   "execution_count": 8,
   "metadata": {
    "colab": {
     "base_uri": "https://localhost:8080/"
    },
    "id": "lhKEipB72hsw",
    "outputId": "08eeec3c-42ef-4d6e-9629-79e30e2a8c10"
   },
   "outputs": [
    {
     "name": "stdout",
     "output_type": "stream",
     "text": [
      "trainable weights: 1\n",
      "non-trainable weights: 1\n"
     ]
    }
   ],
   "source": [
    "print('trainable weights:', len(my_dense.trainable_weights))\n",
    "print('non-trainable weights:', len(my_dense.non_trainable_weights))"
   ]
  },
  {
   "cell_type": "code",
   "execution_count": 9,
   "metadata": {
    "id": "lzh3Km2v2hsw"
   },
   "outputs": [],
   "source": [
    "# Create a custom layer to accumulate means of output values\n",
    "\n",
    "class MyLayerAccumulator(Layer):\n",
    "    def __init__(self, units, input_dim):\n",
    "        super(MyLayerAccumulator, self).__init__()\n",
    "        self.w = self.add_weight(shape=(input_dim, units), initializer=\"random_normal\")\n",
    "        self.b = self.add_weight(shape=(units,), initializer=\"zeros\", trainable=False)\n",
    "        self.sum_activations = tf.Variable(initial_value=tf.zeros(shape=(units,)), trainable=False)\n",
    "        self.num_calls = tf.Variable(initial_value=0, trainable=False, dtype=tf.float32)\n",
    "\n",
    "    def call(self, inputs):\n",
    "        activations = tf.matmul(inputs, self.w) + self.b\n",
    "        self.sum_activations.assign_add(tf.reduce_sum(activations, axis=0))\n",
    "        self.num_calls.assign_add(inputs.shape[0])\n",
    "        return activations, self.sum_activations/self.num_calls"
   ]
  },
  {
   "cell_type": "code",
   "execution_count": 10,
   "metadata": {
    "colab": {
     "base_uri": "https://localhost:8080/"
    },
    "id": "9XlAcUPx2hsw",
    "outputId": "173fa72a-c476-44d1-bc56-4da3a7dc1f1e"
   },
   "outputs": [
    {
     "name": "stdout",
     "output_type": "stream",
     "text": [
      "Y:\n",
      " [ 0.01492433  0.01680291  0.0335212   0.02091268 -0.06320038]\n",
      "\n",
      "\n",
      "Y Rolling Mean:\n",
      " [ 0.01492432  0.01680291  0.0335212   0.02091268 -0.06320036]\n"
     ]
    }
   ],
   "source": [
    "# Test the layer\n",
    "\n",
    "my_accum = MyLayerAccumulator(5, 5)\n",
    "\n",
    "y, activation_means = my_accum(tf.ones((10, 5), dtype=tf.float32))\n",
    "y, activation_means = my_accum(tf.ones((1, 5), dtype=tf.float32))\n",
    "\n",
    "print(\"Y:\\n\", y.numpy().squeeze())\n",
    "print(\"\\n\")\n",
    "print(\"Y Rolling Mean:\\n\", activation_means.numpy())"
   ]
  },
  {
   "cell_type": "code",
   "execution_count": 11,
   "metadata": {
    "id": "CfRfC_w42hsx"
   },
   "outputs": [],
   "source": [
    "# Create a Dropout layer as a custom layer\n",
    "\n",
    "class MyDropout(Layer):\n",
    "\n",
    "    def __init__(self, rate):\n",
    "        super(MyDropout, self).__init__()\n",
    "        self.rate = rate\n",
    "        \n",
    "    def call(self, inputs):\n",
    "        mask = tf.constant(np.random.choice([0,1], size=inputs.shape, p=[self.rate, 1-self.rate]), dtype=tf.float32)\n",
    "        return mask*inputs"
   ]
  },
  {
   "cell_type": "code",
   "execution_count": 12,
   "metadata": {
    "colab": {
     "base_uri": "https://localhost:8080/"
    },
    "id": "bwVztEfBNCUR",
    "outputId": "fe57c9f1-8aaf-41b2-c057-6d3e14cb97bf"
   },
   "outputs": [
    {
     "name": "stdout",
     "output_type": "stream",
     "text": [
      "MY:\n",
      " tf.Tensor(\n",
      "[[-0.7917608  -0.30354717 -0.         -0.93690246  1.3030303 ]\n",
      " [ 0.24605748 -0.07812932 -1.1714423  -0.         -0.05424082]\n",
      " [ 0.959828   -2.8942873   1.8824849  -0.          0.23338735]\n",
      " [-0.09466671  0.5366626  -0.4498653   0.73990065  0.8169496 ]], shape=(4, 5), dtype=float32)\n",
      "\n",
      "TF:\n",
      " tf.Tensor(\n",
      "[[-0.98970103 -0.37943396 -0.         -0.          1.6287878 ]\n",
      " [ 0.30757186 -0.         -1.4643028  -0.         -0.06780102]\n",
      " [ 1.199785   -3.6178591   2.353106   -1.163292    0.        ]\n",
      " [-0.11833339  0.6708282  -0.          0.9248758   1.0211871 ]], shape=(4, 5), dtype=float32)\n"
     ]
    }
   ],
   "source": [
    "dummy_input = tf.random.normal(shape=(4, 5))\n",
    "\n",
    "my_dropout = MyDropout(rate=0.2)\n",
    "\n",
    "print(\"MY:\\n\", my_dropout(dummy_input))\n",
    "print()\n",
    "print(\"TF:\\n\", tf.nn.dropout(dummy_input, rate=0.2))"
   ]
  },
  {
   "cell_type": "markdown",
   "metadata": {
    "id": "qlYoA-ds2hsx"
   },
   "source": [
    "#### Implement the custom layers into a model"
   ]
  },
  {
   "cell_type": "code",
   "execution_count": 13,
   "metadata": {
    "id": "wIq-qn_A2hsx"
   },
   "outputs": [],
   "source": [
    "# Build the model using custom layers with the model subclassing API\n",
    "\n",
    "class MyModel(Model):\n",
    "\n",
    "    def __init__(self, units_1, input_dim_1, units_2, units_3):\n",
    "        super(MyModel, self).__init__()\n",
    "        self.input_1 = InputLayer(input_shape=input_dim_1)\n",
    "        self.dense_1 = MyLayer(units=units_1, input_dim=input_dim_1)\n",
    "        self.dropout_1 = MyDropout(rate=0.5)\n",
    "        self.dense_2 = MyLayer(units=units_2, input_dim=units_1)\n",
    "        self.dropout_2 = MyDropout(rate=0.2)\n",
    "        self.dense_3 = MyLayer(units=units_3, input_dim=units_2)\n",
    "        self.softmax = Softmax()\n",
    "\n",
    "    def call(self, inputs):\n",
    "        h = self.input_1(inputs)\n",
    "        h = self.dense_1(h)\n",
    "        h = tf.nn.relu(h)\n",
    "        h = self.dropout_1(h)\n",
    "        h = self.dense_2(h)\n",
    "        h = tf.nn.relu(h)\n",
    "        h = self.dropout_2(h)\n",
    "        h = self.dense_3(h)\n",
    "        return self.softmax(h)"
   ]
  },
  {
   "cell_type": "code",
   "execution_count": 14,
   "metadata": {
    "colab": {
     "base_uri": "https://localhost:8080/"
    },
    "id": "9apEJ_ia2hsx",
    "outputId": "437b78e9-e1da-4a15-9b33-650df0515587"
   },
   "outputs": [
    {
     "name": "stdout",
     "output_type": "stream",
     "text": [
      "[[0.01724067 0.01843926 0.01684201 0.01830976 0.02318804 0.02062421\n",
      "  0.03035396 0.03005404 0.01561166 0.01522208 0.01379215 0.02431046\n",
      "  0.01232434 0.02053166 0.02620127 0.02183533 0.02560571 0.02523084\n",
      "  0.03262161 0.01950862 0.01241727 0.02390916 0.01454125 0.01861619\n",
      "  0.0451261  0.01859639 0.02448095 0.02781974 0.01846091 0.0232712\n",
      "  0.0137255  0.02437336 0.02379769 0.03440738 0.02380098 0.01791074\n",
      "  0.01481623 0.01275021 0.02848486 0.03272593 0.01599388 0.0277808\n",
      "  0.01761775 0.02000708 0.01870698 0.01801379]]\n",
      "\n",
      "Model: \"my_model_1\"\n",
      "_________________________________________________________________\n",
      "Layer (type)                 Output Shape              Param #   \n",
      "=================================================================\n",
      "input_2 (InputLayer)         [(None, 10000)]           0         \n",
      "_________________________________________________________________\n",
      "my_layer_1 (MyLayer)         multiple                  640064    \n",
      "_________________________________________________________________\n",
      "my_dropout_1 (MyDropout)     multiple                  0         \n",
      "_________________________________________________________________\n",
      "my_layer_2 (MyLayer)         multiple                  4160      \n",
      "_________________________________________________________________\n",
      "my_dropout_2 (MyDropout)     multiple                  0         \n",
      "_________________________________________________________________\n",
      "my_layer_3 (MyLayer)         multiple                  2990      \n",
      "_________________________________________________________________\n",
      "softmax (Softmax)            multiple                  0         \n",
      "=================================================================\n",
      "Total params: 647,214\n",
      "Trainable params: 647,040\n",
      "Non-trainable params: 174\n",
      "_________________________________________________________________\n"
     ]
    }
   ],
   "source": [
    "# Instantiate a model object\n",
    "\n",
    "model = MyModel(units_1 = 64,\n",
    "                input_dim_1=10000,\n",
    "                units_2=64,\n",
    "                units_3=46)\n",
    "\n",
    "print(model(tf.ones((1, 10000))).numpy(), \n",
    "      end=\"\\n\\n\")\n",
    "model.summary()"
   ]
  },
  {
   "cell_type": "markdown",
   "metadata": {
    "id": "gfif-Zpy2hsx"
   },
   "source": [
    "***\n",
    "<a id=\"coding_tutorial_3\"></a>\n",
    "## Automatic differentiation"
   ]
  },
  {
   "cell_type": "code",
   "execution_count": 15,
   "metadata": {
    "id": "wS5X_L2k2hsx"
   },
   "outputs": [],
   "source": [
    "import numpy as np\n",
    "import matplotlib.pyplot as plt"
   ]
  },
  {
   "cell_type": "markdown",
   "metadata": {
    "id": "Lyf6EVcY2hsx"
   },
   "source": [
    "#### Create synthetic data"
   ]
  },
  {
   "cell_type": "code",
   "execution_count": 16,
   "metadata": {
    "colab": {
     "base_uri": "https://localhost:8080/",
     "height": 0
    },
    "id": "T4hHKPk02hsx",
    "outputId": "8c8f9dc4-62ed-490d-90b4-c148a96dcc4a"
   },
   "outputs": [
    {
     "data": {
      "image/png": "[encoded data removed]",
      "text/plain": [
       "<Figure size 432x288 with 1 Axes>"
      ]
     },
     "metadata": {
      "needs_background": "light",
      "tags": []
     },
     "output_type": "display_data"
    }
   ],
   "source": [
    "# Create data from a noise contaminated linear model\n",
    "\n",
    "def MakeNoisyData(m, b, n=20):\n",
    "    x = tf.random.uniform(shape=(n,1))\n",
    "    noise = tf.random.normal(shape=(len(x),1), stddev=0.1)\n",
    "    y = m * x + b + noise\n",
    "    return x, y\n",
    "\n",
    "m=1\n",
    "b=2\n",
    "x_train, y_train = MakeNoisyData(m,b)\n",
    "plt.plot(x_train, y_train, 'b.')\n",
    "plt.show()"
   ]
  },
  {
   "cell_type": "markdown",
   "metadata": {
    "id": "IZ9Hpd7N2hsx"
   },
   "source": [
    "#### Define a linear regression model"
   ]
  },
  {
   "cell_type": "code",
   "execution_count": 17,
   "metadata": {
    "id": "oYfXkMxK2hsx"
   },
   "outputs": [],
   "source": [
    "from tensorflow.keras.layers import Layer"
   ]
  },
  {
   "cell_type": "code",
   "execution_count": 18,
   "metadata": {
    "id": "NeNZdgi52hsx"
   },
   "outputs": [],
   "source": [
    "# Build a custom layer for the linear regression model\n",
    "\n",
    "class MyLinearRegression(Layer):\n",
    "    def __init__(self, **kwargs):\n",
    "      super(MyLinearRegression, self).__init__(**kwargs)\n",
    "    \n",
    "    def build(self, input_shape, output_dim=1):\n",
    "      self.w = self.add_weight(\n",
    "                                shape=(input_shape[-1], output_dim),\n",
    "                                initializer=\"random_normal\",\n",
    "                                trainable=True,\n",
    "                                name=\"Slope\"\n",
    "                              )\n",
    "      self.b = self.add_weight(\n",
    "                                shape=(output_dim,), \n",
    "                                initializer=\"random_normal\", \n",
    "                                trainable=True,\n",
    "                                name=\"Bias\"\n",
    "                              )\n",
    "\n",
    "    def call(self, inputs):\n",
    "      return tf.matmul(inputs, self.w) + self.b"
   ]
  },
  {
   "cell_type": "code",
   "execution_count": 19,
   "metadata": {
    "colab": {
     "base_uri": "https://localhost:8080/"
    },
    "id": "c3iY8G8BcCKr",
    "outputId": "1c28b4c6-4513-4219-c0fc-1ced5aaaa8ce"
   },
   "outputs": [
    {
     "name": "stdout",
     "output_type": "stream",
     "text": [
      "Model Output:\n",
      " [[0.04277422 0.04140233 0.03688009 0.02090327 0.03210534 0.04433976\n",
      "  0.04120746 0.02426339 0.03891174 0.03522968 0.03891911 0.03050327\n",
      "  0.02159315 0.01531307 0.01199653 0.0188842  0.00944344 0.02178817\n",
      "  0.02220376 0.02380811]]\n",
      "\n",
      "Model Weights:\n",
      "my_linear_regression/Slope:0 [[-0.03684497]]\n",
      "my_linear_regression/Bias:0 [0.04558493]\n"
     ]
    }
   ],
   "source": [
    "lin_reg = MyLinearRegression()\n",
    "\n",
    "print(\"Model Output:\\n\", lin_reg(x_train).numpy().T)\n",
    "print()\n",
    "print(\"Model Weights:\")\n",
    "for x in lin_reg.weights:\n",
    "    print(x.name, x.numpy())"
   ]
  },
  {
   "cell_type": "markdown",
   "metadata": {
    "id": "EEnAMwOe2hsx"
   },
   "source": [
    "#### Define the loss function"
   ]
  },
  {
   "cell_type": "code",
   "execution_count": 20,
   "metadata": {
    "colab": {
     "base_uri": "https://localhost:8080/"
    },
    "id": "QlLDnh1K2hsx",
    "outputId": "f7836d4b-b730-407b-f9a9-fa744d78f166"
   },
   "outputs": [
    {
     "name": "stdout",
     "output_type": "stream",
     "text": [
      "Starting loss 6.135874\n"
     ]
    }
   ],
   "source": [
    "# Define the mean squared error loss function\n",
    "\n",
    "def SquaredError(y_pred, y_true):\n",
    "    return tf.reduce_mean(tf.square(y_pred - y_true)) \n",
    "\n",
    "starting_loss = SquaredError(lin_reg(x_train), y_train)\n",
    "print(\"Starting loss\", starting_loss.numpy())"
   ]
  },
  {
   "cell_type": "markdown",
   "metadata": {
    "id": "Lu43HWwL2hsx"
   },
   "source": [
    "#### Train and plot the model"
   ]
  },
  {
   "cell_type": "code",
   "execution_count": 21,
   "metadata": {
    "colab": {
     "base_uri": "https://localhost:8080/"
    },
    "id": "RIvapl0v2hsx",
    "outputId": "371504b6-36fd-4407-c9a0-6b9e8e073370"
   },
   "outputs": [
    {
     "name": "stdout",
     "output_type": "stream",
     "text": [
      "Epoch: 01\tLoss: 6.135874\n",
      "Epoch: 02\tLoss: 13.383530\n",
      "Epoch: 03\tLoss: 28.146072\n",
      "Epoch: 04\tLoss: 60.575447\n",
      "Epoch: 05\tLoss: 128.953461\n",
      "Epoch: 06\tLoss: 282.274506\n",
      "Epoch: 07\tLoss: 13.901848\n",
      "Epoch: 08\tLoss: 0.743021\n",
      "Epoch: 09\tLoss: 0.015150\n",
      "Epoch: 10\tLoss: 0.011069\n",
      "Epoch: 11\tLoss: 0.065297\n",
      "Epoch: 12\tLoss: 0.013237\n",
      "Epoch: 13\tLoss: 0.012374\n",
      "Epoch: 14\tLoss: 0.011370\n",
      "Epoch: 15\tLoss: 0.015798\n",
      "Epoch: 16\tLoss: 0.011482\n",
      "Epoch: 17\tLoss: 0.011148\n",
      "Epoch: 18\tLoss: 0.011612\n",
      "Epoch: 19\tLoss: 0.011580\n",
      "Epoch: 20\tLoss: 0.011528\n"
     ]
    }
   ],
   "source": [
    "# Implement a gradient descent training loop for the linear regression model\n",
    "\n",
    "lr = 1.0\n",
    "steps = 20\n",
    "sampler_noise = 0.2\n",
    "\n",
    "grad_hist = [[tf.constant(0.0),tf.constant(0.0)]]\n",
    "weight_hist = [lin_reg.weights[0].numpy().squeeze()]\n",
    "bias_hist = [lin_reg.weights[1].numpy().squeeze()]\n",
    "loss_hist = [starting_loss.numpy()]\n",
    "lr_hist = [lr]\n",
    "\n",
    "for i in range(steps):\n",
    "    with tf.GradientTape() as tape:\n",
    "        preds = lin_reg(x_train)\n",
    "        loss = SquaredError(preds, y_train)\n",
    "    \n",
    "    # Gradient Estimation\n",
    "    grad = tape.gradient(loss, lin_reg.trainable_variables)\n",
    "    \n",
    "    # Parameter Update in Probabilistic Style\n",
    "    grad = [tf.random.truncated_normal(shape=grad[0].shape, mean=grad[0][0,0], stddev=sampler_noise),\n",
    "            tf.random.truncated_normal(shape=grad[1].shape, mean=grad[1][0], stddev=sampler_noise)]\n",
    "    lin_reg.weights[0].assign_sub(lr*grad[0])\n",
    "    lin_reg.weights[1].assign_sub(lr*grad[1])\n",
    "\n",
    "    # Recording Parametrs & Loss\n",
    "    weight_hist.append(lin_reg.weights[0].numpy().squeeze())\n",
    "    bias_hist.append(lin_reg.weights[1].numpy().squeeze())\n",
    "    grad_hist.append(grad)\n",
    "    loss_hist.append(loss.numpy())\n",
    "    lr_hist.append(lr)\n",
    "\n",
    "    print(\"Epoch: {:02d}\\tLoss: {:02.6f}\".format(i+1, loss))\n",
    "    if (i+1)%5 == 0:\n",
    "        lr = lr/2"
   ]
  },
  {
   "cell_type": "code",
   "execution_count": 22,
   "metadata": {
    "colab": {
     "base_uri": "https://localhost:8080/",
     "height": 0
    },
    "id": "-iiL7iJ32hsx",
    "outputId": "288f5ed5-c286-4627-a165-d4212c9c852a"
   },
   "outputs": [
    {
     "data": {
      "image/png": "[encoded data removed]",
      "text/plain": [
       "<Figure size 432x288 with 1 Axes>"
      ]
     },
     "metadata": {
      "needs_background": "light",
      "tags": []
     },
     "output_type": "display_data"
    }
   ],
   "source": [
    "# Plot the learned regression model\n",
    "\n",
    "plt.plot(x_train, y_train, 'b.')\n",
    "\n",
    "x_linear_regression=np.linspace(min(x_train), max(x_train), 50)\n",
    "plt.plot(x_linear_regression, lin_reg(x_linear_regression).numpy(), 'r--')\n",
    "plt.show()"
   ]
  },
  {
   "cell_type": "code",
   "execution_count": 23,
   "metadata": {
    "id": "RZ-K38Mzpe8N"
   },
   "outputs": [],
   "source": [
    "grad_hist = np.array([[x[0].numpy().squeeze(), x[1].numpy().squeeze()]for x in grad_hist])\n",
    "lr_hist = np.array(lr_hist)\n",
    "weight_hist = np.array(weight_hist)\n",
    "bias_hist = np.array(bias_hist)\n",
    "loss_hist = np.array(loss_hist)"
   ]
  },
  {
   "cell_type": "code",
   "execution_count": 24,
   "metadata": {
    "colab": {
     "base_uri": "https://localhost:8080/",
     "height": 0
    },
    "id": "lGFLSY_rpTS2",
    "outputId": "63ebb7a4-35b8-4f7b-ef2b-a81ea4b696c1"
   },
   "outputs": [
    {
     "data": {
      "image/png": "[encoded data removed]",
      "text/plain": [
       "<Figure size 1440x576 with 6 Axes>"
      ]
     },
     "metadata": {
      "needs_background": "light",
      "tags": []
     },
     "output_type": "display_data"
    }
   ],
   "source": [
    "plt.figure(figsize=(20,8))\n",
    "\n",
    "plt.subplot(2, 3, 1)\n",
    "plt.plot(grad_hist[:,0])\n",
    "plt.title(\"Weight Gradient\")\n",
    "\n",
    "plt.subplot(2, 3, 2)\n",
    "plt.plot(grad_hist[:,1])\n",
    "plt.title(\"Bias Gradient\")\n",
    "\n",
    "plt.subplot(2, 3, 3)\n",
    "plt.plot(lr_hist)\n",
    "plt.title(\"Learning Rate Decay\")\n",
    "\n",
    "plt.subplot(2, 3, 4)\n",
    "plt.plot(weight_hist)\n",
    "plt.title(\"Weight Updates\")\n",
    "\n",
    "plt.subplot(2, 3, 5)\n",
    "plt.plot(bias_hist)\n",
    "plt.title(\"Bias Updates\")\n",
    "\n",
    "plt.subplot(2, 3, 6)\n",
    "plt.plot(loss_hist)\n",
    "plt.title(\"Loss History\")\n",
    "\n",
    "plt.show()"
   ]
  },
  {
   "cell_type": "markdown",
   "metadata": {
    "id": "-dxNrX5y2hsx"
   },
   "source": [
    "***\n",
    "<a id=\"coding_tutorial_4\"></a>\n",
    "## Custom training loops"
   ]
  },
  {
   "cell_type": "code",
   "execution_count": 25,
   "metadata": {
    "id": "MPoP1elJ2hsx"
   },
   "outputs": [],
   "source": [
    "import numpy as np\n",
    "import matplotlib.pyplot as plt\n",
    "import time"
   ]
  },
  {
   "cell_type": "markdown",
   "metadata": {
    "id": "i2ku3Dq_2hsx"
   },
   "source": [
    "#### Build the model"
   ]
  },
  {
   "cell_type": "code",
   "execution_count": 26,
   "metadata": {
    "id": "nWEuW4kR2hsx"
   },
   "outputs": [],
   "source": [
    "from tensorflow.keras.models import Model\n",
    "from tensorflow.keras.layers import Layer, Softmax, InputLayer"
   ]
  },
  {
   "cell_type": "code",
   "execution_count": 27,
   "metadata": {
    "id": "G40iWw-v2hsx"
   },
   "outputs": [],
   "source": [
    "# Define the custom layers and model\n",
    "\n",
    "class MyLayer(Layer):\n",
    "    def __init__(self, units, **kwargs):\n",
    "        super(MyLayer, self).__init__(**kwargs)\n",
    "        self.units = units    \n",
    "\n",
    "    def build(self, input_shape):\n",
    "        self.w = self.add_weight(shape=(input_shape[-1], self.units), \n",
    "                                 initializer=\"random_normal\",\n",
    "                                 name=\"KERNEL\",\n",
    "                                 trainable=True)\n",
    "        self.b = self.add_weight(shape=(self.units,), \n",
    "                                 initializer=\"zeros\", \n",
    "                                 name=\"BIAS\",\n",
    "                                 trainable=True)\n",
    "\n",
    "    def call(self, inputs):\n",
    "        return tf.matmul(inputs, self.w) + self.b\n",
    "\n",
    "\n",
    "class MyDropout(Layer):\n",
    "    def __init__(self, rate, **kwargs):\n",
    "        super(MyDropout, self).__init__(**kwargs)\n",
    "        self.rate = rate\n",
    "        \n",
    "    def call(self, inputs):\n",
    "        mask = tf.constant(np.random.choice([0,1], size=inputs.shape, p=[self.rate, 1-self.rate]), dtype=tf.float32)\n",
    "        return mask*inputs\n",
    "\n",
    "\n",
    "class MyModel(Model):\n",
    "    def __init__(self, units_1, units_2, units_3):\n",
    "        super(MyModel, self).__init__()\n",
    "        self.input_1 = InputLayer()\n",
    "        self.dense_1 = MyLayer(units=units_1)\n",
    "        self.dropout_1 = MyDropout(rate=0.5)\n",
    "        self.dense_2 = MyLayer(units=units_2)\n",
    "        self.dropout_2 = MyDropout(rate=0.2)\n",
    "        self.dense_3 = MyLayer(units=units_3)\n",
    "        self.softmax = Softmax()\n",
    "\n",
    "    def call(self, inputs):\n",
    "        h = self.input_1(inputs)\n",
    "        h = self.dense_1(h)\n",
    "        h = tf.nn.relu(h)\n",
    "        h = self.dropout_1(h)\n",
    "        h = self.dense_2(h)\n",
    "        h = tf.nn.relu(h)\n",
    "        h = self.dropout_2(h)\n",
    "        h = self.dense_3(h)\n",
    "        return self.softmax(h)"
   ]
  },
  {
   "cell_type": "code",
   "execution_count": 28,
   "metadata": {
    "colab": {
     "base_uri": "https://localhost:8080/"
    },
    "id": "mSCij3cIzP9v",
    "outputId": "cf1222f3-3dcb-45ff-b226-a12c212ba667"
   },
   "outputs": [
    {
     "name": "stdout",
     "output_type": "stream",
     "text": [
      "[[0.02190958 0.02310297 0.02691157 0.02252023 0.01768259 0.02147809\n",
      "  0.02076296 0.02474516 0.01945765 0.02368741 0.02251086 0.02129038\n",
      "  0.02754266 0.01970401 0.02237848 0.01628769 0.02179141 0.01913401\n",
      "  0.02235663 0.02005829 0.02096008 0.0217981  0.01845257 0.02154999\n",
      "  0.01996044 0.02228064 0.01889768 0.02301552 0.02224897 0.02169374\n",
      "  0.02387324 0.02426462 0.02344438 0.01872711 0.01963631 0.02147097\n",
      "  0.02449348 0.01957655 0.02453465 0.01805585 0.0208967  0.02634856\n",
      "  0.02083642 0.02627058 0.02173284 0.01966748]]\n",
      "\n",
      "Model: \"my_model_2\"\n",
      "_________________________________________________________________\n",
      "Layer (type)                 Output Shape              Param #   \n",
      "=================================================================\n",
      "input_3 (InputLayer)         [None]                    0         \n",
      "_________________________________________________________________\n",
      "my_layer_4 (MyLayer)         multiple                  640064    \n",
      "_________________________________________________________________\n",
      "my_dropout_3 (MyDropout)     multiple                  0         \n",
      "_________________________________________________________________\n",
      "my_layer_5 (MyLayer)         multiple                  4160      \n",
      "_________________________________________________________________\n",
      "my_dropout_4 (MyDropout)     multiple                  0         \n",
      "_________________________________________________________________\n",
      "my_layer_6 (MyLayer)         multiple                  2990      \n",
      "_________________________________________________________________\n",
      "softmax_1 (Softmax)          multiple                  0         \n",
      "=================================================================\n",
      "Total params: 647,214\n",
      "Trainable params: 647,214\n",
      "Non-trainable params: 0\n",
      "_________________________________________________________________\n"
     ]
    }
   ],
   "source": [
    "model = MyModel(units_1 = 64,\n",
    "                units_2=64,\n",
    "                units_3=46)\n",
    "\n",
    "print(model(tf.ones((1, 10000))).numpy(), \n",
    "      end=\"\\n\\n\")\n",
    "model.summary()"
   ]
  },
  {
   "cell_type": "markdown",
   "metadata": {
    "id": "bwD_WM9_2hsx"
   },
   "source": [
    "#### Load the reuters dataset and define the class_names "
   ]
  },
  {
   "cell_type": "code",
   "execution_count": 29,
   "metadata": {
    "colab": {
     "base_uri": "https://localhost:8080/"
    },
    "id": "hFkC-FtJ2hsx",
    "outputId": "7bef033e-a399-407c-c154-f06c4f40c86e"
   },
   "outputs": [
    {
     "name": "stdout",
     "output_type": "stream",
     "text": [
      "Downloading data from https://storage.googleapis.com/tensorflow/tf-keras-datasets/reuters.npz\n",
      "2113536/2110848 [==============================] - 0s 0us/step\n"
     ]
    }
   ],
   "source": [
    "# Load the dataset\n",
    "\n",
    "from tensorflow.keras.datasets import reuters\n",
    "\n",
    "(train_data, train_labels), (test_data, test_labels) = reuters.load_data(num_words=10000)\n",
    "\n",
    "class_names = ['cocoa','grain','veg-oil','earn','acq','wheat','copper','housing','money-supply',\n",
    "   'coffee','sugar','trade','reserves','ship','cotton','carcass','crude','nat-gas',\n",
    "   'cpi','money-fx','interest','gnp','meal-feed','alum','oilseed','gold','tin',\n",
    "   'strategic-metal','livestock','retail','ipi','iron-steel','rubber','heat','jobs',\n",
    "   'lei','bop','zinc','orange','pet-chem','dlr','gas','silver','wpi','hog','lead']"
   ]
  },
  {
   "cell_type": "code",
   "execution_count": 30,
   "metadata": {
    "colab": {
     "base_uri": "https://localhost:8080/"
    },
    "id": "v5r-Pkm02hsx",
    "outputId": "407e4f92-63dc-487e-d2f4-4dca3e99bd66"
   },
   "outputs": [
    {
     "name": "stdout",
     "output_type": "stream",
     "text": [
      "Label: earn\n"
     ]
    }
   ],
   "source": [
    "# Print the class of the first sample\n",
    "\n",
    "print(\"Label: {}\".format(class_names[train_labels[0]]))"
   ]
  },
  {
   "cell_type": "markdown",
   "metadata": {
    "id": "A79ljON02hsx"
   },
   "source": [
    "#### Get the dataset word index"
   ]
  },
  {
   "cell_type": "code",
   "execution_count": 31,
   "metadata": {
    "colab": {
     "base_uri": "https://localhost:8080/"
    },
    "id": "VSDOBG1N2hsx",
    "outputId": "43aa8fbb-6a52-421b-e3b2-855311d94afe"
   },
   "outputs": [
    {
     "name": "stdout",
     "output_type": "stream",
     "text": [
      "Downloading data from https://storage.googleapis.com/tensorflow/tf-keras-datasets/reuters_word_index.json\n",
      "557056/550378 [==============================] - 0s 0us/step\n"
     ]
    }
   ],
   "source": [
    "# Load the Reuters word index\n",
    "\n",
    "word_to_index = reuters.get_word_index()\n",
    "\n",
    "invert_word_index = dict([(value, key) for (key, value) in word_to_index.items()])\n",
    "text_news = ' '.join([invert_word_index.get(i - 3, '?') for i in train_data[0]])"
   ]
  },
  {
   "cell_type": "code",
   "execution_count": 32,
   "metadata": {
    "colab": {
     "base_uri": "https://localhost:8080/",
     "height": 69
    },
    "id": "YqjnxwgS2hsx",
    "outputId": "36266545-e7f4-4569-d5f8-3f44e2974967"
   },
   "outputs": [
    {
     "data": {
      "application/vnd.google.colaboratory.intrinsic+json": {
       "type": "string"
      },
      "text/plain": [
       "'? ? ? said as a result of its december acquisition of space co it expects earnings per share in 1987 of 1 15 to 1 30 dlrs per share up from 70 cts in 1986 the company said pretax net should rise to nine to 10 mln dlrs from six mln dlrs in 1986 and rental operation revenues to 19 to 22 mln dlrs from 12 5 mln dlrs it said cash flow per share this year should be 2 50 to three dlrs reuter 3'"
      ]
     },
     "execution_count": 32,
     "metadata": {
      "tags": []
     },
     "output_type": "execute_result"
    }
   ],
   "source": [
    "# Print the first data example sentence\n",
    "\n",
    "text_news"
   ]
  },
  {
   "cell_type": "markdown",
   "metadata": {
    "id": "KeeE-_AC2hsx"
   },
   "source": [
    "#### Preprocess the data"
   ]
  },
  {
   "cell_type": "code",
   "execution_count": 33,
   "metadata": {
    "colab": {
     "base_uri": "https://localhost:8080/"
    },
    "id": "-v1e97m_2hsx",
    "outputId": "76844f33-c5e5-4b88-ff22-a7252048691b"
   },
   "outputs": [
    {
     "name": "stdout",
     "output_type": "stream",
     "text": [
      "Shape of x_train: (8982, 10000)\n",
      "Shape of x_test: (2246, 10000)\n"
     ]
    }
   ],
   "source": [
    "# Define a function that encodes the data into a 'bag of words' representation\n",
    "\n",
    "def bag_of_words(text_samples, elements=10000):\n",
    "    output = np.zeros((len(text_samples), elements))\n",
    "    for i, word in enumerate(text_samples):\n",
    "        output[i, word] = 1.\n",
    "    return output\n",
    "\n",
    "x_train = bag_of_words(train_data)\n",
    "x_test = bag_of_words(test_data)\n",
    "\n",
    "print(\"Shape of x_train:\", x_train.shape)\n",
    "print(\"Shape of x_test:\", x_test.shape)"
   ]
  },
  {
   "cell_type": "markdown",
   "metadata": {
    "id": "skLlsfjF2hsx"
   },
   "source": [
    "#### Define the loss function and optimizer\n",
    "\n"
   ]
  },
  {
   "cell_type": "code",
   "execution_count": 34,
   "metadata": {
    "id": "9tPWVw9I2hsx"
   },
   "outputs": [],
   "source": [
    "# Define the categorical cross entropy loss and Adam optimizer\n",
    "\n",
    "loss_object = tf.keras.losses.SparseCategoricalCrossentropy()\n",
    "\n",
    "def loss(model, x, y, wd):\n",
    "    kernel_variables = []\n",
    "    for l in model.layers:\n",
    "        for w in l.weights:\n",
    "            if 'kernel' in w.name.lower():\n",
    "                kernel_variables.append(w)\n",
    "    wd_penalty = wd * tf.reduce_sum([tf.reduce_sum(tf.square(k)) for k in kernel_variables])\n",
    "    y_ = model(x)\n",
    "    return loss_object(y_true=y, y_pred=y_) + wd_penalty\n",
    "\n",
    "optimizer = tf.keras.optimizers.Adam(learning_rate=0.001)"
   ]
  },
  {
   "cell_type": "markdown",
   "metadata": {
    "id": "5HLjlykr2hsx"
   },
   "source": [
    "#### Train the model"
   ]
  },
  {
   "cell_type": "code",
   "execution_count": 35,
   "metadata": {
    "id": "_mTpQtj22hsx"
   },
   "outputs": [],
   "source": [
    "# Define a function to compute the forward and backward pass\n",
    "\n",
    "def grad(model, inputs, targets, wd):\n",
    "    with tf.GradientTape() as tape:\n",
    "        loss_value = loss(model, inputs, targets, wd)\n",
    "    return loss_value, tape.gradient(loss_value, model.trainable_variables)"
   ]
  },
  {
   "cell_type": "code",
   "execution_count": 36,
   "metadata": {
    "colab": {
     "base_uri": "https://localhost:8080/"
    },
    "id": "TQaDfbOU2hsx",
    "outputId": "a82d56f0-60ca-451e-ad53-6daa911bfb8a"
   },
   "outputs": [
    {
     "name": "stdout",
     "output_type": "stream",
     "text": [
      "WARNING:tensorflow:Layer my_model_2 is casting an input tensor from dtype float64 to the layer's dtype of float32, which is new behavior in TensorFlow 2.  The layer has dtype float32 because its dtype defaults to floatx.\n",
      "\n",
      "If you intended to run this layer in float32, you can safely ignore this warning. If in doubt, this warning is likely only an issue if you are porting a TensorFlow 1.X model to TensorFlow 2.\n",
      "\n",
      "To change all layers to have dtype float64 by default, call `tf.keras.backend.set_floatx('float64')`. To change just this layer, pass dtype='float64' to the layer constructor. If you are the author of this layer, you can disable autocasting by passing autocast=False to the base Layer constructor.\n",
      "\n",
      "Epoch: 001\t\tLoss: 3.311863\n",
      "Epoch: 002\t\tLoss: 1.965279\n",
      "Epoch: 003\t\tLoss: 1.919165\n",
      "Epoch: 004\t\tLoss: 1.883233\n",
      "Epoch: 005\t\tLoss: 1.861961\n",
      "Epoch: 006\t\tLoss: 1.860613\n",
      "Epoch: 007\t\tLoss: 1.842500\n",
      "Epoch: 008\t\tLoss: 1.838994\n",
      "Epoch: 009\t\tLoss: 1.829128\n",
      "Epoch: 010\t\tLoss: 1.822883\n",
      "Duration :135.478\n"
     ]
    }
   ],
   "source": [
    "# Implement the training loop\n",
    "\n",
    "from tensorflow.keras.utils import to_categorical\n",
    "\n",
    "start_time = time.time()\n",
    "\n",
    "# Dataset\n",
    "train_dataset = tf.data.Dataset.from_tensor_slices((x_train, train_labels))\n",
    "train_dataset = train_dataset.batch(32)\n",
    "\n",
    "# Training History\n",
    "train_accuracy_results = []\n",
    "train_loss_results = []\n",
    "\n",
    "# Hyperparametrs\n",
    "num_epochs = 10\n",
    "weight_decay = 0.005\n",
    "\n",
    "# Training Loop\n",
    "\n",
    "for epoch in range(num_epochs):\n",
    "    epoch_loss_avg = tf.keras.metrics.Mean()\n",
    "    epoch_accuracy = tf.keras.metrics.CategoricalAccuracy()\n",
    "\n",
    "    for x,y in train_dataset:\n",
    "        loss_val, grads = grad(model, x, y, weight_decay)\n",
    "        optimizer.apply_gradients(zip(grads, model.trainable_variables))\n",
    "\n",
    "        epoch_loss_avg(loss_val)\n",
    "        epoch_accuracy(to_categorical(y), model(x))\n",
    "\n",
    "    train_loss_results.append(epoch_loss_avg.result())\n",
    "    train_accuracy_results.append(epoch_accuracy.result())\n",
    "\n",
    "    print(\"Epoch: {:03d}\\t\\tLoss: {:0.6f}\".format(epoch+1, train_loss_results[-1]))\n",
    "\n",
    "print(\"Duration :{:.3f}\".format(time.time() - start_time))"
   ]
  },
  {
   "cell_type": "markdown",
   "metadata": {
    "id": "dhhoF4t62hsx"
   },
   "source": [
    "#### Evaluate the model"
   ]
  },
  {
   "cell_type": "code",
   "execution_count": 37,
   "metadata": {
    "id": "w0eoRzTM2hsx"
   },
   "outputs": [],
   "source": [
    "# Create a Dataset object for the test set\n",
    "\n",
    "test_dataset = tf.data.Dataset.from_tensor_slices((x_test, test_labels))\n",
    "test_dataset = test_dataset.batch(32)"
   ]
  },
  {
   "cell_type": "code",
   "execution_count": 38,
   "metadata": {
    "id": "DGlZUP3m2hsx"
   },
   "outputs": [],
   "source": [
    "# Collect average loss and accuracy\n",
    "\n",
    "epoch_loss_avg = tf.keras.metrics.Mean()\n",
    "epoch_accuracy = tf.keras.metrics.CategoricalAccuracy()"
   ]
  },
  {
   "cell_type": "code",
   "execution_count": 39,
   "metadata": {
    "colab": {
     "base_uri": "https://localhost:8080/"
    },
    "id": "t7yb6IgZ2hsx",
    "outputId": "0ce3dd3d-50d2-4692-e646-70af784045b4"
   },
   "outputs": [
    {
     "name": "stdout",
     "output_type": "stream",
     "text": [
      "Test loss: 1.915\n",
      "Test accuracy: 66.251%\n"
     ]
    }
   ],
   "source": [
    "# Loop over the test set and print scores\n",
    "\n",
    "from tensorflow.keras.utils import to_categorical\n",
    "\n",
    "for x, y in test_dataset:\n",
    "    # Optimize the model\n",
    "    loss_value = loss(model, x, y, weight_decay)    \n",
    "    # Compute current loss\n",
    "    epoch_loss_avg(loss_value)  \n",
    "    # Compare predicted label to actual label\n",
    "    epoch_accuracy(to_categorical(y), model(x))\n",
    "\n",
    "print(\"Test loss: {:.3f}\".format(epoch_loss_avg.result().numpy()))\n",
    "print(\"Test accuracy: {:.3%}\".format(epoch_accuracy.result().numpy()))"
   ]
  },
  {
   "cell_type": "markdown",
   "metadata": {
    "id": "S-9HkmVl2hsx"
   },
   "source": [
    "#### Plot the learning curves"
   ]
  },
  {
   "cell_type": "code",
   "execution_count": 40,
   "metadata": {
    "colab": {
     "base_uri": "https://localhost:8080/",
     "height": 558
    },
    "id": "B62Mg4JS2hsx",
    "outputId": "f701cc95-4c82-45fe-fd82-49737a9133a6"
   },
   "outputs": [
    {
     "data": {
      "image/png": "[encoded data removed]",
      "text/plain": [
       "<Figure size 864x576 with 2 Axes>"
      ]
     },
     "metadata": {
      "needs_background": "light",
      "tags": []
     },
     "output_type": "display_data"
    }
   ],
   "source": [
    "# Plot the training loss and accuracy\n",
    "\n",
    "fig, axes = plt.subplots(2, sharex=True, figsize=(12, 8))\n",
    "fig.suptitle('Training Metrics')\n",
    "\n",
    "axes[0].set_ylabel(\"Loss\", fontsize=14)\n",
    "axes[0].plot(train_loss_results)\n",
    "\n",
    "axes[1].set_ylabel(\"Accuracy\", fontsize=14)\n",
    "axes[1].set_xlabel(\"Epoch\", fontsize=14)\n",
    "axes[1].plot(train_accuracy_results)\n",
    "plt.show()"
   ]
  },
  {
   "cell_type": "markdown",
   "metadata": {
    "id": "pa1ZbcEY2hsx"
   },
   "source": [
    "#### Predict from the model"
   ]
  },
  {
   "cell_type": "code",
   "execution_count": 41,
   "metadata": {
    "colab": {
     "base_uri": "https://localhost:8080/"
    },
    "id": "QRKt-XnU2hsx",
    "outputId": "5792fbbd-a454-41ba-c041-2c5c918af4fd"
   },
   "outputs": [
    {
     "name": "stdout",
     "output_type": "stream",
     "text": [
      "Prediction: earn\n",
      "     Label: earn\n"
     ]
    }
   ],
   "source": [
    "# Get the model prediction for an example input\n",
    "\n",
    "predicted_label = np.argmax(model(x_train[np.newaxis,0]),axis=1)[0]\n",
    "print(\"Prediction: {}\".format(class_names[predicted_label]))\n",
    "print(\"     Label: {}\".format(class_names[train_labels[0]]))"
   ]
  },
  {
   "cell_type": "markdown",
   "metadata": {
    "id": "MorxC28j2hsx"
   },
   "source": [
    "***\n",
    "<a id=\"coding_tutorial_5\"></a>\n",
    "## tf.function decorator"
   ]
  },
  {
   "cell_type": "code",
   "execution_count": 42,
   "metadata": {
    "id": "zY3BcyFq2hsx"
   },
   "outputs": [],
   "source": [
    "from tensorflow.keras.models import Model\n",
    "from tensorflow.keras.layers import Layer, Softmax\n",
    "from tensorflow.keras.utils import to_categorical\n",
    "from tensorflow.keras.datasets import reuters\n",
    "import numpy as np\n",
    "import matplotlib.pyplot as plt\n",
    "import time"
   ]
  },
  {
   "cell_type": "markdown",
   "metadata": {
    "id": "TAzhc5kO2hsx"
   },
   "source": [
    "#### Build the model"
   ]
  },
  {
   "cell_type": "code",
   "execution_count": 43,
   "metadata": {
    "id": "eQt3O5Bq2hsy"
   },
   "outputs": [],
   "source": [
    "# Initialize a new model\n",
    "\n",
    "model = MyModel(units_1 = 64,\n",
    "                units_2=64,\n",
    "                units_3=46)"
   ]
  },
  {
   "cell_type": "markdown",
   "metadata": {
    "id": "vzN9Z2It2hsy"
   },
   "source": [
    "#### Redefine the grad function using the @tf.function decorator"
   ]
  },
  {
   "cell_type": "code",
   "execution_count": 44,
   "metadata": {
    "id": "vbSJ51jO2hsy"
   },
   "outputs": [],
   "source": [
    "# Use the @tf.function decorator\n",
    "\n",
    "@tf.function\n",
    "def grad(model, inputs, targets, wd):\n",
    "    with tf.GradientTape() as tape:\n",
    "        loss_value = loss(model, inputs, targets, wd)\n",
    "    return loss_value, tape.gradient(loss_value, model.trainable_variables)"
   ]
  },
  {
   "cell_type": "markdown",
   "metadata": {
    "id": "8EeJNfYj2hsy"
   },
   "source": [
    "#### Train the model"
   ]
  },
  {
   "cell_type": "code",
   "execution_count": 45,
   "metadata": {
    "colab": {
     "base_uri": "https://localhost:8080/"
    },
    "id": "VzsjUzyr2hsy",
    "outputId": "1772bde7-c8d0-4b6b-dd80-7f4b6a3fe9d5"
   },
   "outputs": [
    {
     "name": "stdout",
     "output_type": "stream",
     "text": [
      "WARNING:tensorflow:Layer my_model_3 is casting an input tensor from dtype float64 to the layer's dtype of float32, which is new behavior in TensorFlow 2.  The layer has dtype float32 because its dtype defaults to floatx.\n",
      "\n",
      "If you intended to run this layer in float32, you can safely ignore this warning. If in doubt, this warning is likely only an issue if you are porting a TensorFlow 1.X model to TensorFlow 2.\n",
      "\n",
      "To change all layers to have dtype float64 by default, call `tf.keras.backend.set_floatx('float64')`. To change just this layer, pass dtype='float64' to the layer constructor. If you are the author of this layer, you can disable autocasting by passing autocast=False to the base Layer constructor.\n",
      "\n",
      "Epoch: 001\t\tLoss: 2.369287\n",
      "Epoch: 002\t\tLoss: 1.877493\n",
      "Epoch: 003\t\tLoss: 1.793881\n",
      "Epoch: 004\t\tLoss: 1.740616\n",
      "Epoch: 005\t\tLoss: 1.698137\n",
      "Epoch: 006\t\tLoss: 1.668248\n",
      "Epoch: 007\t\tLoss: 1.645067\n",
      "Epoch: 008\t\tLoss: 1.627515\n",
      "Epoch: 009\t\tLoss: 1.613955\n",
      "Epoch: 010\t\tLoss: 1.600988\n",
      "Duration :67.559\n"
     ]
    }
   ],
   "source": [
    "# Re-run the training loop\n",
    "\n",
    "# Implement the training loop\n",
    "\n",
    "from tensorflow.keras.utils import to_categorical\n",
    "\n",
    "start_time = time.time()\n",
    "\n",
    "# Dataset\n",
    "train_dataset = tf.data.Dataset.from_tensor_slices((x_train, train_labels))\n",
    "train_dataset = train_dataset.batch(32)\n",
    "\n",
    "# Training History\n",
    "train_accuracy_results = []\n",
    "train_loss_results = []\n",
    "\n",
    "# Hyperparametrs\n",
    "num_epochs = 10\n",
    "weight_decay = 0.005\n",
    "\n",
    "# Training Loop\n",
    "\n",
    "for epoch in range(num_epochs):\n",
    "    epoch_loss_avg = tf.keras.metrics.Mean()\n",
    "    epoch_accuracy = tf.keras.metrics.CategoricalAccuracy()\n",
    "\n",
    "    for x,y in train_dataset:\n",
    "        loss_val, grads = grad(model, x, y, weight_decay)\n",
    "        optimizer.apply_gradients(zip(grads, model.trainable_variables))\n",
    "\n",
    "        epoch_loss_avg(loss_val)\n",
    "        epoch_accuracy(to_categorical(y), model(x))\n",
    "\n",
    "    train_loss_results.append(epoch_loss_avg.result())\n",
    "    train_accuracy_results.append(epoch_accuracy.result())\n",
    "\n",
    "    print(\"Epoch: {:03d}\\t\\tLoss: {:0.6f}\".format(epoch+1, train_loss_results[-1]))\n",
    "\n",
    "print(\"Duration :{:.3f}\".format(time.time() - start_time))"
   ]
  },
  {
   "cell_type": "markdown",
   "metadata": {
    "id": "OGeN1cwM2hsy"
   },
   "source": [
    "#### Print the autograph code"
   ]
  },
  {
   "cell_type": "code",
   "execution_count": 46,
   "metadata": {
    "colab": {
     "base_uri": "https://localhost:8080/"
    },
    "id": "gWaS6-H52hsy",
    "outputId": "e80bf4b8-6237-455c-e3e3-b6b7233d45d4"
   },
   "outputs": [
    {
     "name": "stdout",
     "output_type": "stream",
     "text": [
      "def tf__grad(model, inputs, targets, wd):\n",
      "    with ag__.FunctionScope('grad', 'fscope', ag__.ConversionOptions(recursive=True, user_requested=True, optional_features=(), internal_convert_user_code=True)) as fscope:\n",
      "        do_return = False\n",
      "        retval_ = ag__.UndefinedReturnValue()\n",
      "        with ag__.ld(tf).GradientTape() as tape:\n",
      "            loss_value = ag__.converted_call(ag__.ld(loss), (ag__.ld(model), ag__.ld(inputs), ag__.ld(targets), ag__.ld(wd)), None, fscope)\n",
      "        try:\n",
      "            do_return = True\n",
      "            retval_ = (ag__.ld(loss_value), ag__.converted_call(ag__.ld(tape).gradient, (ag__.ld(loss_value), ag__.ld(model).trainable_variables), None, fscope))\n",
      "        except:\n",
      "            do_return = False\n",
      "            raise\n",
      "        return fscope.ret(retval_, do_return)\n",
      "\n"
     ]
    }
   ],
   "source": [
    "# Use tf.autograph.to_code to see the generated code\n",
    "\n",
    "print(tf.autograph.to_code(grad.python_function))"
   ]
  },
  {
   "cell_type": "code",
   "execution_count": 46,
   "metadata": {
    "id": "GC7UqE1UxzrX"
   },
   "outputs": [],
   "source": []
  }
 ],
 "metadata": {
  "accelerator": "TPU",
  "colab": {
   "name": "Coding Tutorial.ipynb",
   "provenance": []
  },
  "kernelspec": {
   "display_name": "Python 3",
   "language": "python",
   "name": "python3"
  },
  "language_info": {
   "codemirror_mode": {
    "name": "ipython",
    "version": 3
   },
   "file_extension": ".py",
   "mimetype": "text/x-python",
   "name": "python",
   "nbconvert_exporter": "python",
   "pygments_lexer": "ipython3",
   "version": "3.6.6"
  }
 },
 "nbformat": 4,
 "nbformat_minor": 1
}
