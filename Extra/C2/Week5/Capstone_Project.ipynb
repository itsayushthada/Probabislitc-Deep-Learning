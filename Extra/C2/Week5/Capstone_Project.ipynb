{
  "nbformat": 4,
  "nbformat_minor": 0,
  "metadata": {
    "kernelspec": {
      "display_name": "feedforward",
      "language": "python",
      "name": "feedforward"
    },
    "language_info": {
      "codemirror_mode": {
        "name": "ipython",
        "version": 3
      },
      "file_extension": ".py",
      "mimetype": "text/x-python",
      "name": "python",
      "nbconvert_exporter": "python",
      "pygments_lexer": "ipython3",
      "version": "3.6.9"
    },
    "colab": {
      "name": "Capstone_Project_v2.ipynb",
      "provenance": [],
      "collapsed_sections": []
    },
    "accelerator": "GPU"
  },
  "cells": [
    {
      "cell_type": "markdown",
      "metadata": {
        "id": "vsX0L1sG1iZj"
      },
      "source": [
        "# Capstone Project\n",
        "## Neural translation model\n",
        "### Instructions\n",
        "\n",
        "In this notebook, you will create a neural network that translates from English to German. You will use concepts from throughout this course, including building more flexible model architectures, freezing layers, data processing pipeline and sequence modelling.\n",
        "\n",
        "This project is peer-assessed. Within this notebook you will find instructions in each section for how to complete the project. Pay close attention to the instructions as the peer review will be carried out according to a grading rubric that checks key parts of the project instructions. Feel free to add extra cells into the notebook as required.\n",
        "\n",
        "### How to submit\n",
        "\n",
        "When you have completed the Capstone project notebook, you will submit a pdf of the notebook for peer review. First ensure that the notebook has been fully executed from beginning to end, and all of the cell outputs are visible. This is important, as the grading rubric depends on the reviewer being able to view the outputs of your notebook. Save the notebook as a pdf (you could download the notebook with File -> Download .ipynb, open the notebook locally, and then File -> Download as -> PDF via LaTeX), and then submit this pdf for review.\n",
        "\n",
        "### Let's get started!\n",
        "\n",
        "We'll start by running some imports, and loading the dataset. For this project you are free to make further imports throughout the notebook as you wish. "
      ]
    },
    {
      "cell_type": "code",
      "metadata": {
        "id": "2VyTvxPN1iZn"
      },
      "source": [
        "import tensorflow as tf\n",
        "import time\n",
        "import tensorflow_hub as hub\n",
        "import unicodedata\n",
        "import re\n",
        "from IPython.display import Image\n",
        "import numpy as np"
      ],
      "execution_count": 1,
      "outputs": []
    },
    {
      "cell_type": "markdown",
      "metadata": {
        "id": "wuIi4lAR1iZt"
      },
      "source": [
        "For the capstone project, you will use a language dataset from http://www.manythings.org/anki/ to build a neural translation model. This dataset consists of over 200,000 pairs of sentences in English and German. In order to make the training quicker, we will restrict to our dataset to 20,000 pairs. Feel free to change this if you wish - the size of the dataset used is not part of the grading rubric.\n",
        "\n",
        "Your goal is to develop a neural translation model from English to German, making use of a pre-trained English word embedding module."
      ]
    },
    {
      "cell_type": "markdown",
      "metadata": {
        "id": "pi9Dq6vv3FVO"
      },
      "source": [
        "#### Import the data\n",
        "\n",
        "The dataset is available for download as a zip file at the following link:\n",
        "\n",
        "https://drive.google.com/open?id=1KczOciG7sYY7SB9UlBeRP1T9659b121Q\n",
        "\n",
        "You should store the unzipped folder in Drive for use in this Colab notebook."
      ]
    },
    {
      "cell_type": "code",
      "metadata": {
        "id": "Bt-P40AtUaw7"
      },
      "source": [
        "from tensorflow.keras.utils import to_categorical"
      ],
      "execution_count": 2,
      "outputs": []
    },
    {
      "cell_type": "code",
      "metadata": {
        "id": "Nw99tEEQ3bKL",
        "colab": {
          "base_uri": "https://localhost:8080/"
        },
        "outputId": "9f086eaa-8c16-4e77-f8d2-25e38017f09f"
      },
      "source": [
        "# Run this cell to downlaod the data\n",
        "\n",
        "from google_drive_downloader import GoogleDriveDownloader as gdd\n",
        "\n",
        "gdd.download_file_from_google_drive(file_id='1KczOciG7sYY7SB9UlBeRP1T9659b121Q',\n",
        "                                    dest_path='/content/deu.txt',\n",
        "                                    unzip=False, \n",
        "                                    showsize=True)"
      ],
      "execution_count": 3,
      "outputs": [
        {
          "output_type": "stream",
          "text": [
            "Downloading 1KczOciG7sYY7SB9UlBeRP1T9659b121Q into /content/deu.txt... \n",
            "29.9 MiB Done.\n"
          ],
          "name": "stdout"
        }
      ]
    },
    {
      "cell_type": "code",
      "metadata": {
        "id": "o8PetPpw1iZu"
      },
      "source": [
        "# Run this cell to load the dataset\n",
        "\n",
        "NUM_EXAMPLES = 20000\n",
        "data_examples = []\n",
        "with open('/content/deu.txt', 'r', encoding='utf8') as f:\n",
        "    for line in f.readlines():\n",
        "        if len(data_examples) < NUM_EXAMPLES:\n",
        "            data_examples.append(line)\n",
        "        else:\n",
        "            break"
      ],
      "execution_count": 4,
      "outputs": []
    },
    {
      "cell_type": "code",
      "metadata": {
        "id": "JumLjJ631iZy"
      },
      "source": [
        "# These functions preprocess English and German sentences\n",
        "\n",
        "def unicode_to_ascii(s):\n",
        "    return ''.join(c for c in unicodedata.normalize('NFD', s) if unicodedata.category(c) != 'Mn')\n",
        "\n",
        "def preprocess_sentence(sentence):\n",
        "    sentence = sentence.lower().strip()\n",
        "    sentence = re.sub(r\"ü\", 'ue', sentence)\n",
        "    sentence = re.sub(r\"ä\", 'ae', sentence)\n",
        "    sentence = re.sub(r\"ö\", 'oe', sentence)\n",
        "    sentence = re.sub(r'ß', 'ss', sentence)\n",
        "    \n",
        "    sentence = unicode_to_ascii(sentence)\n",
        "    sentence = re.sub(r\"([?.!,])\", r\" \\1 \", sentence)\n",
        "    sentence = re.sub(r\"[^a-z?.!,']+\", \" \", sentence)\n",
        "    sentence = re.sub(r'[\" \"]+', \" \", sentence)\n",
        "    \n",
        "    return sentence.strip()"
      ],
      "execution_count": 5,
      "outputs": []
    },
    {
      "cell_type": "markdown",
      "metadata": {
        "id": "XFJap-TW1iZ2"
      },
      "source": [
        "#### The custom translation model\n",
        "The following is a schematic of the custom translation model architecture you will develop in this project."
      ]
    },
    {
      "cell_type": "code",
      "metadata": {
        "id": "gBF1K2JN4RFJ",
        "colab": {
          "base_uri": "https://localhost:8080/",
          "height": 648
        },
        "outputId": "804ec065-49b2-49ee-dd92-93ad7e9dbf51"
      },
      "source": [
        "# Run this cell to download and view a schematic diagram for the neural translation model\n",
        "\n",
        "!wget -q -O neural_translation_model.png --no-check-certificate \"https://docs.google.com/uc?export=download&id=1XsS1VlXoaEo-RbYNilJ9jcscNZvsSPmd\"\n",
        "Image(\"neural_translation_model.png\")"
      ],
      "execution_count": 6,
      "outputs": [
        {
          "output_type": "execute_result",
          "data": {
            "image/png": "[encoded data removed]",
            "text/plain": [
              "<IPython.core.display.Image object>"
            ]
          },
          "metadata": {
            "tags": []
          },
          "execution_count": 6
        }
      ]
    },
    {
      "cell_type": "markdown",
      "metadata": {
        "id": "0fP7P-yK4RS7"
      },
      "source": [
        "The custom model consists of an encoder RNN and a decoder RNN. The encoder takes words of an English sentence as input, and uses a pre-trained word embedding to embed the words into a 128-dimensional space. To indicate the end of the input sentence, a special end token (in the same 128-dimensional space) is passed in as an input. This token is a TensorFlow Variable that is learned in the training phase (unlike the pre-trained word embedding, which is frozen).\n",
        "\n",
        "The decoder RNN takes the internal state of the encoder network as its initial state. A start token is passed in as the first input, which is embedded using a learned German word embedding. The decoder RNN then makes a prediction for the next German word, which during inference is then passed in as the following input, and this process is repeated until the special `<end>` token is emitted from the decoder."
      ]
    },
    {
      "cell_type": "markdown",
      "metadata": {
        "id": "z70nu6_01iZ3"
      },
      "source": [
        "## 1. Text preprocessing\n",
        "* Create separate lists of English and German sentences, and preprocess them using the `preprocess_sentence` function provided for you above.\n",
        "* Add a special `\"<start>\"` and `\"<end>\"` token to the beginning and end of every German sentence.\n",
        "* Use the Tokenizer class from the `tf.keras.preprocessing.text` module to tokenize the German sentences, ensuring that no character filters are applied. _Hint: use the Tokenizer's \"filter\" keyword argument._\n",
        "* Print out at least 5 randomly chosen examples of (preprocessed) English and German sentence pairs. For the German sentence, print out the text (with start and end tokens) as well as the tokenized sequence.\n",
        "* Pad the end of the tokenized German sequences with zeros, and batch the complete set of sequences into one numpy array."
      ]
    },
    {
      "cell_type": "code",
      "metadata": {
        "id": "5UlnBdIK1iaE"
      },
      "source": [
        "# The vocublory sizze in my case if different form other participants.\n",
        "# Becasue I have adjusting the terminating symbol of german sentence by english sentence.\n",
        "# Because in many palces symbols were totally aweful. In many palces inpalce of <period>\n",
        "# exclamation symbol was used.\n",
        "\n",
        "german_sentences = []\n",
        "english_sentences = []\n",
        "\n",
        "for x in data_examples:\n",
        "    eng, ger, _ = x.split(\"\\t\")\n",
        "    eng = preprocess_sentence(eng.strip())\n",
        "    ger = ger.strip()\n",
        "    # Adjusting the terminating symbol of german sentence by english sentence.\n",
        "    ger = \"<start> \" + preprocess_sentence(ger[:-1] + eng[-1]) + \" <end>\"\n",
        "    english_sentences.append(eng)\n",
        "    german_sentences.append(ger)\n",
        "\n",
        "english_sentences = np.array(english_sentences)\n",
        "german_sentences = np.array(german_sentences)"
      ],
      "execution_count": 7,
      "outputs": []
    },
    {
      "cell_type": "code",
      "metadata": {
        "id": "xjnaNixJEYXb"
      },
      "source": [
        "tokenizer = tf.keras.preprocessing.text.Tokenizer(num_words=None, \n",
        "                                                  filters=\"\", \n",
        "                                                  lower=True, \n",
        "                                                  split=\" \", \n",
        "                                                  char_level=False)"
      ],
      "execution_count": 8,
      "outputs": []
    },
    {
      "cell_type": "code",
      "metadata": {
        "id": "vnA9AOrUEYam"
      },
      "source": [
        "# Build the Tokenizer's Vocabulary\n",
        "\n",
        "tokenizer.fit_on_texts(german_sentences)"
      ],
      "execution_count": 9,
      "outputs": []
    },
    {
      "cell_type": "code",
      "metadata": {
        "colab": {
          "base_uri": "https://localhost:8080/"
        },
        "id": "_upuaVP9EYet",
        "outputId": "560bf831-40a1-4367-a55d-7c7ce1826289"
      },
      "source": [
        "for _ in range(5):\n",
        "    idx = np.random.randint(len(german_sentences))\n",
        "    print(\"ENG: {}\\nGER: {}\\nGER_TOK: {}\\n\\n\".format(english_sentences[idx],\n",
        "                                                     german_sentences[idx], \n",
        "                                                     tokenizer.texts_to_sequences([german_sentences[idx]])[0]))"
      ],
      "execution_count": 10,
      "outputs": [
        {
          "output_type": "stream",
          "text": [
            "ENG: we work together .\n",
            "GER: <start> wir arbeiten zusammen . <end>\n",
            "GER_TOK: [1, 16, 252, 564, 3, 2]\n",
            "\n",
            "\n",
            "ENG: i'll get that .\n",
            "GER: <start> ich werde das bekommen . <end>\n",
            "GER_TOK: [1, 4, 39, 10, 347, 3, 2]\n",
            "\n",
            "\n",
            "ENG: tom called you .\n",
            "GER: <start> tom hat dich angerufen . <end>\n",
            "GER_TOK: [1, 5, 15, 28, 244, 3, 2]\n",
            "\n",
            "\n",
            "ENG: you must tell us .\n",
            "GER: <start> sie muessen es uns sagen . <end>\n",
            "GER_TOK: [1, 8, 173, 9, 31, 220, 3, 2]\n",
            "\n",
            "\n",
            "ENG: where's my food ?\n",
            "GER: <start> wo ist mein essen ? <end>\n",
            "GER_TOK: [1, 83, 6, 50, 154, 7, 2]\n",
            "\n",
            "\n"
          ],
          "name": "stdout"
        }
      ]
    },
    {
      "cell_type": "code",
      "metadata": {
        "id": "vTE0ze5bHmcO"
      },
      "source": [
        "# Padding the German Sentence Token's List with 0.\n",
        "\n",
        "ger_data = tokenizer.texts_to_sequences(german_sentences)\n",
        "ger_data = tf.keras.preprocessing.sequence.pad_sequences(sequences=ger_data, padding=\"post\")"
      ],
      "execution_count": 11,
      "outputs": []
    },
    {
      "cell_type": "code",
      "metadata": {
        "colab": {
          "base_uri": "https://localhost:8080/"
        },
        "id": "v1txe_4rI8Ps",
        "outputId": "ea904daf-bc45-40d3-de9f-d38a0d5211e7"
      },
      "source": [
        "type(ger_data), ger_data.shape"
      ],
      "execution_count": 12,
      "outputs": [
        {
          "output_type": "execute_result",
          "data": {
            "text/plain": [
              "(numpy.ndarray, (20000, 14))"
            ]
          },
          "metadata": {
            "tags": []
          },
          "execution_count": 12
        }
      ]
    },
    {
      "cell_type": "markdown",
      "metadata": {
        "id": "foL7Ihs21iaP"
      },
      "source": [
        "## 2. Prepare the data"
      ]
    },
    {
      "cell_type": "markdown",
      "metadata": {
        "id": "-9rCEE4z1iaQ"
      },
      "source": [
        "#### Load the embedding layer\n",
        "As part of the dataset preproceessing for this project, you will use a pre-trained English word embedding module from TensorFlow Hub. The URL for the module is https://tfhub.dev/google/tf2-preview/nnlm-en-dim128-with-normalization/1.\n",
        "\n",
        "This embedding takes a batch of text tokens in a 1-D tensor of strings as input. It then embeds the separate tokens into a 128-dimensional space. \n",
        "\n",
        "The code to load and test the embedding layer is provided for you below.\n",
        "\n",
        "**NB:** this model can also be used as a sentence embedding module. The module will process each token by removing punctuation and splitting on spaces. It then averages the word embeddings over a sentence to give a single embedding vector. However, we will use it only as a word embedding module, and will pass each word in the input sentence as a separate token."
      ]
    },
    {
      "cell_type": "code",
      "metadata": {
        "id": "OepHhKpBME2l"
      },
      "source": [
        "embedding_dim = 128"
      ],
      "execution_count": 13,
      "outputs": []
    },
    {
      "cell_type": "code",
      "metadata": {
        "id": "ywZgobCh1iaR"
      },
      "source": [
        "# Load embedding module from Tensorflow Hub\n",
        "\n",
        "embedding_layer = hub.KerasLayer(\"https://tfhub.dev/google/tf2-preview/nnlm-en-dim128/1\", \n",
        "                                 output_shape=[embedding_dim], \n",
        "                                 input_shape=[], \n",
        "                                 dtype=tf.string)"
      ],
      "execution_count": 14,
      "outputs": []
    },
    {
      "cell_type": "code",
      "metadata": {
        "id": "TiY8QEDp1iaV",
        "colab": {
          "base_uri": "https://localhost:8080/"
        },
        "outputId": "c6421acf-5410-4d37-fbe1-b724fba85eaa"
      },
      "source": [
        "# Test the layer\n",
        "\n",
        "embedding_layer(tf.constant([\"these\", \"aren't\", \"the\", \"droids\", \"you're\", \"looking\", \"for\"])).shape"
      ],
      "execution_count": 15,
      "outputs": [
        {
          "output_type": "execute_result",
          "data": {
            "text/plain": [
              "TensorShape([7, 128])"
            ]
          },
          "metadata": {
            "tags": []
          },
          "execution_count": 15
        }
      ]
    },
    {
      "cell_type": "markdown",
      "metadata": {
        "id": "KjuzXc-z1iaY"
      },
      "source": [
        "You should now prepare the training and validation Datasets.\n",
        "\n",
        "* Create a random training and validation set split of the data, reserving e.g. 20% of the data for validation (NB: each English dataset example is a single sentence string, and each German dataset example is a sequence of padded integer tokens).\n",
        "* Load the training and validation sets into a tf.data.Dataset object, passing in a tuple of English and German data for both training and validation sets.\n",
        "* Create a function to map over the datasets that splits each English sentence at spaces. Apply this function to both Dataset objects using the map method. _Hint: look at the tf.strings.split function._\n",
        "* Create a function to map over the datasets that embeds each sequence of English words using the loaded embedding layer/model. Apply this function to both Dataset objects using the map method.\n",
        "* Create a function to filter out dataset examples where the English sentence is greater than or equal to than 13 (embedded) tokens in length. Apply this function to both Dataset objects using the filter method.\n",
        "* Create a function to map over the datasets that pads each English sequence of embeddings with some distinct padding value before the sequence, so that each sequence is length 13. Apply this function to both Dataset objects using the map method. _Hint: look at the tf.pad function. You can extract a Tensor shape using tf.shape; you might also find the tf.math.maximum function useful._\n",
        "* Batch both training and validation Datasets with a batch size of 16.\n",
        "* Print the `element_spec` property for the training and validation Datasets. \n",
        "* Using the Dataset `.take(1)` method, print the shape of the English data example from the training Dataset.\n",
        "* Using the Dataset `.take(1)` method, print the German data example Tensor from the validation Dataset."
      ]
    },
    {
      "cell_type": "code",
      "metadata": {
        "id": "Q-BUJOl_1iaZ"
      },
      "source": [
        "from sklearn.model_selection import train_test_split"
      ],
      "execution_count": 16,
      "outputs": []
    },
    {
      "cell_type": "code",
      "metadata": {
        "id": "4w6rM8Bl1iad"
      },
      "source": [
        "x_train, x_val, y_train, y_val  = train_test_split(english_sentences, ger_data, test_size=.20)"
      ],
      "execution_count": 17,
      "outputs": []
    },
    {
      "cell_type": "code",
      "metadata": {
        "id": "q0Fdso381ian"
      },
      "source": [
        "train_dataset = tf.data.Dataset.from_tensor_slices((x_train, y_train))\n",
        "valid_dataset = tf.data.Dataset.from_tensor_slices((x_val, y_val))"
      ],
      "execution_count": 18,
      "outputs": []
    },
    {
      "cell_type": "code",
      "metadata": {
        "id": "bGqlxuqZ1ias",
        "colab": {
          "base_uri": "https://localhost:8080/"
        },
        "outputId": "d112181e-66f5-457d-8060-6e3d0b4640ff"
      },
      "source": [
        "# Training Dataset Specifications\n",
        "\n",
        "print(train_dataset.element_spec)\n",
        "print(tf.data.experimental.cardinality(train_dataset))"
      ],
      "execution_count": 19,
      "outputs": [
        {
          "output_type": "stream",
          "text": [
            "(TensorSpec(shape=(), dtype=tf.string, name=None), TensorSpec(shape=(14,), dtype=tf.int32, name=None))\n",
            "tf.Tensor(16000, shape=(), dtype=int64)\n"
          ],
          "name": "stdout"
        }
      ]
    },
    {
      "cell_type": "code",
      "metadata": {
        "colab": {
          "base_uri": "https://localhost:8080/"
        },
        "id": "FF4vvguOMTN-",
        "outputId": "2a2ac9fc-8c28-41f6-90f1-ab497babeaa9"
      },
      "source": [
        "# Validation Dataset Specification\n",
        "\n",
        "print(valid_dataset.element_spec)\n",
        "print(tf.data.experimental.cardinality(valid_dataset))"
      ],
      "execution_count": 20,
      "outputs": [
        {
          "output_type": "stream",
          "text": [
            "(TensorSpec(shape=(), dtype=tf.string, name=None), TensorSpec(shape=(14,), dtype=tf.int32, name=None))\n",
            "tf.Tensor(4000, shape=(), dtype=int64)\n"
          ],
          "name": "stdout"
        }
      ]
    },
    {
      "cell_type": "code",
      "metadata": {
        "id": "Xd6lyiFWqcs7"
      },
      "source": [
        "def DatasetPreprocessinng(dataset, batch_size=16, shuffle=False, buffer_size=100):\n",
        "    # Shuffle Dataset\n",
        "    if shuffle:\n",
        "        dataset = dataset.shuffle(buffer_size)\n",
        "\n",
        "    # English Sentences Splitting\n",
        "    dataset = dataset.map(lambda x,y: (tf.strings.split(input=x, sep=\" \"), y))\n",
        "\n",
        "    # Filtering out English Sentence of length greater than 13.\n",
        "    dataset = dataset.filter(lambda x,y: len(x)<13)\n",
        "\n",
        "    # Creating Embedding of English Sentences\n",
        "    dataset = dataset.map(lambda x,y: (embedding_layer(x), y))\n",
        "\n",
        "    # Padding English Sentences.\n",
        "    dataset = dataset.map(lambda x,y: (tf.pad(x, [[13-len(x),0],[0,0]], \"CONSTANT\"), y))\n",
        "\n",
        "    # Batching\n",
        "    if batch_size is not None:\n",
        "        dataset = dataset.batch(batch_size=batch_size)\n",
        "\n",
        "    return dataset"
      ],
      "execution_count": 21,
      "outputs": []
    },
    {
      "cell_type": "code",
      "metadata": {
        "id": "625Vw5TYsMqm"
      },
      "source": [
        "train_dataset = DatasetPreprocessinng(train_dataset, batch_size=16, shuffle=True, buffer_size=100)\n",
        "valid_dataset = DatasetPreprocessinng(valid_dataset, batch_size=16, shuffle=True, buffer_size=100)"
      ],
      "execution_count": 22,
      "outputs": []
    },
    {
      "cell_type": "code",
      "metadata": {
        "colab": {
          "base_uri": "https://localhost:8080/"
        },
        "id": "46aQhPryg62t",
        "outputId": "c8ec345c-ea2c-4815-bb58-a591e368f465"
      },
      "source": [
        "# Post Processing Specifications\n",
        "\n",
        "print(train_dataset.element_spec)\n",
        "print(valid_dataset.element_spec)"
      ],
      "execution_count": 23,
      "outputs": [
        {
          "output_type": "stream",
          "text": [
            "(TensorSpec(shape=(None, None, 128), dtype=tf.float32, name=None), TensorSpec(shape=(None, 14), dtype=tf.int32, name=None))\n",
            "(TensorSpec(shape=(None, None, 128), dtype=tf.float32, name=None), TensorSpec(shape=(None, 14), dtype=tf.int32, name=None))\n"
          ],
          "name": "stdout"
        }
      ]
    },
    {
      "cell_type": "code",
      "metadata": {
        "colab": {
          "base_uri": "https://localhost:8080/"
        },
        "id": "AMNruLQ5LK9-",
        "outputId": "6e25e324-d56e-477a-ffe8-96cc857eab8d"
      },
      "source": [
        "_, y = list(train_dataset.take(1))[0]\n",
        "print(y)"
      ],
      "execution_count": 24,
      "outputs": [
        {
          "output_type": "stream",
          "text": [
            "tf.Tensor(\n",
            "[[   1    4   17   11  947    3    2    0    0    0    0    0    0    0]\n",
            " [   1 1065   76 1249    6 4140    3    2    0    0    0    0    0    0]\n",
            " [   1 4903  172   40 4904    3    2    0    0    0    0    0    0    0]\n",
            " [   1   32   12 1075    7    2    0    0    0    0    0    0    0    0]\n",
            " [   1  984   20    3    2    0    0    0    0    0    0    0    0    0]\n",
            " [   1 3220    9    3    2    0    0    0    0    0    0    0    0    0]\n",
            " [   1   16   22   29    8 2237    3    2    0    0    0    0    0    0]\n",
            " [   1   13 1865  127    3    2    0    0    0    0    0    0    0    0]\n",
            " [   1    5   48 1591    3    2    0    0    0    0    0    0    0    0]\n",
            " [   1   13    6 2027    3    2    0    0    0    0    0    0    0    0]\n",
            " [   1 3173   10    3    2    0    0    0    0    0    0    0    0    0]\n",
            " [   1    4   17  103 1425 4242    3    2    0    0    0    0    0    0]\n",
            " [   1  285    7    2    0    0    0    0    0    0    0    0    0    0]\n",
            " [   1    8   23  273    3    2    0    0    0    0    0    0    0    0]\n",
            " [   1   13   51 1641    3    2    0    0    0    0    0    0    0    0]\n",
            " [   1    4   14 2048    3    2    0    0    0    0    0    0    0    0]], shape=(16, 14), dtype=int32)\n"
          ],
          "name": "stdout"
        }
      ]
    },
    {
      "cell_type": "code",
      "metadata": {
        "colab": {
          "base_uri": "https://localhost:8080/"
        },
        "id": "UBK2b-QLhKnp",
        "outputId": "025dda2c-f42e-45a2-a4f6-5069c0e19d1c"
      },
      "source": [
        "for x,y in iter(train_dataset.take(1)):\n",
        "    print(\"TRAIN: English Sentence\", x.shape)\n",
        "    print(\"TRAIN: German Sentence\", y.shape)\n",
        "print()\n",
        "for x,y in iter(valid_dataset.take(1)):\n",
        "    print(\"VALIDATION: English Sentence\", x.shape)\n",
        "    print(\"VALIDATION: German Sentence\", y.shape)"
      ],
      "execution_count": 25,
      "outputs": [
        {
          "output_type": "stream",
          "text": [
            "TRAIN: English Sentence (16, 13, 128)\n",
            "TRAIN: German Sentence (16, 14)\n",
            "\n",
            "VALIDATION: English Sentence (16, 13, 128)\n",
            "VALIDATION: German Sentence (16, 14)\n"
          ],
          "name": "stdout"
        }
      ]
    },
    {
      "cell_type": "markdown",
      "metadata": {
        "id": "isIYhjq01iay"
      },
      "source": [
        "## 3. Create the custom layer\n",
        "You will now create a custom layer to add the learned end token embedding to the encoder model:"
      ]
    },
    {
      "cell_type": "code",
      "metadata": {
        "id": "e22f1Xyh6xvE",
        "colab": {
          "base_uri": "https://localhost:8080/",
          "height": 423
        },
        "outputId": "aba56427-be43-45cf-f20a-0a5f443b300c"
      },
      "source": [
        "# Run this cell to download and view a schematic diagram for the encoder model\n",
        "\n",
        "!wget -q -O neural_translation_model.png --no-check-certificate \"https://docs.google.com/uc?export=download&id=1JrtNOzUJDaOWrK4C-xv-4wUuZaI12sQI\"\n",
        "Image(\"neural_translation_model.png\")"
      ],
      "execution_count": 26,
      "outputs": [
        {
          "output_type": "execute_result",
          "data": {
            "image/png": "[encoded data removed]",
            "text/plain": [
              "<IPython.core.display.Image object>"
            ]
          },
          "metadata": {
            "tags": []
          },
          "execution_count": 26
        }
      ]
    },
    {
      "cell_type": "markdown",
      "metadata": {
        "id": "M6gLIHG81iaz"
      },
      "source": [
        "You should now build the custom layer.\n",
        "* Using layer subclassing, create a custom layer that takes a batch of English data examples from one of the Datasets, and adds a learned embedded ‘end’ token to the end of each sequence. \n",
        "* This layer should create a TensorFlow Variable (that will be learned during training) that is 128-dimensional (the size of the embedding space). _Hint: you may find it helpful in the call method to use the tf.tile function to replicate the end token embedding across every element in the batch._\n",
        "* Using the Dataset `.take(1)` method, extract a batch of English data examples from the training Dataset and print the shape. Test the custom layer by calling the layer on the English data batch Tensor and print the resulting Tensor shape (the layer should increase the sequence length by one)."
      ]
    },
    {
      "cell_type": "code",
      "metadata": {
        "id": "B9O7NJrri1_9"
      },
      "source": [
        "from tensorflow.keras.layers import Layer"
      ],
      "execution_count": 27,
      "outputs": []
    },
    {
      "cell_type": "code",
      "metadata": {
        "id": "yg9hjZz11ia0"
      },
      "source": [
        "# Layer to append trainable embedding for <END> token in input data.\n",
        "\n",
        "class DelimiterLayer(Layer):\n",
        "    def __init__(self, **kwargs):\n",
        "        super(DelimiterLayer, self).__init__(**kwargs)\n",
        "\n",
        "    def build(self, input_shape):\n",
        "        self.END = self.add_weight(shape=(1, input_shape[-1]), initializer=\"random_normal\", trainable=True)\n",
        "\n",
        "    def call(self, inputs):\n",
        "        return tf.concat(values = [inputs, \n",
        "                                   tf.tile(self.END, tf.constant([inputs.shape[0],1]))[:,np.newaxis,:]\n",
        "                                   ], \n",
        "                         axis=1)\n",
        "        #return tf.map_fn(lambda x: tf.concat([x,self.END], axis=0), inputs)"
      ],
      "execution_count": 28,
      "outputs": []
    },
    {
      "cell_type": "code",
      "metadata": {
        "id": "mOCxwIYQnudk"
      },
      "source": [
        "# Instantiating a Layer Object\n",
        "\n",
        "sample_delim_layer = DelimiterLayer()"
      ],
      "execution_count": 29,
      "outputs": []
    },
    {
      "cell_type": "code",
      "metadata": {
        "colab": {
          "base_uri": "https://localhost:8080/"
        },
        "id": "OpcLrDNXnWEX",
        "outputId": "eb93331c-4073-4ef9-d495-c73a73c5ec73"
      },
      "source": [
        "# Sampling a Batch from Dataset to test working of Layer.\n",
        "\n",
        "sample_x, _ = list(train_dataset.take(1))[0]\n",
        "\n",
        "print(\"Sample Shape Before Layer Passage:\", sample_x.shape)\n",
        "print(\"Sample Shape After Layer Passage:\", sample_delim_layer(sample_x).shape)"
      ],
      "execution_count": 30,
      "outputs": [
        {
          "output_type": "stream",
          "text": [
            "Sample Shape Before Layer Passage: (16, 13, 128)\n",
            "Sample Shape After Layer Passage: (16, 14, 128)\n"
          ],
          "name": "stdout"
        }
      ]
    },
    {
      "cell_type": "markdown",
      "metadata": {
        "id": "OAd3i4_y1ia-"
      },
      "source": [
        "## 4. Build the encoder network\n",
        "The encoder network follows the schematic diagram above. You should now build the RNN encoder model.\n",
        "* Using the functional API, build the encoder network according to the following spec:\n",
        "    * The model will take a batch of sequences of embedded English words as input, as given by the Dataset objects.\n",
        "    * The next layer in the encoder will be the custom layer you created previously, to add a learned end token embedding to the end of the English sequence.\n",
        "    * This is followed by a Masking layer, with the `mask_value` set to the distinct padding value you used when you padded the English sequences with the Dataset preprocessing above.\n",
        "    * The final layer is an LSTM layer with 512 units, which also returns the hidden and cell states.\n",
        "    * The encoder is a multi-output model. There should be two output Tensors of this model: the hidden state and cell states of the LSTM layer. The output of the LSTM layer is unused.\n",
        "* Using the Dataset `.take(1)` method, extract a batch of English data examples from the training Dataset and test the encoder model by calling it on the English data Tensor, and print the shape of the resulting Tensor outputs.\n",
        "* Print the model summary for the encoder network."
      ]
    },
    {
      "cell_type": "code",
      "metadata": {
        "id": "hobw088Xpxge"
      },
      "source": [
        "from tensorflow.keras import layers, models"
      ],
      "execution_count": 31,
      "outputs": []
    },
    {
      "cell_type": "code",
      "metadata": {
        "id": "6R2LqbfV1ia_"
      },
      "source": [
        "def Encoder(input_shape, batch_size=None):\n",
        "    inputs = layers.Input(shape=input_shape,\n",
        "                          batch_size=batch_size)\n",
        "    h = DelimiterLayer()(inputs)\n",
        "    h = layers.Masking(mask_value=0)(h)\n",
        "    _, hidden, cell = layers.LSTM(units=512, \n",
        "                                  return_sequences=True, \n",
        "                                  stateful=False, \n",
        "                                  return_state=True)(h)\n",
        "\n",
        "    model = models.Model(inputs=inputs, outputs=[hidden, cell])\n",
        "    return model"
      ],
      "execution_count": 32,
      "outputs": []
    },
    {
      "cell_type": "code",
      "metadata": {
        "id": "zMwP01D_tpto"
      },
      "source": [
        "input_shape = (13, 128) #(Max Sentence Length, Embedding Dimension)\n",
        "batch_size = 16"
      ],
      "execution_count": 33,
      "outputs": []
    },
    {
      "cell_type": "code",
      "metadata": {
        "id": "e5XW6NxL1ibC"
      },
      "source": [
        "encoder = Encoder(input_shape, batch_size)"
      ],
      "execution_count": 34,
      "outputs": []
    },
    {
      "cell_type": "code",
      "metadata": {
        "colab": {
          "base_uri": "https://localhost:8080/"
        },
        "id": "Vz53q3fa_5Gh",
        "outputId": "6c6dc831-69c7-4b4d-cb6a-e3d11ed9a87a"
      },
      "source": [
        "# Sampling a Batch from Dataset to test working of Encoder.\n",
        "\n",
        "sample_x, _ = list(train_dataset.take(1))[0]\n",
        "\n",
        "print(\"Shape Before Passing through Encoder:\", sample_x.shape)\n",
        "\n",
        "encoder_output = encoder(sample_x)\n",
        "print(\"Shape After Passing through Encoder:\", [encoder_output[0].shape, encoder_output[1].shape])"
      ],
      "execution_count": 35,
      "outputs": [
        {
          "output_type": "stream",
          "text": [
            "Shape Before Passing through Encoder: (16, 13, 128)\n",
            "Shape After Passing through Encoder: [TensorShape([16, 512]), TensorShape([16, 512])]\n"
          ],
          "name": "stdout"
        }
      ]
    },
    {
      "cell_type": "code",
      "metadata": {
        "colab": {
          "base_uri": "https://localhost:8080/"
        },
        "id": "1xmElEzxxuY4",
        "outputId": "033cbb4d-4be6-4264-9b66-acb63735f579"
      },
      "source": [
        "encoder.summary()"
      ],
      "execution_count": 36,
      "outputs": [
        {
          "output_type": "stream",
          "text": [
            "Model: \"functional_1\"\n",
            "_________________________________________________________________\n",
            "Layer (type)                 Output Shape              Param #   \n",
            "=================================================================\n",
            "input_1 (InputLayer)         [(16, 13, 128)]           0         \n",
            "_________________________________________________________________\n",
            "delimiter_layer_1 (Delimiter (16, 14, 128)             128       \n",
            "_________________________________________________________________\n",
            "masking (Masking)            (16, 14, 128)             0         \n",
            "_________________________________________________________________\n",
            "lstm (LSTM)                  [(16, 14, 512), (16, 512) 1312768   \n",
            "=================================================================\n",
            "Total params: 1,312,896\n",
            "Trainable params: 1,312,896\n",
            "Non-trainable params: 0\n",
            "_________________________________________________________________\n"
          ],
          "name": "stdout"
        }
      ]
    },
    {
      "cell_type": "markdown",
      "metadata": {
        "id": "KvkzpCeZ1ibR"
      },
      "source": [
        "## 5. Build the decoder network\n",
        "The decoder network follows the schematic diagram below. "
      ]
    },
    {
      "cell_type": "code",
      "metadata": {
        "id": "yOjEb7cH7Y4S",
        "colab": {
          "base_uri": "https://localhost:8080/",
          "height": 501
        },
        "outputId": "5b887a5c-846f-4879-e700-2b95c8103664"
      },
      "source": [
        "# Run this cell to download and view a schematic diagram for the decoder model\n",
        "\n",
        "!wget -q -O neural_translation_model.png --no-check-certificate \"https://docs.google.com/uc?export=download&id=1DTeaXD8tA8RjkpVrB2mr9csSBOY4LQiW\"\n",
        "Image(\"neural_translation_model.png\")"
      ],
      "execution_count": 37,
      "outputs": [
        {
          "output_type": "execute_result",
          "data": {
            "image/png": "[encoded data removed]",
            "text/plain": [
              "<IPython.core.display.Image object>"
            ]
          },
          "metadata": {
            "tags": []
          },
          "execution_count": 37
        }
      ]
    },
    {
      "cell_type": "markdown",
      "metadata": {
        "id": "VPBK8WGL1ibS"
      },
      "source": [
        "You should now build the RNN decoder model.\n",
        "* Using Model subclassing, build the decoder network according to the following spec:\n",
        "    * The initializer should create the following layers:\n",
        "        * An Embedding layer with vocabulary size set to the number of unique German tokens, embedding dimension 128, and set to mask zero values in the input.\n",
        "        * An LSTM layer with 512 units, that returns its hidden and cell states, and also returns sequences.\n",
        "        * A Dense layer with number of units equal to the number of unique German tokens, and no activation function.\n",
        "    * The call method should include the usual `inputs` argument, as well as the additional keyword arguments `hidden_state` and `cell_state`. The default value for these keyword arguments should be `None`.\n",
        "    * The call method should pass the inputs through the Embedding layer, and then through the LSTM layer. If the `hidden_state` and `cell_state` arguments are provided, these should be used for the initial state of the LSTM layer. _Hint: use the_ `initial_state` _keyword argument when calling the LSTM layer on its input._\n",
        "    * The call method should pass the LSTM output sequence through the Dense layer, and return the resulting Tensor, along with the hidden and cell states of the LSTM layer.\n",
        "* Using the Dataset `.take(1)` method, extract a batch of English and German data examples from the training Dataset. Test the decoder model by first calling the encoder model on the English data Tensor to get the hidden and cell states, and then call the decoder model on the German data Tensor and hidden and cell states, and print the shape of the resulting decoder Tensor outputs.\n",
        "* Print the model summary for the decoder network."
      ]
    },
    {
      "cell_type": "code",
      "metadata": {
        "id": "l50qhnXD1ibT"
      },
      "source": [
        "class Decoder(models.Model):\n",
        "    def __init__(self, vocab_size, embedding_dim, batch_size, **kwargs):\n",
        "        super(Decoder, self).__init__(**kwargs)\n",
        "        self.embed = layers.Embedding(input_dim=vocab_size, \n",
        "                                      output_dim=embedding_dim, \n",
        "                                      mask_zero=True, \n",
        "                                      batch_size = batch_size)\n",
        "        self.lstm = layers.LSTM(units=512, \n",
        "                                return_sequences=True, \n",
        "                                stateful=False, \n",
        "                                return_state=True)\n",
        "        self.dense = layers.Dense(units=vocab_size)\n",
        "    \n",
        "    def call(self, inputs, hidden_state=None, cell_state=None):\n",
        "        h = self.embed(inputs)\n",
        "        if hidden_state is not None and cell_state is not None:\n",
        "            h, hidden_state, cell_state = self.lstm(inputs=h, initial_state=[hidden_state, cell_state])\n",
        "        else:\n",
        "            h, hidden_state, cell_state = self.lstm(inputs=h)\n",
        "        h = self.dense(h)\n",
        "        return h, hidden_state, cell_state"
      ],
      "execution_count": 38,
      "outputs": []
    },
    {
      "cell_type": "code",
      "metadata": {
        "id": "BRDU4p0M9_69",
        "colab": {
          "base_uri": "https://localhost:8080/"
        },
        "outputId": "d191c562-045c-4a58-a7a0-b41845283ebc"
      },
      "source": [
        "# Defining reuired Hyperparameters.\n",
        "\n",
        "vocab_size = len(tokenizer.word_index.values())+1\n",
        "\n",
        "print(\"Vocabulary Size: {}\\nEmbedding Size: {}\".format(vocab_size, embedding_dim))"
      ],
      "execution_count": 39,
      "outputs": [
        {
          "output_type": "stream",
          "text": [
            "Vocabulary Size: 5747\n",
            "Embedding Size: 128\n"
          ],
          "name": "stdout"
        }
      ]
    },
    {
      "cell_type": "code",
      "metadata": {
        "id": "Xiz8Oyuw-HBi"
      },
      "source": [
        "# Instiating an object of Decoder class.\n",
        "\n",
        "decoder = Decoder(vocab_size, embedding_dim, batch_size)"
      ],
      "execution_count": 40,
      "outputs": []
    },
    {
      "cell_type": "code",
      "metadata": {
        "colab": {
          "base_uri": "https://localhost:8080/"
        },
        "id": "B0ovzZBz-HJI",
        "outputId": "0342f459-71cf-4675-f434-177298d34e2d"
      },
      "source": [
        "# Sampling a Batch from Dataset to test working of Encoder.\n",
        "\n",
        "sample_x, sample_y = list(train_dataset.take(1))[0]\n",
        "print(\"Shape Before Passing through Encoder:\", sample_x.shape)\n",
        "\n",
        "encoder_output = encoder(sample_x)\n",
        "print(\"Shape After Passing through Encoder:\", [encoder_output[0].shape, encoder_output[1].shape])\n",
        "\n",
        "decoder_output = decoder(sample_y[:,:-1], encoder_output[0], encoder_output[1])\n",
        "print(\"Shape After Passing through Decoder:\", [decoder_output[0].shape, decoder_output[1].shape, decoder_output[2].shape])\n"
      ],
      "execution_count": 41,
      "outputs": [
        {
          "output_type": "stream",
          "text": [
            "Shape Before Passing through Encoder: (16, 13, 128)\n",
            "Shape After Passing through Encoder: [TensorShape([16, 512]), TensorShape([16, 512])]\n",
            "Shape After Passing through Decoder: [TensorShape([16, 13, 5747]), TensorShape([16, 512]), TensorShape([16, 512])]\n"
          ],
          "name": "stdout"
        }
      ]
    },
    {
      "cell_type": "markdown",
      "metadata": {
        "id": "pST9XGJ81ibo"
      },
      "source": [
        "## 6. Make a custom training loop\n",
        "You should now write a custom training loop to train your custom neural translation model.\n",
        "* Define a function that takes a Tensor batch of German data (as extracted from the training Dataset), and returns a tuple containing German inputs and outputs for the decoder model (refer to schematic diagram above).\n",
        "* Define a function that computes the forward and backward pass for your translation model. This function should take an English input, German input and German output as arguments, and should do the following:\n",
        "    * Pass the English input into the encoder, to get the hidden and cell states of the encoder LSTM.\n",
        "    * These hidden and cell states are then passed into the decoder, along with the German inputs, which returns a sequence of outputs (the hidden and cell state outputs of the decoder LSTM are unused in this function).\n",
        "    * The loss should then be computed between the decoder outputs and the German output function argument.\n",
        "    * The function returns the loss and gradients with respect to the encoder and decoder’s trainable variables.\n",
        "    * Decorate the function with `@tf.function`\n",
        "* Define and run a custom training loop for a number of epochs (for you to choose) that does the following:\n",
        "    * Iterates through the training dataset, and creates decoder inputs and outputs from the German sequences.\n",
        "    * Updates the parameters of the translation model using the gradients of the function above and an optimizer object.\n",
        "    * Every epoch, compute the validation loss on a number of batches from the validation and save the epoch training and validation losses.\n",
        "* Plot the learning curves for loss vs epoch for both training and validation sets.\n",
        "\n",
        "_Hint: This model is computationally demanding to train. The quality of the model or length of training is not a factor in the grading rubric. However, to obtain a better model we recommend using the GPU accelerator hardware on Colab._"
      ]
    },
    {
      "cell_type": "code",
      "metadata": {
        "id": "yDhiyWadJEer"
      },
      "source": [
        "from tensorflow.keras import losses, metrics, optimizers"
      ],
      "execution_count": 42,
      "outputs": []
    },
    {
      "cell_type": "code",
      "metadata": {
        "id": "Ig0SDuteJNV3"
      },
      "source": [
        "# Defining Model Loss\n",
        "\n",
        "loss_obj = losses.SparseCategoricalCrossentropy(from_logits=True)"
      ],
      "execution_count": 43,
      "outputs": []
    },
    {
      "cell_type": "code",
      "metadata": {
        "id": "QRKC0Lsvpen-"
      },
      "source": [
        "# Defining Model Metric\n",
        "\n",
        "acc_obj = metrics.SparseCategoricalAccuracy()"
      ],
      "execution_count": 44,
      "outputs": []
    },
    {
      "cell_type": "code",
      "metadata": {
        "id": "EqQ5-us7KvTT"
      },
      "source": [
        "# Defining Model Optimizer\n",
        "\n",
        "optimizer = optimizers.Adam()"
      ],
      "execution_count": 45,
      "outputs": []
    },
    {
      "cell_type": "code",
      "metadata": {
        "id": "Jvu4J4-u1ibu"
      },
      "source": [
        "# Function corrosponding to First Requirment.\n",
        "\n",
        "decoderData = lambda ger_tensor: (ger_tensor[:, :-1], ger_tensor[:, 1:])"
      ],
      "execution_count": 46,
      "outputs": []
    },
    {
      "cell_type": "code",
      "metadata": {
        "id": "MVWOYJ3l1ib1"
      },
      "source": [
        "# Function to perform forward and Backward pass on the Model.\n",
        "\n",
        "@tf.function\n",
        "def ENGINE(encoder, decoder, english_in, german_in, german_out, loss_function, mode=\"TRAIN\"):\n",
        "    variables = encoder.trainable_variables + decoder.trainable_variables\n",
        "    with tf.GradientTape() as tape:\n",
        "        tape.watch(variables)\n",
        "\n",
        "        # Encoder Pass\n",
        "        hidden, cell = encoder(english_in)\n",
        "        \n",
        "        # Decoder Pass\n",
        "        german_pred, _, _ = decoder(german_in, hidden, cell)\n",
        "\n",
        "        # Loss Evalation\n",
        "        loss_val = loss_function(german_out, german_pred)\n",
        "        mask = tf.math.logical_not(tf.math.equal(german_out, 0))\n",
        "        mask = tf.cast(mask, dtype=loss_val.dtype)\n",
        "        loss_val *= mask\n",
        "\n",
        "    # Gradient Calcualtion\n",
        "    if mode is \"TRAIN\":\n",
        "        return loss_val, tape.gradient(loss_val, variables)\n",
        "    return loss_val"
      ],
      "execution_count": 47,
      "outputs": []
    },
    {
      "cell_type": "code",
      "metadata": {
        "id": "6WXTAzeu1rRS"
      },
      "source": [
        "# Hyperparameters\n",
        "\n",
        "epochs=10"
      ],
      "execution_count": 48,
      "outputs": []
    },
    {
      "cell_type": "code",
      "metadata": {
        "id": "RRaWefoFiqPw"
      },
      "source": [
        "# Models\n",
        "\n",
        "encoder = Encoder(input_shape, batch_size = batch_size)\n",
        "decoder = Decoder(vocab_size, embedding_dim, batch_size)"
      ],
      "execution_count": 49,
      "outputs": []
    },
    {
      "cell_type": "code",
      "metadata": {
        "id": "1FG6hOWw1x1p",
        "colab": {
          "base_uri": "https://localhost:8080/"
        },
        "outputId": "0a69d7fa-1199-4cae-8353-0b5449ebca04"
      },
      "source": [
        "history = {}\n",
        "\n",
        "history[\"train_loss\"] = []\n",
        "history[\"val_loss\"] = []\n",
        "\n",
        "loss_accumulator = metrics.Mean()\n",
        "\n",
        "for epoch in range(epochs):\n",
        "    print(\"\\n\\nEpoch: {:02d}/{:02d}\".format(epoch+1, epochs))\n",
        "\n",
        "    # Restting Loss Accumulator\n",
        "    loss_accumulator.reset_states()\n",
        "\n",
        "    # Training the Model\n",
        "    start = time.time()\n",
        "    for x,y in train_dataset:\n",
        "        y_in, y_out = decoderData(y)\n",
        "        loss_val, gradients = ENGINE(encoder = encoder, \n",
        "                                     decoder = decoder, \n",
        "                                     english_in = x, \n",
        "                                     german_in = y_in, \n",
        "                                     german_out = y_out, \n",
        "                                     loss_function = loss_obj, \n",
        "                                     mode=\"TRAIN\")\n",
        "        optimizer.apply_gradients(zip(gradients, encoder.trainable_variables + decoder.trainable_variables))\n",
        "        loss_accumulator(loss_val)\n",
        "    end = time.time()\n",
        "\n",
        "    # Storing Training Results\n",
        "    history[\"train_loss\"].append(loss_accumulator.result().numpy())\n",
        "    print(\"Train_Loss: {:0.6f}\\tTrain_Time: {:0.6f} sec\".format(history[\"train_loss\"][-1], end-start))\n",
        "\n",
        "    # Restting Loss Accumulator\n",
        "    loss_accumulator.reset_states()\n",
        "\n",
        "    # Validating the Model\n",
        "    start = time.time()\n",
        "    for x,y in valid_dataset:\n",
        "        y_in, y_out = decoderData(y)\n",
        "        loss_val = ENGINE(encoder = encoder, \n",
        "                          decoder = decoder, \n",
        "                          english_in = x, \n",
        "                          german_in = y_in, \n",
        "                          german_out = y_out, \n",
        "                          loss_function = loss_obj, \n",
        "                          mode=\"VALID\")\n",
        "        loss_accumulator(loss_val)\n",
        "    end = time.time()\n",
        "\n",
        "    # Storing Training Results\n",
        "    history[\"val_loss\"].append(loss_accumulator.result().numpy())\n",
        "    print(\"Valid_Loss: {:0.6f}\\tValid_Time: {:0.6f} sec\".format(history[\"val_loss\"][-1], end-start), end=\"\\t\\t\")"
      ],
      "execution_count": 50,
      "outputs": [
        {
          "output_type": "stream",
          "text": [
            "\n",
            "\n",
            "Epoch: 01/10\n",
            "Train_Loss: 2.385503\tTrain_Time: 57.674582 sec\n",
            "Valid_Loss: 2.110836\tValid_Time: 12.217896 sec\t\t\n",
            "\n",
            "Epoch: 02/10\n",
            "Train_Loss: 1.876157\tTrain_Time: 54.208139 sec\n",
            "Valid_Loss: 1.735759\tValid_Time: 10.786757 sec\t\t\n",
            "\n",
            "Epoch: 03/10\n",
            "Train_Loss: 1.486174\tTrain_Time: 53.878696 sec\n",
            "Valid_Loss: 1.416493\tValid_Time: 11.101702 sec\t\t\n",
            "\n",
            "Epoch: 04/10\n",
            "Train_Loss: 1.128683\tTrain_Time: 54.335685 sec\n",
            "Valid_Loss: 1.130367\tValid_Time: 10.813859 sec\t\t\n",
            "\n",
            "Epoch: 05/10\n",
            "Train_Loss: 0.802481\tTrain_Time: 53.088414 sec\n",
            "Valid_Loss: 0.874646\tValid_Time: 10.791095 sec\t\t\n",
            "\n",
            "Epoch: 06/10\n",
            "Train_Loss: 0.528895\tTrain_Time: 54.051943 sec\n",
            "Valid_Loss: 0.682218\tValid_Time: 10.839615 sec\t\t\n",
            "\n",
            "Epoch: 07/10\n",
            "Train_Loss: 0.335190\tTrain_Time: 53.082939 sec\n",
            "Valid_Loss: 0.569263\tValid_Time: 10.835754 sec\t\t\n",
            "\n",
            "Epoch: 08/10\n",
            "Train_Loss: 0.218774\tTrain_Time: 54.415081 sec\n",
            "Valid_Loss: 0.515152\tValid_Time: 10.854734 sec\t\t\n",
            "\n",
            "Epoch: 09/10\n",
            "Train_Loss: 0.151051\tTrain_Time: 54.028499 sec\n",
            "Valid_Loss: 0.493367\tValid_Time: 10.834096 sec\t\t\n",
            "\n",
            "Epoch: 10/10\n",
            "Train_Loss: 0.109656\tTrain_Time: 54.112800 sec\n",
            "Valid_Loss: 0.482148\tValid_Time: 10.818547 sec\t\t"
          ],
          "name": "stdout"
        }
      ]
    },
    {
      "cell_type": "code",
      "metadata": {
        "id": "MOY22OE2o9VT"
      },
      "source": [
        "import matplotlib.pyplot as plt"
      ],
      "execution_count": 51,
      "outputs": []
    },
    {
      "cell_type": "code",
      "metadata": {
        "colab": {
          "base_uri": "https://localhost:8080/",
          "height": 334
        },
        "id": "4WF9NlAUotIr",
        "outputId": "f7987b5a-3a85-42f4-b2b9-231d39e60f36"
      },
      "source": [
        "plt.figure(figsize=(12, 5))\n",
        "plt.plot(history[\"train_loss\"], label=\"Training Loss\")\n",
        "plt.plot(history[\"val_loss\"], label=\"Validation Loss\")\n",
        "plt.xlabel(\"Epochs\")\n",
        "plt.ylabel(\"Loss\")\n",
        "plt.legend()\n",
        "plt.show()"
      ],
      "execution_count": 52,
      "outputs": [
        {
          "output_type": "display_data",
          "data": {
            "image/png": "[encoded data removed]",
            "text/plain": [
              "<Figure size 864x360 with 1 Axes>"
            ]
          },
          "metadata": {
            "tags": [],
            "needs_background": "light"
          }
        }
      ]
    },
    {
      "cell_type": "markdown",
      "metadata": {
        "id": "xM2gvBM11ib-"
      },
      "source": [
        "## 7. Use the model to translate\n",
        "Now it's time to put your model into practice! You should run your translation for five randomly sampled English sentences from the dataset. For each sentence, the process is as follows:\n",
        "* Preprocess and embed the English sentence according to the model requirements.\n",
        "* Pass the embedded sentence through the encoder to get the encoder hidden and cell states.\n",
        "* Starting with the special  `\"<start>\"` token, use this token and the final encoder hidden and cell states to get the one-step prediction from the decoder, as well as the decoder’s updated hidden and cell states.\n",
        "* Create a loop to get the next step prediction and updated hidden and cell states from the decoder, using the most recent hidden and cell states. Terminate the loop when the `\"<end>\"` token is emitted, or when the sentence has reached a maximum length.\n",
        "* Decode the output token sequence into German text and print the English text and the model's German translation."
      ]
    },
    {
      "cell_type": "code",
      "metadata": {
        "id": "9p783O8VJi4N"
      },
      "source": [
        "from nltk.translate import bleu\n",
        "from nltk.translate.bleu_score import SmoothingFunction"
      ],
      "execution_count": 53,
      "outputs": []
    },
    {
      "cell_type": "code",
      "metadata": {
        "id": "W0rLYCL4uV68"
      },
      "source": [
        "def NeuralTranslation(sentences, encoder, decoder, tokenizer):\n",
        "    stop_token = tokenizer.word_index[\"<end>\"]\n",
        "    current_token = tokenizer.word_index[\"<start>\"]\n",
        "\n",
        "    result = []\n",
        "\n",
        "    hidden, cell = encoder(sentences)\n",
        "\n",
        "    for _ in range(sentences.shape[1]):\n",
        "        dec_input  = tf.expand_dims([current_token] * len(sentences), 1)\n",
        "        pred, hidden, cell = decoder(dec_input, hidden, cell)\n",
        "        current_token = tf.argmax(tf.squeeze(pred)).numpy()\n",
        "        if current_token == stop_token:\n",
        "            return tokenizer.sequences_to_texts([result])[0]\n",
        "        else:\n",
        "            result.append(current_token)"
      ],
      "execution_count": 54,
      "outputs": []
    },
    {
      "cell_type": "code",
      "metadata": {
        "id": "MECZbwcbGfuR"
      },
      "source": [
        "M = 5 # No of Example\n",
        "\n",
        "idx = np.random.randint(0, len(english_sentences), M)\n",
        "\n",
        "pred_dataset = DatasetPreprocessinng(dataset = tf.data.Dataset.from_tensor_slices((english_sentences[idx], german_sentences[idx])), \n",
        "                                     batch_size = 1, \n",
        "                                     shuffle = True)"
      ],
      "execution_count": 55,
      "outputs": []
    },
    {
      "cell_type": "code",
      "metadata": {
        "colab": {
          "base_uri": "https://localhost:8080/"
        },
        "id": "Pt0cAKD9s8tj",
        "outputId": "97139084-b80c-497b-c1e0-c1dfd9b2a5b7"
      },
      "source": [
        "for j, (x, y) in enumerate(pred_dataset):\n",
        "    eng = english_sentences[idx[j]]\n",
        "    ger = german_sentences[idx[j]]\n",
        "    ger_translate = NeuralTranslation(x, encoder, decoder, tokenizer)\n",
        "    score = bleu([ger.split(\" \")[1:-1]], ger.split(\" \"), smoothing_function=SmoothingFunction().method4)\n",
        "    print(\"ENG_ORIGINAL:\", eng)\n",
        "    print(\"GER_ORIGINAL:\", ger)\n",
        "    print(\"GER_TRANSLATION:\", ger_translate)\n",
        "    print(\"BLEU Score: {:0.6f} %\".format(score*100))\n",
        "    print(\"\\n\")"
      ],
      "execution_count": 56,
      "outputs": [
        {
          "output_type": "stream",
          "text": [
            "ENG_ORIGINAL: this is too long .\n",
            "GER_ORIGINAL: <start> dies ist zu lang . <end>\n",
            "GER_TRANSLATION: tom ist aufrichtig .\n",
            "BLEU Score: 61.478815 %\n",
            "\n",
            "\n",
            "ENG_ORIGINAL: tom is frank .\n",
            "GER_ORIGINAL: <start> tom ist aufrichtig . <end>\n",
            "GER_TRANSLATION: ich habe es noch einmal gesagt .\n",
            "BLEU Score: 50.813275 %\n",
            "\n",
            "\n",
            "ENG_ORIGINAL: i remember it all .\n",
            "GER_ORIGINAL: <start> ich erinnere mich an alles . <end>\n",
            "GER_TRANSLATION: tom wurde reingelegt .\n",
            "BLEU Score: 68.037493 %\n",
            "\n",
            "\n",
            "ENG_ORIGINAL: tom was alerted .\n",
            "GER_ORIGINAL: <start> tom wurde alarmiert . <end>\n",
            "GER_TRANSLATION: ich bin gleich so weit .\n",
            "BLEU Score: 50.813275 %\n",
            "\n",
            "\n",
            "ENG_ORIGINAL: i'm right .\n",
            "GER_ORIGINAL: <start> ich habe recht . <end>\n",
            "GER_TRANSLATION: das ist zu gross .\n",
            "BLEU Score: 50.813275 %\n",
            "\n",
            "\n"
          ],
          "name": "stdout"
        }
      ]
    },
    {
      "cell_type": "code",
      "metadata": {
        "id": "mbt9L5-_M042"
      },
      "source": [
        ""
      ],
      "execution_count": 56,
      "outputs": []
    }
  ]
}