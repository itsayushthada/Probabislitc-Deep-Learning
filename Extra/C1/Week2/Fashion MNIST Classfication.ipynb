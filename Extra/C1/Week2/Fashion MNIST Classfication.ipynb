{
  "nbformat": 4,
  "nbformat_minor": 0,
  "metadata": {
    "kernelspec": {
      "display_name": "Python 3",
      "language": "python",
      "name": "python3"
    },
    "language_info": {
      "codemirror_mode": {
        "name": "ipython",
        "version": 3
      },
      "file_extension": ".py",
      "mimetype": "text/x-python",
      "name": "python",
      "nbconvert_exporter": "python",
      "pygments_lexer": "ipython3",
      "version": "3.7.1"
    },
    "colab": {
      "name": "Coding Tutorial.ipynb",
      "provenance": []
    },
    "accelerator": "GPU"
  },
  "cells": [
    {
      "cell_type": "code",
      "metadata": {
        "id": "4mF5ZZvdnL5i",
        "outputId": "7834f602-4935-4fd0-9fed-54cecdf12245",
        "colab": {
          "base_uri": "https://localhost:8080/"
        }
      },
      "source": [
        "import tensorflow as tf\n",
        "print(tf.__version__)"
      ],
      "execution_count": 2,
      "outputs": [
        {
          "output_type": "stream",
          "text": [
            "2.3.0\n"
          ],
          "name": "stdout"
        }
      ]
    },
    {
      "cell_type": "markdown",
      "metadata": {
        "id": "dR2deH3RnL5q"
      },
      "source": [
        "# The Sequential model API"
      ]
    },
    {
      "cell_type": "markdown",
      "metadata": {
        "id": "3v7X-INFnL5r"
      },
      "source": [
        " ## Coding tutorials\n",
        " #### [1. Building a Sequential model](#coding_tutorial_1)\n",
        " #### [2. Convolutional and pooling layers](#coding_tutorial_2)\n",
        " #### [3. The compile method](#coding_tutorial_3)\n",
        " #### [4. The fit method](#coding_tutorial_4)\n",
        " #### [5. The evaluate and predict methods](#coding_tutorial_5)"
      ]
    },
    {
      "cell_type": "markdown",
      "metadata": {
        "id": "Xkx6WCRGnL5r"
      },
      "source": [
        "***\n",
        "<a id=\"coding_tutorial_1\"></a>\n",
        "## Building a Sequential model"
      ]
    },
    {
      "cell_type": "code",
      "metadata": {
        "id": "cVcNdl00nL5s"
      },
      "source": [
        "from tensorflow.keras.models import Sequential\n",
        "from tensorflow.keras.layers import Dense, Flatten, Softmax\n",
        "from tensorflow.keras.utils import plot_model"
      ],
      "execution_count": 3,
      "outputs": []
    },
    {
      "cell_type": "markdown",
      "metadata": {
        "id": "YPFfzIFPnL5z"
      },
      "source": [
        "#### Build a feedforward neural network model"
      ]
    },
    {
      "cell_type": "code",
      "metadata": {
        "id": "3CiNYA-jnL50"
      },
      "source": [
        "# Build the Sequential feedforward neural network model\n",
        "\n",
        "input_shape = (28, 28)\n",
        "\n",
        "model_1 = Sequential([\n",
        "        Flatten(input_shape = input_shape),\n",
        "        Dense(60, activation=\"relu\"),\n",
        "        Dense(10)\n",
        "])"
      ],
      "execution_count": 4,
      "outputs": []
    },
    {
      "cell_type": "code",
      "metadata": {
        "id": "-bdDVQSRnL54",
        "outputId": "bd8c5e37-88ea-4256-88f1-c9eae194d13e",
        "colab": {
          "base_uri": "https://localhost:8080/"
        }
      },
      "source": [
        "# Print the model summary\n",
        "\n",
        "model_1.summary()"
      ],
      "execution_count": 5,
      "outputs": [
        {
          "output_type": "stream",
          "text": [
            "Model: \"sequential\"\n",
            "_________________________________________________________________\n",
            "Layer (type)                 Output Shape              Param #   \n",
            "=================================================================\n",
            "flatten (Flatten)            (None, 784)               0         \n",
            "_________________________________________________________________\n",
            "dense (Dense)                (None, 60)                47100     \n",
            "_________________________________________________________________\n",
            "dense_1 (Dense)              (None, 10)                610       \n",
            "=================================================================\n",
            "Total params: 47,710\n",
            "Trainable params: 47,710\n",
            "Non-trainable params: 0\n",
            "_________________________________________________________________\n"
          ],
          "name": "stdout"
        }
      ]
    },
    {
      "cell_type": "code",
      "metadata": {
        "id": "QHSMeH7qoYze",
        "outputId": "12f1a6a3-f88a-412a-c646-179510c058b8",
        "colab": {
          "base_uri": "https://localhost:8080/",
          "height": 422
        }
      },
      "source": [
        "# Graphical Representaion\n",
        "\n",
        "plot_model(model_1, to_file='feedforward_model.png', show_shapes=True, show_layer_names=True)"
      ],
      "execution_count": 6,
      "outputs": [
        {
          "output_type": "execute_result",
          "data": {
            "image/png": "[encoded data removed]",
            "text/plain": [
              "<IPython.core.display.Image object>"
            ]
          },
          "metadata": {
            "tags": []
          },
          "execution_count": 6
        }
      ]
    },
    {
      "cell_type": "markdown",
      "metadata": {
        "id": "lLBFus6-nL58"
      },
      "source": [
        "***\n",
        "<a id=\"coding_tutorial_2\"></a>\n",
        "## Convolutional and pooling layers"
      ]
    },
    {
      "cell_type": "code",
      "metadata": {
        "id": "ufsGEuWOnL59"
      },
      "source": [
        "from tensorflow.keras.models import Sequential\n",
        "from tensorflow.keras.layers import Dense, Flatten, Conv2D, MaxPooling2D, InputLayer\n",
        "from tensorflow.keras.utils import plot_model"
      ],
      "execution_count": 7,
      "outputs": []
    },
    {
      "cell_type": "markdown",
      "metadata": {
        "id": "TFaLTyLTnL6B"
      },
      "source": [
        "#### Build a convolutional neural network model"
      ]
    },
    {
      "cell_type": "code",
      "metadata": {
        "id": "6oKWtOgtnL6C"
      },
      "source": [
        "# Build the Sequential convolutional neural network model\n",
        "\n",
        "input_shape = (28, 28, 3)\n",
        "\n",
        "model_2 = Sequential([\n",
        "          InputLayer(input_shape=input_shape),\n",
        "          Conv2D(filters = 16, kernel_size=(3, 3), activation=\"relu\"),\n",
        "          MaxPooling2D(pool_size=(2,2)),\n",
        "          Flatten(),\n",
        "          Dense(10, activation=\"linear\")\n",
        "])"
      ],
      "execution_count": 8,
      "outputs": []
    },
    {
      "cell_type": "code",
      "metadata": {
        "id": "AZH_afuunL6H",
        "outputId": "e4c0e0c7-6234-4c7a-8a37-890766430886",
        "colab": {
          "base_uri": "https://localhost:8080/"
        }
      },
      "source": [
        "# Print the model summary\n",
        "\n",
        "model_2.summary()"
      ],
      "execution_count": 9,
      "outputs": [
        {
          "output_type": "stream",
          "text": [
            "Model: \"sequential_1\"\n",
            "_________________________________________________________________\n",
            "Layer (type)                 Output Shape              Param #   \n",
            "=================================================================\n",
            "conv2d (Conv2D)              (None, 26, 26, 16)        448       \n",
            "_________________________________________________________________\n",
            "max_pooling2d (MaxPooling2D) (None, 13, 13, 16)        0         \n",
            "_________________________________________________________________\n",
            "flatten_1 (Flatten)          (None, 2704)              0         \n",
            "_________________________________________________________________\n",
            "dense_2 (Dense)              (None, 10)                27050     \n",
            "=================================================================\n",
            "Total params: 27,498\n",
            "Trainable params: 27,498\n",
            "Non-trainable params: 0\n",
            "_________________________________________________________________\n"
          ],
          "name": "stdout"
        }
      ]
    },
    {
      "cell_type": "code",
      "metadata": {
        "id": "GeRRaal_qUqM",
        "outputId": "68b6883d-757d-434f-e787-8c30b6372444",
        "colab": {
          "base_uri": "https://localhost:8080/",
          "height": 533
        }
      },
      "source": [
        "# Graphical Representation\n",
        "\n",
        "plot_model(model_2, to_file=\"cnn_model.png\", show_shapes=True, show_layer_names=True)"
      ],
      "execution_count": 10,
      "outputs": [
        {
          "output_type": "execute_result",
          "data": {
            "image/png": "[encoded data removed]",
            "text/plain": [
              "<IPython.core.display.Image object>"
            ]
          },
          "metadata": {
            "tags": []
          },
          "execution_count": 10
        }
      ]
    },
    {
      "cell_type": "markdown",
      "metadata": {
        "id": "nWwRtX28nL6L"
      },
      "source": [
        "***\n",
        "<a id=\"coding_tutorial_3\"></a>\n",
        "## The compile method"
      ]
    },
    {
      "cell_type": "markdown",
      "metadata": {
        "id": "zntxN1-PnL6M"
      },
      "source": [
        "#### Compile the model"
      ]
    },
    {
      "cell_type": "code",
      "metadata": {
        "id": "Tf4NWAyGsiyB"
      },
      "source": [
        "from tensorflow.keras import losses\n",
        "from tensorflow.keras import metrics"
      ],
      "execution_count": 11,
      "outputs": []
    },
    {
      "cell_type": "code",
      "metadata": {
        "id": "SK9sNTyenL6M"
      },
      "source": [
        "# Define the model optimizer, loss function and metrics\n",
        "\n",
        "model_1.compile(  \n",
        "                  optimizer = \"adam\", \n",
        "                  loss = losses.CategoricalCrossentropy, \n",
        "                  metrics = [metrics.CategoricalCrossentropy(), metrics.Accuracy()]\n",
        "               )"
      ],
      "execution_count": 12,
      "outputs": []
    },
    {
      "cell_type": "code",
      "metadata": {
        "id": "CprmVRENnL6Q",
        "outputId": "cf6c0109-6be1-474a-973b-23313cf26d19",
        "colab": {
          "base_uri": "https://localhost:8080/"
        }
      },
      "source": [
        "# Print the resulting model attributes\n",
        "\n",
        "print(model_1.optimizer)\n",
        "print(model_1.loss)\n",
        "print(model_1.metrics)"
      ],
      "execution_count": 13,
      "outputs": [
        {
          "output_type": "stream",
          "text": [
            "<tensorflow.python.keras.optimizer_v2.adam.Adam object at 0x7f590006cc88>\n",
            "<class 'tensorflow.python.keras.losses.CategoricalCrossentropy'>\n",
            "[]\n"
          ],
          "name": "stdout"
        }
      ]
    },
    {
      "cell_type": "markdown",
      "metadata": {
        "id": "a2WIX6wEnL6U"
      },
      "source": [
        "***\n",
        "<a id=\"coding_tutorial_4\"></a>\n",
        "## The fit method"
      ]
    },
    {
      "cell_type": "code",
      "metadata": {
        "id": "SgI3NeEtnL6V"
      },
      "source": [
        "from tensorflow.keras.preprocessing import image\n",
        "from tensorflow.keras.layers import Reshape\n",
        "import matplotlib.pyplot as plt\n",
        "import numpy as np\n",
        "import pandas as pd"
      ],
      "execution_count": 14,
      "outputs": []
    },
    {
      "cell_type": "markdown",
      "metadata": {
        "id": "VxeZPnXknL6Y"
      },
      "source": [
        "#### Load the data"
      ]
    },
    {
      "cell_type": "code",
      "metadata": {
        "id": "r9uso3i4nL6Y",
        "outputId": "8c4072c7-9798-49b1-d887-39806dc192cc",
        "colab": {
          "base_uri": "https://localhost:8080/"
        }
      },
      "source": [
        "# Load the Fashion-MNIST dataset\n",
        "\n",
        "fashion_mnist_data = tf.keras.datasets.fashion_mnist\n",
        "(train_images, train_labels), (test_images, test_labels) = fashion_mnist_data.load_data()"
      ],
      "execution_count": 15,
      "outputs": [
        {
          "output_type": "stream",
          "text": [
            "Downloading data from https://storage.googleapis.com/tensorflow/tf-keras-datasets/train-labels-idx1-ubyte.gz\n",
            "32768/29515 [=================================] - 0s 0us/step\n",
            "Downloading data from https://storage.googleapis.com/tensorflow/tf-keras-datasets/train-images-idx3-ubyte.gz\n",
            "26427392/26421880 [==============================] - 0s 0us/step\n",
            "Downloading data from https://storage.googleapis.com/tensorflow/tf-keras-datasets/t10k-labels-idx1-ubyte.gz\n",
            "8192/5148 [===============================================] - 0s 0us/step\n",
            "Downloading data from https://storage.googleapis.com/tensorflow/tf-keras-datasets/t10k-images-idx3-ubyte.gz\n",
            "4423680/4422102 [==============================] - 0s 0us/step\n"
          ],
          "name": "stdout"
        }
      ]
    },
    {
      "cell_type": "code",
      "metadata": {
        "id": "CWoNCUmynL6c",
        "outputId": "3185432f-650b-4f16-e5bb-ecdade7fbee3",
        "colab": {
          "base_uri": "https://localhost:8080/"
        }
      },
      "source": [
        "# Print the shape of the training data\n",
        "\n",
        "train_images.shape"
      ],
      "execution_count": 16,
      "outputs": [
        {
          "output_type": "execute_result",
          "data": {
            "text/plain": [
              "(60000, 28, 28)"
            ]
          },
          "metadata": {
            "tags": []
          },
          "execution_count": 16
        }
      ]
    },
    {
      "cell_type": "code",
      "metadata": {
        "id": "xXdzoqOsnL6f"
      },
      "source": [
        "# Define the labels\n",
        "\n",
        "labels = [\n",
        "    'T-shirt/top',\n",
        "    'Trouser',\n",
        "    'Pullover',\n",
        "    'Dress',\n",
        "    'Coat',\n",
        "    'Sandal',\n",
        "    'Shirt',\n",
        "    'Sneaker',\n",
        "    'Bag',\n",
        "    'Ankle boot'\n",
        "]"
      ],
      "execution_count": 17,
      "outputs": []
    },
    {
      "cell_type": "code",
      "metadata": {
        "id": "Y7wpMicfnL6j"
      },
      "source": [
        "# Rescale the image values so that they lie in between 0 and 1.\n",
        "\n",
        "train_images = train_images/255.0\n",
        "test_images = test_images/255.0"
      ],
      "execution_count": 18,
      "outputs": []
    },
    {
      "cell_type": "code",
      "metadata": {
        "id": "HjuAqUs_nL6m",
        "outputId": "5f86c9a1-f5f0-406d-be01-490c61b046e2",
        "colab": {
          "base_uri": "https://localhost:8080/",
          "height": 269
        }
      },
      "source": [
        "# Display one of the images\n",
        "\n",
        "plt.figure()\n",
        "plt.imshow(train_images[69], cmap=\"rainbow\")\n",
        "plt.colorbar()\n",
        "plt.grid(False)\n",
        "plt.show()"
      ],
      "execution_count": 19,
      "outputs": [
        {
          "output_type": "display_data",
          "data": {
            "image/png": "[encoded data removed]",
            "text/plain": [
              "<Figure size 432x288 with 2 Axes>"
            ]
          },
          "metadata": {
            "tags": [],
            "needs_background": "light"
          }
        }
      ]
    },
    {
      "cell_type": "markdown",
      "metadata": {
        "id": "0iwtpx_vnL6p"
      },
      "source": [
        "#### Fit the model"
      ]
    },
    {
      "cell_type": "code",
      "metadata": {
        "id": "cv5b2ljrZfNm",
        "outputId": "67fe8d3b-6a1e-4259-b6ce-d76205e6f2d8",
        "colab": {
          "base_uri": "https://localhost:8080/"
        }
      },
      "source": [
        "train_images[0].shape"
      ],
      "execution_count": 20,
      "outputs": [
        {
          "output_type": "execute_result",
          "data": {
            "text/plain": [
              "(28, 28)"
            ]
          },
          "metadata": {
            "tags": []
          },
          "execution_count": 20
        }
      ]
    },
    {
      "cell_type": "code",
      "metadata": {
        "id": "_KAQAoYIZaez",
        "outputId": "8de1fde0-f56a-48c7-a028-32bec50b0d2a",
        "colab": {
          "base_uri": "https://localhost:8080/"
        }
      },
      "source": [
        "model = Sequential([\n",
        "                    InputLayer(input_shape=(28,28, 1)),\n",
        "                    Conv2D(filters=16, kernel_size=(3,3), activation=\"relu\"),\n",
        "                    MaxPooling2D(pool_size=(2,2)),\n",
        "                    Conv2D(filters=64, kernel_size=(3,3), activation=\"relu\"),\n",
        "                    MaxPooling2D(pool_size=(2,2)),\n",
        "                    Conv2D(filters=128, kernel_size=(3,3), activation=\"relu\"),\n",
        "                    MaxPooling2D(pool_size=(2,2)),\n",
        "                    Flatten(),\n",
        "                    Dense(10, activation=\"softmax\")\n",
        "])\n",
        "\n",
        "model.summary()"
      ],
      "execution_count": 43,
      "outputs": [
        {
          "output_type": "stream",
          "text": [
            "Model: \"sequential_5\"\n",
            "_________________________________________________________________\n",
            "Layer (type)                 Output Shape              Param #   \n",
            "=================================================================\n",
            "conv2d_9 (Conv2D)            (None, 26, 26, 16)        160       \n",
            "_________________________________________________________________\n",
            "max_pooling2d_9 (MaxPooling2 (None, 13, 13, 16)        0         \n",
            "_________________________________________________________________\n",
            "conv2d_10 (Conv2D)           (None, 11, 11, 64)        9280      \n",
            "_________________________________________________________________\n",
            "max_pooling2d_10 (MaxPooling (None, 5, 5, 64)          0         \n",
            "_________________________________________________________________\n",
            "conv2d_11 (Conv2D)           (None, 3, 3, 128)         73856     \n",
            "_________________________________________________________________\n",
            "max_pooling2d_11 (MaxPooling (None, 1, 1, 128)         0         \n",
            "_________________________________________________________________\n",
            "flatten_5 (Flatten)          (None, 128)               0         \n",
            "_________________________________________________________________\n",
            "dense_6 (Dense)              (None, 10)                1290      \n",
            "=================================================================\n",
            "Total params: 84,586\n",
            "Trainable params: 84,586\n",
            "Non-trainable params: 0\n",
            "_________________________________________________________________\n"
          ],
          "name": "stdout"
        }
      ]
    },
    {
      "cell_type": "code",
      "metadata": {
        "id": "ryifjCnFcpR8"
      },
      "source": [
        "# Defining Parameters\n",
        "\n",
        "model.compile(\n",
        "    loss=losses.CategoricalCrossentropy(),\n",
        "    optimizer=\"adam\",\n",
        "    metrics= [metrics.CategoricalAccuracy(), metrics.CosineSimilarity(), metrics.MeanAbsoluteError()]\n",
        ")"
      ],
      "execution_count": 44,
      "outputs": []
    },
    {
      "cell_type": "code",
      "metadata": {
        "id": "FebJVEl_nL6q",
        "outputId": "dcdd7c71-736d-4aa1-a3b6-328da197d58f",
        "colab": {
          "base_uri": "https://localhost:8080/"
        }
      },
      "source": [
        "# Fit the model\n",
        "\n",
        "history = model.fit(\n",
        "                      x = train_images[..., np.newaxis],\n",
        "                      y = np.eye(10)[train_labels],\n",
        "                      batch_size = 100,\n",
        "                      epochs = 50,\n",
        "                      verbose=2\n",
        ")"
      ],
      "execution_count": 45,
      "outputs": [
        {
          "output_type": "stream",
          "text": [
            "Epoch 1/50\n",
            "600/600 - 2s - loss: 0.6598 - categorical_accuracy: 0.7624 - cosine_similarity: 0.8011 - mean_absolute_error: 0.0678\n",
            "Epoch 2/50\n",
            "600/600 - 2s - loss: 0.4382 - categorical_accuracy: 0.8428 - cosine_similarity: 0.8689 - mean_absolute_error: 0.0465\n",
            "Epoch 3/50\n",
            "600/600 - 2s - loss: 0.3884 - categorical_accuracy: 0.8586 - cosine_similarity: 0.8831 - mean_absolute_error: 0.0413\n",
            "Epoch 4/50\n",
            "600/600 - 2s - loss: 0.3561 - categorical_accuracy: 0.8699 - cosine_similarity: 0.8925 - mean_absolute_error: 0.0381\n",
            "Epoch 5/50\n",
            "600/600 - 2s - loss: 0.3292 - categorical_accuracy: 0.8800 - cosine_similarity: 0.9008 - mean_absolute_error: 0.0353\n",
            "Epoch 6/50\n",
            "600/600 - 2s - loss: 0.3073 - categorical_accuracy: 0.8880 - cosine_similarity: 0.9072 - mean_absolute_error: 0.0331\n",
            "Epoch 7/50\n",
            "600/600 - 2s - loss: 0.2869 - categorical_accuracy: 0.8953 - cosine_similarity: 0.9133 - mean_absolute_error: 0.0311\n",
            "Epoch 8/50\n",
            "600/600 - 2s - loss: 0.2739 - categorical_accuracy: 0.8987 - cosine_similarity: 0.9171 - mean_absolute_error: 0.0297\n",
            "Epoch 9/50\n",
            "600/600 - 2s - loss: 0.2595 - categorical_accuracy: 0.9049 - cosine_similarity: 0.9214 - mean_absolute_error: 0.0282\n",
            "Epoch 10/50\n",
            "600/600 - 2s - loss: 0.2440 - categorical_accuracy: 0.9102 - cosine_similarity: 0.9259 - mean_absolute_error: 0.0267\n",
            "Epoch 11/50\n",
            "600/600 - 2s - loss: 0.2312 - categorical_accuracy: 0.9145 - cosine_similarity: 0.9296 - mean_absolute_error: 0.0255\n",
            "Epoch 12/50\n",
            "600/600 - 2s - loss: 0.2207 - categorical_accuracy: 0.9191 - cosine_similarity: 0.9328 - mean_absolute_error: 0.0244\n",
            "Epoch 13/50\n",
            "600/600 - 2s - loss: 0.2084 - categorical_accuracy: 0.9240 - cosine_similarity: 0.9366 - mean_absolute_error: 0.0232\n",
            "Epoch 14/50\n",
            "600/600 - 2s - loss: 0.2003 - categorical_accuracy: 0.9260 - cosine_similarity: 0.9389 - mean_absolute_error: 0.0224\n",
            "Epoch 15/50\n",
            "600/600 - 2s - loss: 0.1858 - categorical_accuracy: 0.9315 - cosine_similarity: 0.9436 - mean_absolute_error: 0.0210\n",
            "Epoch 16/50\n",
            "600/600 - 2s - loss: 0.1779 - categorical_accuracy: 0.9347 - cosine_similarity: 0.9458 - mean_absolute_error: 0.0200\n",
            "Epoch 17/50\n",
            "600/600 - 2s - loss: 0.1642 - categorical_accuracy: 0.9397 - cosine_similarity: 0.9502 - mean_absolute_error: 0.0188\n",
            "Epoch 18/50\n",
            "600/600 - 2s - loss: 0.1569 - categorical_accuracy: 0.9425 - cosine_similarity: 0.9523 - mean_absolute_error: 0.0179\n",
            "Epoch 19/50\n",
            "600/600 - 2s - loss: 0.1471 - categorical_accuracy: 0.9462 - cosine_similarity: 0.9552 - mean_absolute_error: 0.0170\n",
            "Epoch 20/50\n",
            "600/600 - 2s - loss: 0.1393 - categorical_accuracy: 0.9483 - cosine_similarity: 0.9577 - mean_absolute_error: 0.0162\n",
            "Epoch 21/50\n",
            "600/600 - 2s - loss: 0.1305 - categorical_accuracy: 0.9524 - cosine_similarity: 0.9605 - mean_absolute_error: 0.0153\n",
            "Epoch 22/50\n",
            "600/600 - 2s - loss: 0.1231 - categorical_accuracy: 0.9549 - cosine_similarity: 0.9626 - mean_absolute_error: 0.0144\n",
            "Epoch 23/50\n",
            "600/600 - 2s - loss: 0.1168 - categorical_accuracy: 0.9579 - cosine_similarity: 0.9648 - mean_absolute_error: 0.0138\n",
            "Epoch 24/50\n",
            "600/600 - 2s - loss: 0.1076 - categorical_accuracy: 0.9613 - cosine_similarity: 0.9676 - mean_absolute_error: 0.0128\n",
            "Epoch 25/50\n",
            "600/600 - 2s - loss: 0.1068 - categorical_accuracy: 0.9607 - cosine_similarity: 0.9676 - mean_absolute_error: 0.0125\n",
            "Epoch 26/50\n",
            "600/600 - 2s - loss: 0.0925 - categorical_accuracy: 0.9666 - cosine_similarity: 0.9723 - mean_absolute_error: 0.0113\n",
            "Epoch 27/50\n",
            "600/600 - 2s - loss: 0.0890 - categorical_accuracy: 0.9676 - cosine_similarity: 0.9733 - mean_absolute_error: 0.0108\n",
            "Epoch 28/50\n",
            "600/600 - 2s - loss: 0.0881 - categorical_accuracy: 0.9679 - cosine_similarity: 0.9734 - mean_absolute_error: 0.0105\n",
            "Epoch 29/50\n",
            "600/600 - 2s - loss: 0.0780 - categorical_accuracy: 0.9723 - cosine_similarity: 0.9769 - mean_absolute_error: 0.0095\n",
            "Epoch 30/50\n",
            "600/600 - 2s - loss: 0.0761 - categorical_accuracy: 0.9737 - cosine_similarity: 0.9776 - mean_absolute_error: 0.0091\n",
            "Epoch 31/50\n",
            "600/600 - 2s - loss: 0.0696 - categorical_accuracy: 0.9747 - cosine_similarity: 0.9792 - mean_absolute_error: 0.0086\n",
            "Epoch 32/50\n",
            "600/600 - 2s - loss: 0.0668 - categorical_accuracy: 0.9761 - cosine_similarity: 0.9799 - mean_absolute_error: 0.0082\n",
            "Epoch 33/50\n",
            "600/600 - 2s - loss: 0.0614 - categorical_accuracy: 0.9779 - cosine_similarity: 0.9817 - mean_absolute_error: 0.0076\n",
            "Epoch 34/50\n",
            "600/600 - 2s - loss: 0.0564 - categorical_accuracy: 0.9808 - cosine_similarity: 0.9834 - mean_absolute_error: 0.0070\n",
            "Epoch 35/50\n",
            "600/600 - 2s - loss: 0.0583 - categorical_accuracy: 0.9785 - cosine_similarity: 0.9823 - mean_absolute_error: 0.0072\n",
            "Epoch 36/50\n",
            "600/600 - 2s - loss: 0.0493 - categorical_accuracy: 0.9832 - cosine_similarity: 0.9857 - mean_absolute_error: 0.0062\n",
            "Epoch 37/50\n",
            "600/600 - 2s - loss: 0.0511 - categorical_accuracy: 0.9819 - cosine_similarity: 0.9849 - mean_absolute_error: 0.0062\n",
            "Epoch 38/50\n",
            "600/600 - 2s - loss: 0.0458 - categorical_accuracy: 0.9838 - cosine_similarity: 0.9864 - mean_absolute_error: 0.0058\n",
            "Epoch 39/50\n",
            "600/600 - 2s - loss: 0.0432 - categorical_accuracy: 0.9847 - cosine_similarity: 0.9872 - mean_absolute_error: 0.0055\n",
            "Epoch 40/50\n",
            "600/600 - 2s - loss: 0.0412 - categorical_accuracy: 0.9857 - cosine_similarity: 0.9880 - mean_absolute_error: 0.0052\n",
            "Epoch 41/50\n",
            "600/600 - 2s - loss: 0.0441 - categorical_accuracy: 0.9839 - cosine_similarity: 0.9868 - mean_absolute_error: 0.0054\n",
            "Epoch 42/50\n",
            "600/600 - 2s - loss: 0.0368 - categorical_accuracy: 0.9872 - cosine_similarity: 0.9892 - mean_absolute_error: 0.0047\n",
            "Epoch 43/50\n",
            "600/600 - 2s - loss: 0.0320 - categorical_accuracy: 0.9893 - cosine_similarity: 0.9909 - mean_absolute_error: 0.0041\n",
            "Epoch 44/50\n",
            "600/600 - 2s - loss: 0.0387 - categorical_accuracy: 0.9864 - cosine_similarity: 0.9887 - mean_absolute_error: 0.0047\n",
            "Epoch 45/50\n",
            "600/600 - 2s - loss: 0.0321 - categorical_accuracy: 0.9891 - cosine_similarity: 0.9907 - mean_absolute_error: 0.0041\n",
            "Epoch 46/50\n",
            "600/600 - 2s - loss: 0.0359 - categorical_accuracy: 0.9875 - cosine_similarity: 0.9894 - mean_absolute_error: 0.0044\n",
            "Epoch 47/50\n",
            "600/600 - 2s - loss: 0.0289 - categorical_accuracy: 0.9903 - cosine_similarity: 0.9916 - mean_absolute_error: 0.0037\n",
            "Epoch 48/50\n",
            "600/600 - 2s - loss: 0.0258 - categorical_accuracy: 0.9914 - cosine_similarity: 0.9926 - mean_absolute_error: 0.0033\n",
            "Epoch 49/50\n",
            "600/600 - 2s - loss: 0.0331 - categorical_accuracy: 0.9884 - cosine_similarity: 0.9902 - mean_absolute_error: 0.0039\n",
            "Epoch 50/50\n",
            "600/600 - 2s - loss: 0.0351 - categorical_accuracy: 0.9884 - cosine_similarity: 0.9900 - mean_absolute_error: 0.0040\n"
          ],
          "name": "stdout"
        }
      ]
    },
    {
      "cell_type": "markdown",
      "metadata": {
        "id": "TJQ91HMUnL6t"
      },
      "source": [
        "#### Plot training history"
      ]
    },
    {
      "cell_type": "code",
      "metadata": {
        "id": "GHNWickKnL6t",
        "outputId": "56299579-7d44-4ada-cc70-c6ecae025653",
        "colab": {
          "base_uri": "https://localhost:8080/",
          "height": 196
        }
      },
      "source": [
        "# Load the history into a pandas Dataframe\n",
        "\n",
        "train_df = pd.DataFrame(history.history)\n",
        "train_df.head()"
      ],
      "execution_count": 46,
      "outputs": [
        {
          "output_type": "execute_result",
          "data": {
            "text/html": [
              "<div>\n",
              "<style scoped>\n",
              "    .dataframe tbody tr th:only-of-type {\n",
              "        vertical-align: middle;\n",
              "    }\n",
              "\n",
              "    .dataframe tbody tr th {\n",
              "        vertical-align: top;\n",
              "    }\n",
              "\n",
              "    .dataframe thead th {\n",
              "        text-align: right;\n",
              "    }\n",
              "</style>\n",
              "<table border=\"1\" class=\"dataframe\">\n",
              "  <thead>\n",
              "    <tr style=\"text-align: right;\">\n",
              "      <th></th>\n",
              "      <th>loss</th>\n",
              "      <th>categorical_accuracy</th>\n",
              "      <th>cosine_similarity</th>\n",
              "      <th>mean_absolute_error</th>\n",
              "    </tr>\n",
              "  </thead>\n",
              "  <tbody>\n",
              "    <tr>\n",
              "      <th>0</th>\n",
              "      <td>0.659803</td>\n",
              "      <td>0.762383</td>\n",
              "      <td>0.801076</td>\n",
              "      <td>0.067845</td>\n",
              "    </tr>\n",
              "    <tr>\n",
              "      <th>1</th>\n",
              "      <td>0.438181</td>\n",
              "      <td>0.842800</td>\n",
              "      <td>0.868888</td>\n",
              "      <td>0.046529</td>\n",
              "    </tr>\n",
              "    <tr>\n",
              "      <th>2</th>\n",
              "      <td>0.388448</td>\n",
              "      <td>0.858600</td>\n",
              "      <td>0.883077</td>\n",
              "      <td>0.041303</td>\n",
              "    </tr>\n",
              "    <tr>\n",
              "      <th>3</th>\n",
              "      <td>0.356122</td>\n",
              "      <td>0.869900</td>\n",
              "      <td>0.892541</td>\n",
              "      <td>0.038066</td>\n",
              "    </tr>\n",
              "    <tr>\n",
              "      <th>4</th>\n",
              "      <td>0.329229</td>\n",
              "      <td>0.880000</td>\n",
              "      <td>0.900758</td>\n",
              "      <td>0.035315</td>\n",
              "    </tr>\n",
              "  </tbody>\n",
              "</table>\n",
              "</div>"
            ],
            "text/plain": [
              "       loss  categorical_accuracy  cosine_similarity  mean_absolute_error\n",
              "0  0.659803              0.762383           0.801076             0.067845\n",
              "1  0.438181              0.842800           0.868888             0.046529\n",
              "2  0.388448              0.858600           0.883077             0.041303\n",
              "3  0.356122              0.869900           0.892541             0.038066\n",
              "4  0.329229              0.880000           0.900758             0.035315"
            ]
          },
          "metadata": {
            "tags": []
          },
          "execution_count": 46
        }
      ]
    },
    {
      "cell_type": "code",
      "metadata": {
        "id": "0sE4pQWGnJt6"
      },
      "source": [
        "plt.rcParams[\"figure.figsize\"] = 24, 6"
      ],
      "execution_count": 52,
      "outputs": []
    },
    {
      "cell_type": "code",
      "metadata": {
        "id": "E7FVNjCwnL6w",
        "outputId": "531a08be-4566-440e-e981-53ef22bb4ee4",
        "colab": {
          "base_uri": "https://localhost:8080/",
          "height": 357
        }
      },
      "source": [
        "# Make a plot for the loss\n",
        "\n",
        "plt.subplot(1, 3, 1)\n",
        "plt.plot(train_df[\"loss\"], label=\"Cross Entropy Loss\")\n",
        "plt.xlabel(\"Epoch\")\n",
        "plt.ylabel(\"Cross Entropy Loss\")\n",
        "plt.legend()\n",
        "\n",
        "\n",
        "plt.subplot(1, 3, 2)\n",
        "plt.plot(train_df[\"categorical_accuracy\"], label=\"Accuracy\")\n",
        "plt.plot(train_df[\"cosine_similarity\"], label=\"Cosine Similarity\")\n",
        "plt.xlabel(\"Epoch\")\n",
        "plt.legend()\n",
        "\n",
        "plt.subplot(1, 3, 3)\n",
        "plt.plot(train_df[\"mean_absolute_error\"], label=\"MAE\")\n",
        "plt.xlabel(\"Epoch\")\n",
        "plt.ylabel(\"mean_absolute_error\")\n",
        "plt.legend()\n",
        "\n",
        "plt.show()"
      ],
      "execution_count": 58,
      "outputs": [
        {
          "output_type": "display_data",
          "data": {
            "image/png": "[encoded data removed]",
            "text/plain": [
              "<Figure size 1728x432 with 3 Axes>"
            ]
          },
          "metadata": {
            "tags": [],
            "needs_background": "light"
          }
        }
      ]
    },
    {
      "cell_type": "markdown",
      "metadata": {
        "id": "-6eAOmzgnL69"
      },
      "source": [
        "***\n",
        "<a id=\"coding_tutorial_5\"></a>\n",
        "## The evaluate and predict methods"
      ]
    },
    {
      "cell_type": "code",
      "metadata": {
        "id": "TgWNQiG2nL6-"
      },
      "source": [
        "import matplotlib.pyplot as plt\n",
        "import numpy as np"
      ],
      "execution_count": 59,
      "outputs": []
    },
    {
      "cell_type": "markdown",
      "metadata": {
        "id": "i8qDYLYsnL7C"
      },
      "source": [
        "#### Evaluate the model on the test set"
      ]
    },
    {
      "cell_type": "code",
      "metadata": {
        "id": "OU4PZG6inL7D",
        "outputId": "e424ce3b-f210-46d4-a3f1-7837d676ab7d",
        "colab": {
          "base_uri": "https://localhost:8080/"
        }
      },
      "source": [
        "# Evaluate the model\n",
        "\n",
        "loss, acc, cos, mae = model.evaluate(x = test_images[..., np.newaxis], \n",
        "                                     y = np.eye(10)[test_labels], \n",
        "                                     verbose=2)\n",
        "\n",
        "print(\"\\nCross EntropyLoss: {:0.6f}\\nAccuracy: {:0.6f}\\nCosine Similarity: {:0.6f}\\nMean Absolute Error: {:0.6f}\".format(loss, acc, cos, mae))"
      ],
      "execution_count": 66,
      "outputs": [
        {
          "output_type": "stream",
          "text": [
            "313/313 - 1s - loss: 0.6650 - categorical_accuracy: 0.8915 - cosine_similarity: 0.9011 - mean_absolute_error: 0.0225\n",
            "\n",
            "Cross EntropyLoss: 0.664976\n",
            "Accuracy: 0.891500\n",
            "Cosine Similarity: 0.901141\n",
            "Mean Absolute Error: 0.022513\n"
          ],
          "name": "stdout"
        }
      ]
    },
    {
      "cell_type": "markdown",
      "metadata": {
        "id": "KPPzvHzmnL7I"
      },
      "source": [
        "#### Make predictions from the model"
      ]
    },
    {
      "cell_type": "code",
      "metadata": {
        "id": "8EPiLAQhnL7J",
        "outputId": "9f6fe3a2-81db-434c-8642-856d0ea9548f",
        "colab": {
          "base_uri": "https://localhost:8080/",
          "height": 407
        }
      },
      "source": [
        "# Choose a random test image\n",
        "\n",
        "random_inx = np.random.choice(test_images.shape[0])\n",
        "\n",
        "test_image = test_images[random_inx]\n",
        "pred = np.argmax(model.predict(test_image[np.newaxis, ..., np.newaxis]))\n",
        "plt.imshow(test_image)\n",
        "plt.show()\n",
        "print(f\"Label: {labels[test_labels[random_inx]]}\")\n",
        "print(f\"Predicted Label: {labels[pred]}\")"
      ],
      "execution_count": 85,
      "outputs": [
        {
          "output_type": "display_data",
          "data": {
            "image/png": "[encoded data removed]",
            "text/plain": [
              "<Figure size 1728x432 with 1 Axes>"
            ]
          },
          "metadata": {
            "tags": [],
            "needs_background": "light"
          }
        },
        {
          "output_type": "stream",
          "text": [
            "Label: Sandal\n",
            "Predicted Label: Sandal\n"
          ],
          "name": "stdout"
        }
      ]
    },
    {
      "cell_type": "code",
      "metadata": {
        "id": "Yi1Ntna5nL7P"
      },
      "source": [
        "# Get the model predictions\n",
        "\n",
        "predicted_labels = np.argmax(\n",
        "                            a = model.predict(x = test_images[..., np.newaxis]),\n",
        "                            axis = 1\n",
        "                            )"
      ],
      "execution_count": 90,
      "outputs": []
    },
    {
      "cell_type": "code",
      "metadata": {
        "id": "A1xpTagFpYo3",
        "outputId": "7b1f54c7-7cd6-4fad-c033-509904b8c6a3",
        "colab": {
          "base_uri": "https://localhost:8080/"
        }
      },
      "source": [
        "print(\"Testing Accuracy: {}%\".format(100 * np.sum(predicted_labels == np.array(test_labels)) / len(test_labels)))"
      ],
      "execution_count": 95,
      "outputs": [
        {
          "output_type": "stream",
          "text": [
            "Testing Accuracy: 89.15%\n"
          ],
          "name": "stdout"
        }
      ]
    }
  ]
}