{
  "nbformat": 4,
  "nbformat_minor": 0,
  "metadata": {
    "kernelspec": {
      "display_name": "Python 3",
      "language": "python",
      "name": "python3"
    },
    "language_info": {
      "codemirror_mode": {
        "name": "ipython",
        "version": 3
      },
      "file_extension": ".py",
      "mimetype": "text/x-python",
      "name": "python",
      "nbconvert_exporter": "python",
      "pygments_lexer": "ipython3",
      "version": "3.7.1"
    },
    "colab": {
      "name": "Coding Tutorial.ipynb",
      "provenance": []
    }
  },
  "cells": [
    {
      "cell_type": "code",
      "metadata": {
        "scrolled": true,
        "id": "Wq5rlRbh0fF_",
        "outputId": "2e4aa62d-7385-401e-ccb5-ebe0d3d167b0",
        "colab": {
          "base_uri": "https://localhost:8080/"
        }
      },
      "source": [
        "import tensorflow as tf\n",
        "print(tf.__version__)"
      ],
      "execution_count": 3,
      "outputs": [
        {
          "output_type": "stream",
          "text": [
            "2.3.0\n"
          ],
          "name": "stdout"
        }
      ]
    },
    {
      "cell_type": "markdown",
      "metadata": {
        "id": "z9s247MY0fGF"
      },
      "source": [
        "# Validation, regularisation and callbacks"
      ]
    },
    {
      "cell_type": "markdown",
      "metadata": {
        "id": "1SgpLuzN0fGG"
      },
      "source": [
        " ## Coding tutorials\n",
        " #### [1. Validation sets](#coding_tutorial_1)\n",
        " #### [2. Model regularisation](#coding_tutorial_2)\n",
        " #### [3. Introduction to callbacks](#coding_tutorial_3)\n",
        " #### [4. Early stopping / patience](#coding_tutorial_4)"
      ]
    },
    {
      "cell_type": "markdown",
      "metadata": {
        "id": "EQyqageX0fGH"
      },
      "source": [
        "***\n",
        "<a id=\"coding_tutorial_1\"></a>\n",
        "## Validation sets"
      ]
    },
    {
      "cell_type": "markdown",
      "metadata": {
        "id": "HmpmKS9D0fGI"
      },
      "source": [
        "#### Load the data"
      ]
    },
    {
      "cell_type": "code",
      "metadata": {
        "id": "sZyekkm90fGI",
        "outputId": "dfe0621f-5a53-4538-e5b9-0a900c7d3cc0",
        "colab": {
          "base_uri": "https://localhost:8080/"
        }
      },
      "source": [
        "# Load the diabetes dataset\n",
        "\n",
        "from sklearn.datasets import load_diabetes\n",
        "\n",
        "diabetes_ds = load_diabetes()\n",
        "\n",
        "print(diabetes_ds[\"DESCR\"])"
      ],
      "execution_count": 137,
      "outputs": [
        {
          "output_type": "stream",
          "text": [
            ".. _diabetes_dataset:\n",
            "\n",
            "Diabetes dataset\n",
            "----------------\n",
            "\n",
            "Ten baseline variables, age, sex, body mass index, average blood\n",
            "pressure, and six blood serum measurements were obtained for each of n =\n",
            "442 diabetes patients, as well as the response of interest, a\n",
            "quantitative measure of disease progression one year after baseline.\n",
            "\n",
            "**Data Set Characteristics:**\n",
            "\n",
            "  :Number of Instances: 442\n",
            "\n",
            "  :Number of Attributes: First 10 columns are numeric predictive values\n",
            "\n",
            "  :Target: Column 11 is a quantitative measure of disease progression one year after baseline\n",
            "\n",
            "  :Attribute Information:\n",
            "      - Age\n",
            "      - Sex\n",
            "      - Body mass index\n",
            "      - Average blood pressure\n",
            "      - S1\n",
            "      - S2\n",
            "      - S3\n",
            "      - S4\n",
            "      - S5\n",
            "      - S6\n",
            "\n",
            "Note: Each of these 10 feature variables have been mean centered and scaled by the standard deviation times `n_samples` (i.e. the sum of squares of each column totals 1).\n",
            "\n",
            "Source URL:\n",
            "https://www4.stat.ncsu.edu/~boos/var.select/diabetes.html\n",
            "\n",
            "For more information see:\n",
            "Bradley Efron, Trevor Hastie, Iain Johnstone and Robert Tibshirani (2004) \"Least Angle Regression,\" Annals of Statistics (with discussion), 407-499.\n",
            "(https://web.stanford.edu/~hastie/Papers/LARS/LeastAngle_2002.pdf)\n"
          ],
          "name": "stdout"
        }
      ]
    },
    {
      "cell_type": "code",
      "metadata": {
        "id": "77OpnL480fGN"
      },
      "source": [
        "# Save the input and target variables\n",
        "\n",
        "X, Y = diabetes_ds[\"data\"], diabetes_ds[\"target\"]"
      ],
      "execution_count": 138,
      "outputs": []
    },
    {
      "cell_type": "code",
      "metadata": {
        "id": "F89fLrq40fGR"
      },
      "source": [
        "# Normalise the target data (this will make clearer training curves)\n",
        "\n",
        "X_std = (X - X.mean(axis=0)) / X.std(axis=0)"
      ],
      "execution_count": 139,
      "outputs": []
    },
    {
      "cell_type": "code",
      "metadata": {
        "id": "YAVBFe7o0fGY"
      },
      "source": [
        "# Split the data into train and test sets\n",
        "\n",
        "from sklearn.model_selection import train_test_split\n",
        "\n",
        "X_train, X_test, y_train, y_test = train_test_split(X_std, Y, test_size=0.33, random_state=42)"
      ],
      "execution_count": 140,
      "outputs": []
    },
    {
      "cell_type": "markdown",
      "metadata": {
        "id": "XE_DTZql0fGf"
      },
      "source": [
        "#### Train a feedforward neural network model"
      ]
    },
    {
      "cell_type": "code",
      "metadata": {
        "id": "2QDEsOf3Aint",
        "outputId": "5bd3f0a2-966c-4218-cc36-db39c6a90274",
        "colab": {
          "base_uri": "https://localhost:8080/"
        }
      },
      "source": [
        "X_train.shape"
      ],
      "execution_count": 141,
      "outputs": [
        {
          "output_type": "execute_result",
          "data": {
            "text/plain": [
              "(296, 10)"
            ]
          },
          "metadata": {
            "tags": []
          },
          "execution_count": 141
        }
      ]
    },
    {
      "cell_type": "code",
      "metadata": {
        "id": "uXctaKj30fGg"
      },
      "source": [
        "# Build the model\n",
        "\n",
        "from tensorflow.keras.models import Sequential\n",
        "from tensorflow.keras import layers, losses, metrics\n",
        "\n",
        "def get_unregularised_model():\n",
        "  model = Sequential([\n",
        "                    layers.InputLayer(input_shape=(10,)),\n",
        "                    layers.Dense(units=128, activation=\"relu\"),\n",
        "                    layers.Dense(units=128, activation=\"relu\"),\n",
        "                    layers.Dense(units=128, activation=\"relu\"),\n",
        "                    layers.Dense(units=128, activation=\"relu\"),\n",
        "                    layers.Dense(units=128, activation=\"relu\"),\n",
        "                    layers.Dense(units=128, activation=\"relu\"),\n",
        "                    layers.Dense(units=1)\n",
        "          ])\n",
        "  \n",
        "  return model"
      ],
      "execution_count": 142,
      "outputs": []
    },
    {
      "cell_type": "code",
      "metadata": {
        "id": "nzhwv6U40fGn",
        "outputId": "4083240c-5741-4454-cb29-ff1900c4e628",
        "colab": {
          "base_uri": "https://localhost:8080/"
        }
      },
      "source": [
        "# Print the model summary\n",
        "\n",
        "model = get_unregularised_model()\n",
        "model.summary()"
      ],
      "execution_count": 143,
      "outputs": [
        {
          "output_type": "stream",
          "text": [
            "Model: \"sequential_14\"\n",
            "_________________________________________________________________\n",
            "Layer (type)                 Output Shape              Param #   \n",
            "=================================================================\n",
            "dense_92 (Dense)             (None, 128)               1408      \n",
            "_________________________________________________________________\n",
            "dense_93 (Dense)             (None, 128)               16512     \n",
            "_________________________________________________________________\n",
            "dense_94 (Dense)             (None, 128)               16512     \n",
            "_________________________________________________________________\n",
            "dense_95 (Dense)             (None, 128)               16512     \n",
            "_________________________________________________________________\n",
            "dense_96 (Dense)             (None, 128)               16512     \n",
            "_________________________________________________________________\n",
            "dense_97 (Dense)             (None, 128)               16512     \n",
            "_________________________________________________________________\n",
            "dense_98 (Dense)             (None, 1)                 129       \n",
            "=================================================================\n",
            "Total params: 84,097\n",
            "Trainable params: 84,097\n",
            "Non-trainable params: 0\n",
            "_________________________________________________________________\n"
          ],
          "name": "stdout"
        }
      ]
    },
    {
      "cell_type": "code",
      "metadata": {
        "id": "MUH9SvWC0fGt"
      },
      "source": [
        "# Compile the model\n",
        "\n",
        "model.compile(optimizer=\"adam\", \n",
        "              loss=losses.MeanSquaredLogarithmicError(), \n",
        "              metrics=[metrics.MeanAbsoluteError(), metrics.MeanSquaredError()])"
      ],
      "execution_count": 144,
      "outputs": []
    },
    {
      "cell_type": "code",
      "metadata": {
        "id": "V9nghAGc0fGy",
        "outputId": "d9d06ae2-184b-4401-84b2-11120de306ff",
        "colab": {
          "base_uri": "https://localhost:8080/"
        }
      },
      "source": [
        "# Train the model, with some of the data reserved for validation\n",
        "\n",
        "history = model.fit(x = X_train, \n",
        "                    y = y_train, \n",
        "                    batch_size = 10, \n",
        "                    epochs = 50,\n",
        "                    validation_split = 0.2,\n",
        "                    verbose = 2)"
      ],
      "execution_count": 145,
      "outputs": [
        {
          "output_type": "stream",
          "text": [
            "Epoch 1/50\n",
            "24/24 - 0s - loss: 19.0530 - mean_absolute_error: 154.3551 - mean_squared_error: 30026.8301 - val_loss: 5.6662 - val_mean_absolute_error: 124.8872 - val_mean_squared_error: 20464.3750\n",
            "Epoch 2/50\n",
            "24/24 - 0s - loss: 1.5468 - mean_absolute_error: 94.9943 - mean_squared_error: 14135.1738 - val_loss: 0.4146 - val_mean_absolute_error: 72.4768 - val_mean_squared_error: 7476.6538\n",
            "Epoch 3/50\n",
            "24/24 - 0s - loss: 0.4015 - mean_absolute_error: 74.9196 - mean_squared_error: 9117.1025 - val_loss: 0.2386 - val_mean_absolute_error: 50.1277 - val_mean_squared_error: 4002.9775\n",
            "Epoch 4/50\n",
            "24/24 - 0s - loss: 0.2518 - mean_absolute_error: 56.9933 - mean_squared_error: 5157.6528 - val_loss: 0.2083 - val_mean_absolute_error: 47.1994 - val_mean_squared_error: 3911.6626\n",
            "Epoch 5/50\n",
            "24/24 - 0s - loss: 0.2297 - mean_absolute_error: 54.1168 - mean_squared_error: 4685.9526 - val_loss: 0.1888 - val_mean_absolute_error: 45.1019 - val_mean_squared_error: 3453.3521\n",
            "Epoch 6/50\n",
            "24/24 - 0s - loss: 0.2134 - mean_absolute_error: 52.4238 - mean_squared_error: 4308.1514 - val_loss: 0.1815 - val_mean_absolute_error: 44.5967 - val_mean_squared_error: 3386.1096\n",
            "Epoch 7/50\n",
            "24/24 - 0s - loss: 0.1999 - mean_absolute_error: 49.9026 - mean_squared_error: 4032.8225 - val_loss: 0.1802 - val_mean_absolute_error: 44.7144 - val_mean_squared_error: 3436.5088\n",
            "Epoch 8/50\n",
            "24/24 - 0s - loss: 0.1906 - mean_absolute_error: 48.5023 - mean_squared_error: 3790.8420 - val_loss: 0.1771 - val_mean_absolute_error: 44.2585 - val_mean_squared_error: 3347.5728\n",
            "Epoch 9/50\n",
            "24/24 - 0s - loss: 0.1848 - mean_absolute_error: 47.4740 - mean_squared_error: 3660.5310 - val_loss: 0.1779 - val_mean_absolute_error: 44.6476 - val_mean_squared_error: 3400.3352\n",
            "Epoch 10/50\n",
            "24/24 - 0s - loss: 0.1785 - mean_absolute_error: 46.6134 - mean_squared_error: 3526.6631 - val_loss: 0.1764 - val_mean_absolute_error: 44.3008 - val_mean_squared_error: 3347.8667\n",
            "Epoch 11/50\n",
            "24/24 - 0s - loss: 0.1728 - mean_absolute_error: 45.8133 - mean_squared_error: 3433.1726 - val_loss: 0.1776 - val_mean_absolute_error: 44.7273 - val_mean_squared_error: 3391.8975\n",
            "Epoch 12/50\n",
            "24/24 - 0s - loss: 0.1709 - mean_absolute_error: 45.5681 - mean_squared_error: 3353.0581 - val_loss: 0.1760 - val_mean_absolute_error: 44.2196 - val_mean_squared_error: 3310.4290\n",
            "Epoch 13/50\n",
            "24/24 - 0s - loss: 0.1656 - mean_absolute_error: 45.0108 - mean_squared_error: 3305.5427 - val_loss: 0.1781 - val_mean_absolute_error: 44.4056 - val_mean_squared_error: 3311.5549\n",
            "Epoch 14/50\n",
            "24/24 - 0s - loss: 0.1636 - mean_absolute_error: 44.8722 - mean_squared_error: 3281.5322 - val_loss: 0.1784 - val_mean_absolute_error: 44.8209 - val_mean_squared_error: 3358.8320\n",
            "Epoch 15/50\n",
            "24/24 - 0s - loss: 0.1599 - mean_absolute_error: 44.2570 - mean_squared_error: 3197.6785 - val_loss: 0.1795 - val_mean_absolute_error: 45.2459 - val_mean_squared_error: 3382.7888\n",
            "Epoch 16/50\n",
            "24/24 - 0s - loss: 0.1547 - mean_absolute_error: 43.7409 - mean_squared_error: 3080.7168 - val_loss: 0.1817 - val_mean_absolute_error: 45.0572 - val_mean_squared_error: 3356.2668\n",
            "Epoch 17/50\n",
            "24/24 - 0s - loss: 0.1520 - mean_absolute_error: 43.5129 - mean_squared_error: 3065.9402 - val_loss: 0.1802 - val_mean_absolute_error: 45.2850 - val_mean_squared_error: 3374.0437\n",
            "Epoch 18/50\n",
            "24/24 - 0s - loss: 0.1524 - mean_absolute_error: 42.9482 - mean_squared_error: 3010.8362 - val_loss: 0.1827 - val_mean_absolute_error: 46.1876 - val_mean_squared_error: 3529.2070\n",
            "Epoch 19/50\n",
            "24/24 - 0s - loss: 0.1488 - mean_absolute_error: 43.6317 - mean_squared_error: 3014.2695 - val_loss: 0.1821 - val_mean_absolute_error: 45.3405 - val_mean_squared_error: 3344.5400\n",
            "Epoch 20/50\n",
            "24/24 - 0s - loss: 0.1465 - mean_absolute_error: 42.9180 - mean_squared_error: 3003.0769 - val_loss: 0.1833 - val_mean_absolute_error: 45.9415 - val_mean_squared_error: 3449.8015\n",
            "Epoch 21/50\n",
            "24/24 - 0s - loss: 0.1421 - mean_absolute_error: 42.3121 - mean_squared_error: 2922.7908 - val_loss: 0.1835 - val_mean_absolute_error: 45.7708 - val_mean_squared_error: 3408.1299\n",
            "Epoch 22/50\n",
            "24/24 - 0s - loss: 0.1406 - mean_absolute_error: 41.7935 - mean_squared_error: 2872.2773 - val_loss: 0.1847 - val_mean_absolute_error: 45.8123 - val_mean_squared_error: 3408.7073\n",
            "Epoch 23/50\n",
            "24/24 - 0s - loss: 0.1384 - mean_absolute_error: 41.5362 - mean_squared_error: 2913.3462 - val_loss: 0.1852 - val_mean_absolute_error: 45.3595 - val_mean_squared_error: 3317.9421\n",
            "Epoch 24/50\n",
            "24/24 - 0s - loss: 0.1375 - mean_absolute_error: 41.7955 - mean_squared_error: 2846.4541 - val_loss: 0.1854 - val_mean_absolute_error: 46.1743 - val_mean_squared_error: 3505.2007\n",
            "Epoch 25/50\n",
            "24/24 - 0s - loss: 0.1368 - mean_absolute_error: 41.1737 - mean_squared_error: 2817.5906 - val_loss: 0.1895 - val_mean_absolute_error: 46.4711 - val_mean_squared_error: 3517.7947\n",
            "Epoch 26/50\n",
            "24/24 - 0s - loss: 0.1352 - mean_absolute_error: 40.6633 - mean_squared_error: 2777.8396 - val_loss: 0.1929 - val_mean_absolute_error: 47.2966 - val_mean_squared_error: 3691.1870\n",
            "Epoch 27/50\n",
            "24/24 - 0s - loss: 0.1369 - mean_absolute_error: 41.4791 - mean_squared_error: 2914.8298 - val_loss: 0.1921 - val_mean_absolute_error: 46.7086 - val_mean_squared_error: 3540.6201\n",
            "Epoch 28/50\n",
            "24/24 - 0s - loss: 0.1296 - mean_absolute_error: 40.2184 - mean_squared_error: 2764.9631 - val_loss: 0.1893 - val_mean_absolute_error: 45.5155 - val_mean_squared_error: 3370.8577\n",
            "Epoch 29/50\n",
            "24/24 - 0s - loss: 0.1269 - mean_absolute_error: 40.0016 - mean_squared_error: 2702.3005 - val_loss: 0.1892 - val_mean_absolute_error: 45.5521 - val_mean_squared_error: 3360.4204\n",
            "Epoch 30/50\n",
            "24/24 - 0s - loss: 0.1255 - mean_absolute_error: 40.0434 - mean_squared_error: 2668.7720 - val_loss: 0.1943 - val_mean_absolute_error: 46.0538 - val_mean_squared_error: 3463.3369\n",
            "Epoch 31/50\n",
            "24/24 - 0s - loss: 0.1268 - mean_absolute_error: 38.7955 - mean_squared_error: 2698.5090 - val_loss: 0.1897 - val_mean_absolute_error: 46.5092 - val_mean_squared_error: 3575.6604\n",
            "Epoch 32/50\n",
            "24/24 - 0s - loss: 0.1177 - mean_absolute_error: 38.5323 - mean_squared_error: 2524.4763 - val_loss: 0.1932 - val_mean_absolute_error: 45.1817 - val_mean_squared_error: 3352.5330\n",
            "Epoch 33/50\n",
            "24/24 - 0s - loss: 0.1193 - mean_absolute_error: 39.0605 - mean_squared_error: 2559.7551 - val_loss: 0.1915 - val_mean_absolute_error: 45.2501 - val_mean_squared_error: 3364.8025\n",
            "Epoch 34/50\n",
            "24/24 - 0s - loss: 0.1146 - mean_absolute_error: 38.5607 - mean_squared_error: 2543.2583 - val_loss: 0.1990 - val_mean_absolute_error: 45.4445 - val_mean_squared_error: 3420.6965\n",
            "Epoch 35/50\n",
            "24/24 - 0s - loss: 0.1165 - mean_absolute_error: 37.4790 - mean_squared_error: 2504.9678 - val_loss: 0.2002 - val_mean_absolute_error: 46.0592 - val_mean_squared_error: 3383.1257\n",
            "Epoch 36/50\n",
            "24/24 - 0s - loss: 0.1092 - mean_absolute_error: 36.9389 - mean_squared_error: 2358.3005 - val_loss: 0.1945 - val_mean_absolute_error: 46.0101 - val_mean_squared_error: 3506.5115\n",
            "Epoch 37/50\n",
            "24/24 - 0s - loss: 0.1064 - mean_absolute_error: 35.9356 - mean_squared_error: 2283.3394 - val_loss: 0.1968 - val_mean_absolute_error: 46.4083 - val_mean_squared_error: 3567.5442\n",
            "Epoch 38/50\n",
            "24/24 - 0s - loss: 0.1070 - mean_absolute_error: 37.1464 - mean_squared_error: 2432.7913 - val_loss: 0.2027 - val_mean_absolute_error: 46.0159 - val_mean_squared_error: 3456.0417\n",
            "Epoch 39/50\n",
            "24/24 - 0s - loss: 0.1095 - mean_absolute_error: 36.5061 - mean_squared_error: 2421.2158 - val_loss: 0.1976 - val_mean_absolute_error: 46.1262 - val_mean_squared_error: 3494.2302\n",
            "Epoch 40/50\n",
            "24/24 - 0s - loss: 0.0972 - mean_absolute_error: 35.3657 - mean_squared_error: 2252.6895 - val_loss: 0.2000 - val_mean_absolute_error: 46.5082 - val_mean_squared_error: 3512.0630\n",
            "Epoch 41/50\n",
            "24/24 - 0s - loss: 0.0925 - mean_absolute_error: 34.2824 - mean_squared_error: 2129.9702 - val_loss: 0.2083 - val_mean_absolute_error: 47.0594 - val_mean_squared_error: 3696.1069\n",
            "Epoch 42/50\n",
            "24/24 - 0s - loss: 0.0956 - mean_absolute_error: 34.9402 - mean_squared_error: 2162.6851 - val_loss: 0.2040 - val_mean_absolute_error: 46.5431 - val_mean_squared_error: 3505.3650\n",
            "Epoch 43/50\n",
            "24/24 - 0s - loss: 0.0906 - mean_absolute_error: 33.9609 - mean_squared_error: 2076.2166 - val_loss: 0.2123 - val_mean_absolute_error: 47.1268 - val_mean_squared_error: 3787.4556\n",
            "Epoch 44/50\n",
            "24/24 - 0s - loss: 0.0852 - mean_absolute_error: 33.3459 - mean_squared_error: 2038.9512 - val_loss: 0.1976 - val_mean_absolute_error: 45.5760 - val_mean_squared_error: 3416.8389\n",
            "Epoch 45/50\n",
            "24/24 - 0s - loss: 0.0877 - mean_absolute_error: 33.0095 - mean_squared_error: 2008.6198 - val_loss: 0.2137 - val_mean_absolute_error: 46.6801 - val_mean_squared_error: 3855.4026\n",
            "Epoch 46/50\n",
            "24/24 - 0s - loss: 0.0853 - mean_absolute_error: 33.1642 - mean_squared_error: 2020.0288 - val_loss: 0.2035 - val_mean_absolute_error: 46.3445 - val_mean_squared_error: 3604.2896\n",
            "Epoch 47/50\n",
            "24/24 - 0s - loss: 0.0773 - mean_absolute_error: 31.5173 - mean_squared_error: 1813.5256 - val_loss: 0.2089 - val_mean_absolute_error: 46.3497 - val_mean_squared_error: 3704.0698\n",
            "Epoch 48/50\n",
            "24/24 - 0s - loss: 0.0712 - mean_absolute_error: 30.9966 - mean_squared_error: 1802.8683 - val_loss: 0.2144 - val_mean_absolute_error: 46.6881 - val_mean_squared_error: 3668.9287\n",
            "Epoch 49/50\n",
            "24/24 - 0s - loss: 0.0692 - mean_absolute_error: 30.2103 - mean_squared_error: 1707.2632 - val_loss: 0.2182 - val_mean_absolute_error: 47.0685 - val_mean_squared_error: 3816.1562\n",
            "Epoch 50/50\n",
            "24/24 - 0s - loss: 0.0626 - mean_absolute_error: 29.8659 - mean_squared_error: 1617.6940 - val_loss: 0.2196 - val_mean_absolute_error: 46.2560 - val_mean_squared_error: 3849.7336\n"
          ],
          "name": "stdout"
        }
      ]
    },
    {
      "cell_type": "code",
      "metadata": {
        "id": "-bGRUkkh0fG6",
        "outputId": "c5547691-da9f-4758-a2d9-8614bbaa0555",
        "colab": {
          "base_uri": "https://localhost:8080/"
        }
      },
      "source": [
        "# Evaluate the model on the test set\n",
        "\n",
        "_ = model.evaluate(\n",
        "                    x = X_test, \n",
        "                    y = y_test, \n",
        "                    verbose=2\n",
        "                  )"
      ],
      "execution_count": 146,
      "outputs": [
        {
          "output_type": "stream",
          "text": [
            "5/5 - 0s - loss: 0.2108 - mean_absolute_error: 46.7213 - mean_squared_error: 3642.3811\n"
          ],
          "name": "stdout"
        }
      ]
    },
    {
      "cell_type": "markdown",
      "metadata": {
        "id": "JXUk604S0fHA"
      },
      "source": [
        "#### Plot the learning curves"
      ]
    },
    {
      "cell_type": "code",
      "metadata": {
        "id": "Vch_Efmc0fHB"
      },
      "source": [
        "import matplotlib.pyplot as plt\n",
        "%matplotlib inline"
      ],
      "execution_count": 147,
      "outputs": []
    },
    {
      "cell_type": "code",
      "metadata": {
        "id": "zQ-GZjBw0fHF",
        "outputId": "9806113b-9224-4bd8-a2d5-8ee274de8f7a",
        "colab": {
          "base_uri": "https://localhost:8080/",
          "height": 295
        }
      },
      "source": [
        "# Plot the training and validation loss\n",
        "\n",
        "plt.plot(history.history['loss'])\n",
        "plt.plot(history.history['val_loss'])\n",
        "plt.title('Loss vs. epochs')\n",
        "plt.ylabel('Loss')\n",
        "plt.xlabel('Epoch')\n",
        "plt.legend(['Training', 'Validation'], loc='upper right')\n",
        "plt.show()"
      ],
      "execution_count": 148,
      "outputs": [
        {
          "output_type": "display_data",
          "data": {
            "image/png": "[encoded data removed]",
            "text/plain": [
              "<Figure size 432x288 with 1 Axes>"
            ]
          },
          "metadata": {
            "tags": [],
            "needs_background": "light"
          }
        }
      ]
    },
    {
      "cell_type": "markdown",
      "metadata": {
        "id": "751jSqSB0fHJ"
      },
      "source": [
        "***\n",
        "<a id=\"coding_tutorial_2\"></a>\n",
        "## Model regularisation"
      ]
    },
    {
      "cell_type": "markdown",
      "metadata": {
        "id": "Dza0CZRx0fHK"
      },
      "source": [
        "#### Adding regularisation with weight decay and dropout"
      ]
    },
    {
      "cell_type": "code",
      "metadata": {
        "id": "gdQYO3yV0fHL"
      },
      "source": [
        "from tensorflow.keras import regularizers"
      ],
      "execution_count": 149,
      "outputs": []
    },
    {
      "cell_type": "code",
      "metadata": {
        "id": "2QtLMbt60fHP"
      },
      "source": [
        "def get_regularised_model(wd, rate):\n",
        "    model = Sequential([\n",
        "        layers.InputLayer(input_shape=(X_train.shape[1],)),\n",
        "        layers.Dense(128, activation=\"relu\", kernel_regularizer=regularizers.l2(wd)),\n",
        "        layers.Dropout(rate=rate),\n",
        "        layers.BatchNormalization(),\n",
        "        layers.Dense(128, activation=\"relu\", kernel_regularizer=regularizers.l2(wd)),\n",
        "        layers.Dropout(rate=rate),\n",
        "        layers.BatchNormalization(),\n",
        "        layers.Dense(128, activation=\"relu\", kernel_regularizer=regularizers.l2(wd)),\n",
        "        layers.Dropout(rate=rate),\n",
        "        layers.BatchNormalization(),\n",
        "        layers.Dense(128, activation=\"relu\", kernel_regularizer=regularizers.l2(wd)),\n",
        "        layers.Dropout(rate=rate),\n",
        "        layers.BatchNormalization(),\n",
        "        layers.Dense(128, activation=\"relu\", kernel_regularizer=regularizers.l2(wd)),\n",
        "        layers.Dropout(rate=rate),\n",
        "        layers.BatchNormalization(),\n",
        "        layers.Dense(128, activation=\"relu\", kernel_regularizer=regularizers.l2(wd)),\n",
        "        layers.Dropout(rate=rate),\n",
        "        layers.Dense(1)\n",
        "    ])\n",
        "    return model"
      ],
      "execution_count": 150,
      "outputs": []
    },
    {
      "cell_type": "code",
      "metadata": {
        "id": "kZ4Oq4cC0fHT",
        "outputId": "6e00ba22-e636-4425-8c96-3e35df7ef6b0",
        "colab": {
          "base_uri": "https://localhost:8080/"
        }
      },
      "source": [
        "# Re-build the model with weight decay and dropout layers\n",
        "\n",
        "model = get_regularised_model(1e-5, 0.3)\n",
        "\n",
        "model.summary()"
      ],
      "execution_count": 151,
      "outputs": [
        {
          "output_type": "stream",
          "text": [
            "Model: \"sequential_15\"\n",
            "_________________________________________________________________\n",
            "Layer (type)                 Output Shape              Param #   \n",
            "=================================================================\n",
            "dense_99 (Dense)             (None, 128)               1408      \n",
            "_________________________________________________________________\n",
            "dropout_60 (Dropout)         (None, 128)               0         \n",
            "_________________________________________________________________\n",
            "batch_normalization_41 (Batc (None, 128)               512       \n",
            "_________________________________________________________________\n",
            "dense_100 (Dense)            (None, 128)               16512     \n",
            "_________________________________________________________________\n",
            "dropout_61 (Dropout)         (None, 128)               0         \n",
            "_________________________________________________________________\n",
            "batch_normalization_42 (Batc (None, 128)               512       \n",
            "_________________________________________________________________\n",
            "dense_101 (Dense)            (None, 128)               16512     \n",
            "_________________________________________________________________\n",
            "dropout_62 (Dropout)         (None, 128)               0         \n",
            "_________________________________________________________________\n",
            "batch_normalization_43 (Batc (None, 128)               512       \n",
            "_________________________________________________________________\n",
            "dense_102 (Dense)            (None, 128)               16512     \n",
            "_________________________________________________________________\n",
            "dropout_63 (Dropout)         (None, 128)               0         \n",
            "_________________________________________________________________\n",
            "batch_normalization_44 (Batc (None, 128)               512       \n",
            "_________________________________________________________________\n",
            "dense_103 (Dense)            (None, 128)               16512     \n",
            "_________________________________________________________________\n",
            "dropout_64 (Dropout)         (None, 128)               0         \n",
            "_________________________________________________________________\n",
            "batch_normalization_45 (Batc (None, 128)               512       \n",
            "_________________________________________________________________\n",
            "dense_104 (Dense)            (None, 128)               16512     \n",
            "_________________________________________________________________\n",
            "dropout_65 (Dropout)         (None, 128)               0         \n",
            "_________________________________________________________________\n",
            "dense_105 (Dense)            (None, 1)                 129       \n",
            "=================================================================\n",
            "Total params: 86,657\n",
            "Trainable params: 85,377\n",
            "Non-trainable params: 1,280\n",
            "_________________________________________________________________\n"
          ],
          "name": "stdout"
        }
      ]
    },
    {
      "cell_type": "code",
      "metadata": {
        "id": "RCpZw_Hy0fHX"
      },
      "source": [
        "# Compile the model\n",
        "\n",
        "model.compile(optimizer=\"adam\", \n",
        "              loss = losses.MeanSquaredLogarithmicError(), \n",
        "              metrics=[metrics.MeanSquaredError(), metrics.MeanAbsoluteError()])"
      ],
      "execution_count": 152,
      "outputs": []
    },
    {
      "cell_type": "code",
      "metadata": {
        "id": "XREs-82L0fHa",
        "outputId": "7fdd7e96-d061-4b93-faff-fcdb36c82757",
        "colab": {
          "base_uri": "https://localhost:8080/"
        }
      },
      "source": [
        "# Train the model, with some of the data reserved for validation\n",
        "\n",
        "history = model.fit(x = X_train, \n",
        "                    y = y_train, \n",
        "                    batch_size = 10, \n",
        "                    epochs = 50,\n",
        "                    validation_split = 0.2,\n",
        "                    verbose = 2)"
      ],
      "execution_count": 153,
      "outputs": [
        {
          "output_type": "stream",
          "text": [
            "Epoch 1/50\n",
            "24/24 - 0s - loss: 19.0911 - mean_squared_error: 30262.4355 - mean_absolute_error: 155.1036 - val_loss: 19.2614 - val_mean_squared_error: 23317.6328 - val_mean_absolute_error: 135.5634\n",
            "Epoch 2/50\n",
            "24/24 - 0s - loss: 14.2829 - mean_squared_error: 29798.2773 - mean_absolute_error: 153.5329 - val_loss: 15.6696 - val_mean_squared_error: 23090.9258 - val_mean_absolute_error: 134.7315\n",
            "Epoch 3/50\n",
            "24/24 - 0s - loss: 11.9230 - mean_squared_error: 29386.3652 - mean_absolute_error: 152.2345 - val_loss: 13.1747 - val_mean_squared_error: 22838.4805 - val_mean_absolute_error: 133.8002\n",
            "Epoch 4/50\n",
            "24/24 - 0s - loss: 10.1541 - mean_squared_error: 28966.9355 - mean_absolute_error: 150.8382 - val_loss: 11.2806 - val_mean_squared_error: 22559.7676 - val_mean_absolute_error: 132.7577\n",
            "Epoch 5/50\n",
            "24/24 - 0s - loss: 9.0475 - mean_squared_error: 28593.9453 - mean_absolute_error: 149.6579 - val_loss: 9.6599 - val_mean_squared_error: 22228.5742 - val_mean_absolute_error: 131.4958\n",
            "Epoch 6/50\n",
            "24/24 - 0s - loss: 8.1295 - mean_squared_error: 28203.3438 - mean_absolute_error: 148.4059 - val_loss: 8.2884 - val_mean_squared_error: 21841.1621 - val_mean_absolute_error: 130.0260\n",
            "Epoch 7/50\n",
            "24/24 - 0s - loss: 7.2961 - mean_squared_error: 27788.0195 - mean_absolute_error: 146.9216 - val_loss: 7.0585 - val_mean_squared_error: 21373.4121 - val_mean_absolute_error: 128.2247\n",
            "Epoch 8/50\n",
            "24/24 - 0s - loss: 6.4393 - mean_squared_error: 27211.8145 - mean_absolute_error: 145.2290 - val_loss: 5.9635 - val_mean_squared_error: 20806.6758 - val_mean_absolute_error: 126.0493\n",
            "Epoch 9/50\n",
            "24/24 - 0s - loss: 5.8286 - mean_squared_error: 26774.8262 - mean_absolute_error: 143.5805 - val_loss: 5.0290 - val_mean_squared_error: 20168.9922 - val_mean_absolute_error: 123.5366\n",
            "Epoch 10/50\n",
            "24/24 - 0s - loss: 5.2184 - mean_squared_error: 26194.1504 - mean_absolute_error: 141.5604 - val_loss: 4.2601 - val_mean_squared_error: 19473.4199 - val_mean_absolute_error: 120.7869\n",
            "Epoch 11/50\n",
            "24/24 - 0s - loss: 4.5937 - mean_squared_error: 25445.0215 - mean_absolute_error: 139.2516 - val_loss: 3.5688 - val_mean_squared_error: 18661.4199 - val_mean_absolute_error: 117.5246\n",
            "Epoch 12/50\n",
            "24/24 - 0s - loss: 3.9913 - mean_squared_error: 24650.3320 - mean_absolute_error: 136.4403 - val_loss: 2.9991 - val_mean_squared_error: 17800.3535 - val_mean_absolute_error: 114.0023\n",
            "Epoch 13/50\n",
            "24/24 - 0s - loss: 3.6000 - mean_squared_error: 23905.9160 - mean_absolute_error: 133.8878 - val_loss: 2.5097 - val_mean_squared_error: 16864.1152 - val_mean_absolute_error: 110.0968\n",
            "Epoch 14/50\n",
            "24/24 - 0s - loss: 3.1719 - mean_squared_error: 23177.6250 - mean_absolute_error: 130.9050 - val_loss: 2.0941 - val_mean_squared_error: 15917.0684 - val_mean_absolute_error: 105.8504\n",
            "Epoch 15/50\n",
            "24/24 - 0s - loss: 2.7568 - mean_squared_error: 22138.0273 - mean_absolute_error: 127.3075 - val_loss: 1.7482 - val_mean_squared_error: 14922.3330 - val_mean_absolute_error: 101.3013\n",
            "Epoch 16/50\n",
            "24/24 - 0s - loss: 2.3772 - mean_squared_error: 21033.9824 - mean_absolute_error: 123.1223 - val_loss: 1.4716 - val_mean_squared_error: 13997.6025 - val_mean_absolute_error: 96.7597\n",
            "Epoch 17/50\n",
            "24/24 - 0s - loss: 2.0400 - mean_squared_error: 19891.7891 - mean_absolute_error: 118.8940 - val_loss: 1.2506 - val_mean_squared_error: 13091.5654 - val_mean_absolute_error: 92.2577\n",
            "Epoch 18/50\n",
            "24/24 - 0s - loss: 1.8050 - mean_squared_error: 19099.4746 - mean_absolute_error: 115.1370 - val_loss: 1.0510 - val_mean_squared_error: 12147.0039 - val_mean_absolute_error: 87.6022\n",
            "Epoch 19/50\n",
            "24/24 - 0s - loss: 1.5506 - mean_squared_error: 18023.6816 - mean_absolute_error: 111.2017 - val_loss: 0.8998 - val_mean_squared_error: 11268.3584 - val_mean_absolute_error: 83.5929\n",
            "Epoch 20/50\n",
            "24/24 - 0s - loss: 1.3367 - mean_squared_error: 16806.0859 - mean_absolute_error: 106.1488 - val_loss: 0.7581 - val_mean_squared_error: 10367.1064 - val_mean_absolute_error: 79.2148\n",
            "Epoch 21/50\n",
            "24/24 - 0s - loss: 1.1725 - mean_squared_error: 15955.1807 - mean_absolute_error: 102.7015 - val_loss: 0.6686 - val_mean_squared_error: 9664.1553 - val_mean_absolute_error: 75.7912\n",
            "Epoch 22/50\n",
            "24/24 - 0s - loss: 1.0278 - mean_squared_error: 14927.6465 - mean_absolute_error: 97.9540 - val_loss: 0.5881 - val_mean_squared_error: 9029.0039 - val_mean_absolute_error: 72.7209\n",
            "Epoch 23/50\n",
            "24/24 - 0s - loss: 0.8810 - mean_squared_error: 13922.4395 - mean_absolute_error: 95.6156 - val_loss: 0.5267 - val_mean_squared_error: 8422.4736 - val_mean_absolute_error: 69.9526\n",
            "Epoch 24/50\n",
            "24/24 - 0s - loss: 0.7722 - mean_squared_error: 12958.9639 - mean_absolute_error: 89.6386 - val_loss: 0.4801 - val_mean_squared_error: 7904.7720 - val_mean_absolute_error: 67.4361\n",
            "Epoch 25/50\n",
            "24/24 - 0s - loss: 0.6961 - mean_squared_error: 12180.2207 - mean_absolute_error: 85.9165 - val_loss: 0.4342 - val_mean_squared_error: 7392.7622 - val_mean_absolute_error: 64.8615\n",
            "Epoch 26/50\n",
            "24/24 - 0s - loss: 0.6421 - mean_squared_error: 11576.8057 - mean_absolute_error: 84.2072 - val_loss: 0.4016 - val_mean_squared_error: 6971.9390 - val_mean_absolute_error: 62.9557\n",
            "Epoch 27/50\n",
            "24/24 - 0s - loss: 0.5690 - mean_squared_error: 10818.7529 - mean_absolute_error: 81.5385 - val_loss: 0.3753 - val_mean_squared_error: 6635.1797 - val_mean_absolute_error: 61.4970\n",
            "Epoch 28/50\n",
            "24/24 - 0s - loss: 0.5424 - mean_squared_error: 10344.7354 - mean_absolute_error: 79.0901 - val_loss: 0.3459 - val_mean_squared_error: 6258.4595 - val_mean_absolute_error: 59.7692\n",
            "Epoch 29/50\n",
            "24/24 - 0s - loss: 0.5354 - mean_squared_error: 10544.1279 - mean_absolute_error: 78.1756 - val_loss: 0.3317 - val_mean_squared_error: 5932.2021 - val_mean_absolute_error: 58.4008\n",
            "Epoch 30/50\n",
            "24/24 - 0s - loss: 0.4376 - mean_squared_error: 9284.3525 - mean_absolute_error: 74.2268 - val_loss: 0.3252 - val_mean_squared_error: 5660.6934 - val_mean_absolute_error: 57.3074\n",
            "Epoch 31/50\n",
            "24/24 - 0s - loss: 0.4502 - mean_squared_error: 9154.6045 - mean_absolute_error: 74.2561 - val_loss: 0.3062 - val_mean_squared_error: 5382.8960 - val_mean_absolute_error: 56.0518\n",
            "Epoch 32/50\n",
            "24/24 - 0s - loss: 0.4169 - mean_squared_error: 8502.7324 - mean_absolute_error: 71.0399 - val_loss: 0.2892 - val_mean_squared_error: 5093.7256 - val_mean_absolute_error: 54.7111\n",
            "Epoch 33/50\n",
            "24/24 - 0s - loss: 0.3803 - mean_squared_error: 7960.0684 - mean_absolute_error: 69.9693 - val_loss: 0.2771 - val_mean_squared_error: 4931.5078 - val_mean_absolute_error: 53.9328\n",
            "Epoch 34/50\n",
            "24/24 - 0s - loss: 0.3361 - mean_squared_error: 7507.3535 - mean_absolute_error: 66.8231 - val_loss: 0.2746 - val_mean_squared_error: 4811.7988 - val_mean_absolute_error: 53.4928\n",
            "Epoch 35/50\n",
            "24/24 - 0s - loss: 0.3641 - mean_squared_error: 7746.8745 - mean_absolute_error: 68.7431 - val_loss: 0.2646 - val_mean_squared_error: 4621.9854 - val_mean_absolute_error: 52.6200\n",
            "Epoch 36/50\n",
            "24/24 - 0s - loss: 0.3632 - mean_squared_error: 7284.0986 - mean_absolute_error: 67.8018 - val_loss: 0.2548 - val_mean_squared_error: 4468.0000 - val_mean_absolute_error: 51.8874\n",
            "Epoch 37/50\n",
            "24/24 - 0s - loss: 0.3078 - mean_squared_error: 6647.6689 - mean_absolute_error: 64.4401 - val_loss: 0.2474 - val_mean_squared_error: 4302.1157 - val_mean_absolute_error: 50.9884\n",
            "Epoch 38/50\n",
            "24/24 - 0s - loss: 0.3164 - mean_squared_error: 6709.3301 - mean_absolute_error: 65.0154 - val_loss: 0.2421 - val_mean_squared_error: 4221.1123 - val_mean_absolute_error: 50.3040\n",
            "Epoch 39/50\n",
            "24/24 - 0s - loss: 0.3026 - mean_squared_error: 6505.3560 - mean_absolute_error: 61.5564 - val_loss: 0.2481 - val_mean_squared_error: 4223.0723 - val_mean_absolute_error: 50.4250\n",
            "Epoch 40/50\n",
            "24/24 - 0s - loss: 0.3004 - mean_squared_error: 6552.7949 - mean_absolute_error: 62.6924 - val_loss: 0.2425 - val_mean_squared_error: 4155.9517 - val_mean_absolute_error: 49.8237\n",
            "Epoch 41/50\n",
            "24/24 - 0s - loss: 0.2988 - mean_squared_error: 6294.7847 - mean_absolute_error: 62.9661 - val_loss: 0.2372 - val_mean_squared_error: 4108.5103 - val_mean_absolute_error: 49.3932\n",
            "Epoch 42/50\n",
            "24/24 - 0s - loss: 0.3181 - mean_squared_error: 6369.3984 - mean_absolute_error: 63.6444 - val_loss: 0.2325 - val_mean_squared_error: 4018.0830 - val_mean_absolute_error: 49.3849\n",
            "Epoch 43/50\n",
            "24/24 - 0s - loss: 0.2918 - mean_squared_error: 5716.4653 - mean_absolute_error: 59.7688 - val_loss: 0.2333 - val_mean_squared_error: 3989.7173 - val_mean_absolute_error: 49.5455\n",
            "Epoch 44/50\n",
            "24/24 - 0s - loss: 0.2484 - mean_squared_error: 5444.8667 - mean_absolute_error: 57.7508 - val_loss: 0.2307 - val_mean_squared_error: 3932.3723 - val_mean_absolute_error: 49.2777\n",
            "Epoch 45/50\n",
            "24/24 - 0s - loss: 0.2906 - mean_squared_error: 5896.0869 - mean_absolute_error: 61.3338 - val_loss: 0.2383 - val_mean_squared_error: 3998.1006 - val_mean_absolute_error: 49.6642\n",
            "Epoch 46/50\n",
            "24/24 - 0s - loss: 0.2719 - mean_squared_error: 5457.7056 - mean_absolute_error: 59.0812 - val_loss: 0.2368 - val_mean_squared_error: 3958.2109 - val_mean_absolute_error: 49.6933\n",
            "Epoch 47/50\n",
            "24/24 - 0s - loss: 0.2388 - mean_squared_error: 4955.1445 - mean_absolute_error: 56.7943 - val_loss: 0.2325 - val_mean_squared_error: 3886.8503 - val_mean_absolute_error: 49.0742\n",
            "Epoch 48/50\n",
            "24/24 - 0s - loss: 0.2519 - mean_squared_error: 5030.9077 - mean_absolute_error: 56.3333 - val_loss: 0.2426 - val_mean_squared_error: 3896.9368 - val_mean_absolute_error: 49.5137\n",
            "Epoch 49/50\n",
            "24/24 - 0s - loss: 0.2515 - mean_squared_error: 4985.9741 - mean_absolute_error: 57.2277 - val_loss: 0.2400 - val_mean_squared_error: 3869.1401 - val_mean_absolute_error: 49.5469\n",
            "Epoch 50/50\n",
            "24/24 - 0s - loss: 0.2555 - mean_squared_error: 4933.3706 - mean_absolute_error: 57.8294 - val_loss: 0.2395 - val_mean_squared_error: 3868.2852 - val_mean_absolute_error: 49.5637\n"
          ],
          "name": "stdout"
        }
      ]
    },
    {
      "cell_type": "code",
      "metadata": {
        "id": "8-u_pR9Q0fHf",
        "outputId": "436b87a4-27d0-402c-f404-6db117572f55",
        "colab": {
          "base_uri": "https://localhost:8080/"
        }
      },
      "source": [
        "# Evaluate the model on the test set\n",
        "\n",
        "_ = model.evaluate(\n",
        "                    x = X_test, \n",
        "                    y = y_test, \n",
        "                    verbose=2\n",
        "                  )"
      ],
      "execution_count": 154,
      "outputs": [
        {
          "output_type": "stream",
          "text": [
            "5/5 - 0s - loss: 0.1886 - mean_squared_error: 3249.0042 - mean_absolute_error: 45.2757\n"
          ],
          "name": "stdout"
        }
      ]
    },
    {
      "cell_type": "markdown",
      "metadata": {
        "id": "BpEbV21u0fHj"
      },
      "source": [
        "#### Plot the learning curves"
      ]
    },
    {
      "cell_type": "code",
      "metadata": {
        "id": "CYUguM4S0fHj",
        "outputId": "4268fd24-d082-453f-fe67-d2815645bd2a",
        "colab": {
          "base_uri": "https://localhost:8080/",
          "height": 295
        }
      },
      "source": [
        "# Plot the training and validation loss\n",
        "\n",
        "import matplotlib.pyplot as plt\n",
        "\n",
        "plt.plot(history.history['loss'])\n",
        "plt.plot(history.history['val_loss'])\n",
        "plt.title('Loss vs. epochs')\n",
        "plt.ylabel('Loss')\n",
        "plt.xlabel('Epoch')\n",
        "plt.legend(['Training', 'Validation'], loc='upper right')\n",
        "plt.show()"
      ],
      "execution_count": 155,
      "outputs": [
        {
          "output_type": "display_data",
          "data": {
            "image/png": "[encoded data removed]",
            "text/plain": [
              "<Figure size 432x288 with 1 Axes>"
            ]
          },
          "metadata": {
            "tags": [],
            "needs_background": "light"
          }
        }
      ]
    },
    {
      "cell_type": "markdown",
      "metadata": {
        "id": "OwYgSDdu0fHm"
      },
      "source": [
        "***\n",
        "<a id=\"coding_tutorial_3\"></a>\n",
        "## Introduction to callbacks"
      ]
    },
    {
      "cell_type": "markdown",
      "metadata": {
        "id": "pNGNzRFd0fHm"
      },
      "source": [
        "#### Example training callback"
      ]
    },
    {
      "cell_type": "code",
      "metadata": {
        "id": "HE4UMzOZ0fHn"
      },
      "source": [
        "# Write a custom callback\n",
        "from tensorflow.keras import callbacks\n",
        "\n",
        "class TrainingCallback(callbacks.Callback):\n",
        "\n",
        "    def on_train_begin(self, logs=None):\n",
        "        print(\"Initiating Training ...\")\n",
        "    \n",
        "    def on_epoch_begin(self, epoch, logs=None):\n",
        "        print(f\"Initiating Epoch: {epoch}\")\n",
        "    \n",
        "    def on_train_batch_begin(self, batch, logs=None):\n",
        "        print(f\"Initiating Training for Batch: {batch}\")\n",
        "    \n",
        "    def on_train_batch_end(self, batch, logs=None):\n",
        "        print(f\"Training Completes for Batch: {batch}\")\n",
        "    \n",
        "    def on_epoch_end(self, epoch, logs=None):\n",
        "        print(f\"{epoch} Epoch Completes\")\n",
        "\n",
        "    def on_train_end(self, logs=None):\n",
        "        print(\"Training Completes\")\n",
        "\n",
        "\n",
        "class TestingCallback(callbacks.Callback):\n",
        "\n",
        "    def on_test_begin(self, logs=None):\n",
        "        print(\"Initiating Testing ...\")\n",
        "    \n",
        "    def on_test_batch_begin(self, batch, logs=None):\n",
        "        print(f\"Initiating Testing for Batch: {batch}\")\n",
        "    \n",
        "    def on_test_batch_end(self, batch, logs=None):\n",
        "        print(f\"Testing Completes for Batch: {batch}\")\n",
        "\n",
        "    def on_test_end(self, logs=None):\n",
        "        print(\"Testing Completes\")\n",
        "\n",
        "\n",
        "class PredictionCallback(callbacks.Callback):\n",
        "\n",
        "    def on_predict_begin(self, logs=None):\n",
        "        print(\"Initiating Prediction ...\")\n",
        "    \n",
        "    def on_predict_batch_begin(self, batch, logs=None):\n",
        "        print(f\"Prediction Testing for Batch: {batch}\")\n",
        "    \n",
        "    def on_predict_batch_end(self, batch, logs=None):\n",
        "        print(f\"Prediction Completes for Batch: {batch}\")\n",
        "\n",
        "    def on_predict_end(self, logs=None):\n",
        "        print(\"Prediction Completes\")"
      ],
      "execution_count": 156,
      "outputs": []
    },
    {
      "cell_type": "code",
      "metadata": {
        "id": "gDJDxdDm0fHp",
        "outputId": "ce5b90ab-a578-44be-f952-f1434cd0c6b0",
        "colab": {
          "base_uri": "https://localhost:8080/"
        }
      },
      "source": [
        "# Re-build the model\n",
        "\n",
        "model = get_regularised_model(1e-5, 0.3)\n",
        "\n",
        "model.summary()"
      ],
      "execution_count": 157,
      "outputs": [
        {
          "output_type": "stream",
          "text": [
            "Model: \"sequential_16\"\n",
            "_________________________________________________________________\n",
            "Layer (type)                 Output Shape              Param #   \n",
            "=================================================================\n",
            "dense_106 (Dense)            (None, 128)               1408      \n",
            "_________________________________________________________________\n",
            "dropout_66 (Dropout)         (None, 128)               0         \n",
            "_________________________________________________________________\n",
            "batch_normalization_46 (Batc (None, 128)               512       \n",
            "_________________________________________________________________\n",
            "dense_107 (Dense)            (None, 128)               16512     \n",
            "_________________________________________________________________\n",
            "dropout_67 (Dropout)         (None, 128)               0         \n",
            "_________________________________________________________________\n",
            "batch_normalization_47 (Batc (None, 128)               512       \n",
            "_________________________________________________________________\n",
            "dense_108 (Dense)            (None, 128)               16512     \n",
            "_________________________________________________________________\n",
            "dropout_68 (Dropout)         (None, 128)               0         \n",
            "_________________________________________________________________\n",
            "batch_normalization_48 (Batc (None, 128)               512       \n",
            "_________________________________________________________________\n",
            "dense_109 (Dense)            (None, 128)               16512     \n",
            "_________________________________________________________________\n",
            "dropout_69 (Dropout)         (None, 128)               0         \n",
            "_________________________________________________________________\n",
            "batch_normalization_49 (Batc (None, 128)               512       \n",
            "_________________________________________________________________\n",
            "dense_110 (Dense)            (None, 128)               16512     \n",
            "_________________________________________________________________\n",
            "dropout_70 (Dropout)         (None, 128)               0         \n",
            "_________________________________________________________________\n",
            "batch_normalization_50 (Batc (None, 128)               512       \n",
            "_________________________________________________________________\n",
            "dense_111 (Dense)            (None, 128)               16512     \n",
            "_________________________________________________________________\n",
            "dropout_71 (Dropout)         (None, 128)               0         \n",
            "_________________________________________________________________\n",
            "dense_112 (Dense)            (None, 1)                 129       \n",
            "=================================================================\n",
            "Total params: 86,657\n",
            "Trainable params: 85,377\n",
            "Non-trainable params: 1,280\n",
            "_________________________________________________________________\n"
          ],
          "name": "stdout"
        }
      ]
    },
    {
      "cell_type": "code",
      "metadata": {
        "id": "3dTW1hW10fHt"
      },
      "source": [
        "# Compile the model\n",
        "\n",
        "model.compile(optimizer=\"adam\", \n",
        "              loss = losses.MeanSquaredLogarithmicError(), \n",
        "              metrics=[metrics.MeanSquaredError(), metrics.MeanAbsoluteError()])"
      ],
      "execution_count": 158,
      "outputs": []
    },
    {
      "cell_type": "markdown",
      "metadata": {
        "id": "oEFox0v50fHy"
      },
      "source": [
        "#### Train the model with the callback"
      ]
    },
    {
      "cell_type": "code",
      "metadata": {
        "id": "cvTvI7F50fHz",
        "outputId": "66d7df55-d64b-471b-e8ff-aa82c48f6157",
        "colab": {
          "base_uri": "https://localhost:8080/"
        }
      },
      "source": [
        "# Train the model, with some of the data reserved for validation\n",
        "\n",
        "history = model.fit(x = X_train, \n",
        "                    y = y_train, \n",
        "                    batch_size = 100, \n",
        "                    epochs = 5,\n",
        "                    verbose = False,\n",
        "                    callbacks = [TrainingCallback()])"
      ],
      "execution_count": 159,
      "outputs": [
        {
          "output_type": "stream",
          "text": [
            "Initiating Training ...\n",
            "Initiating Epoch: 0\n",
            "Initiating Training for Batch: 0\n",
            "Training Completes for Batch: 0\n",
            "Initiating Training for Batch: 1\n",
            "Training Completes for Batch: 1\n",
            "Initiating Training for Batch: 2\n",
            "Training Completes for Batch: 2\n",
            "0 Epoch Completes\n",
            "Initiating Epoch: 1\n",
            "Initiating Training for Batch: 0\n",
            "Training Completes for Batch: 0\n",
            "Initiating Training for Batch: 1\n",
            "Training Completes for Batch: 1\n",
            "Initiating Training for Batch: 2\n",
            "Training Completes for Batch: 2\n",
            "1 Epoch Completes\n",
            "Initiating Epoch: 2\n",
            "Initiating Training for Batch: 0\n",
            "Training Completes for Batch: 0\n",
            "Initiating Training for Batch: 1\n",
            "Training Completes for Batch: 1\n",
            "Initiating Training for Batch: 2\n",
            "Training Completes for Batch: 2\n",
            "2 Epoch Completes\n",
            "Initiating Epoch: 3\n",
            "Initiating Training for Batch: 0\n",
            "Training Completes for Batch: 0\n",
            "Initiating Training for Batch: 1\n",
            "Training Completes for Batch: 1\n",
            "Initiating Training for Batch: 2\n",
            "Training Completes for Batch: 2\n",
            "3 Epoch Completes\n",
            "Initiating Epoch: 4\n",
            "Initiating Training for Batch: 0\n",
            "Training Completes for Batch: 0\n",
            "Initiating Training for Batch: 1\n",
            "Training Completes for Batch: 1\n",
            "Initiating Training for Batch: 2\n",
            "Training Completes for Batch: 2\n",
            "4 Epoch Completes\n",
            "Training Completes\n"
          ],
          "name": "stdout"
        }
      ]
    },
    {
      "cell_type": "code",
      "metadata": {
        "id": "-WI40Aix0fH3",
        "outputId": "f2b08a12-e42f-4ba4-cb4e-2b88d7ad54c3",
        "colab": {
          "base_uri": "https://localhost:8080/"
        }
      },
      "source": [
        "# Evaluate the model\n",
        "\n",
        "model.evaluate(X_test, \n",
        "               y_test, \n",
        "               verbose=False, \n",
        "               callbacks=[TestingCallback()])"
      ],
      "execution_count": 160,
      "outputs": [
        {
          "output_type": "stream",
          "text": [
            "Initiating Testing ...\n",
            "Initiating Testing for Batch: 0\n",
            "Testing Completes for Batch: 0\n",
            "Initiating Testing for Batch: 1\n",
            "Testing Completes for Batch: 1\n",
            "Initiating Testing for Batch: 2\n",
            "Testing Completes for Batch: 2\n",
            "Initiating Testing for Batch: 3\n",
            "Testing Completes for Batch: 3\n",
            "Initiating Testing for Batch: 4\n",
            "Testing Completes for Batch: 4\n",
            "Testing Completes\n"
          ],
          "name": "stdout"
        },
        {
          "output_type": "execute_result",
          "data": {
            "text/plain": [
              "[21.438451766967773, 28883.97265625, 152.08676147460938]"
            ]
          },
          "metadata": {
            "tags": []
          },
          "execution_count": 160
        }
      ]
    },
    {
      "cell_type": "code",
      "metadata": {
        "id": "UuV3Lt0w0fH6",
        "outputId": "88f6e474-db98-4a6c-ee20-2d3d7fe8aca1",
        "colab": {
          "base_uri": "https://localhost:8080/"
        }
      },
      "source": [
        "# Make predictions with the model\n",
        "\n",
        "y_pred = model.predict(X_test, batch_size=32, verbose=False, callbacks=[PredictionCallback()])"
      ],
      "execution_count": 161,
      "outputs": [
        {
          "output_type": "stream",
          "text": [
            "Initiating Prediction ...\n",
            "Prediction Testing for Batch: 0\n",
            "Prediction Completes for Batch: 0\n",
            "Prediction Testing for Batch: 1\n",
            "Prediction Completes for Batch: 1\n",
            "Prediction Testing for Batch: 2\n",
            "Prediction Completes for Batch: 2\n",
            "Prediction Testing for Batch: 3\n",
            "Prediction Completes for Batch: 3\n",
            "Prediction Testing for Batch: 4\n",
            "Prediction Completes for Batch: 4\n",
            "Prediction Completes\n"
          ],
          "name": "stdout"
        }
      ]
    },
    {
      "cell_type": "markdown",
      "metadata": {
        "id": "KKMJDFIL0fH9"
      },
      "source": [
        "***\n",
        "<a id=\"coding_tutorial_4\"></a>\n",
        "## Early stopping / patience"
      ]
    },
    {
      "cell_type": "markdown",
      "metadata": {
        "id": "MKydby5A0fH-"
      },
      "source": [
        "#### Re-train the models with early stopping"
      ]
    },
    {
      "cell_type": "code",
      "metadata": {
        "id": "P1uRqgYu0fH-",
        "outputId": "ae8d3017-465f-4602-dabc-054dac38372d",
        "colab": {
          "base_uri": "https://localhost:8080/"
        }
      },
      "source": [
        "# Re-train the unregularised model\n",
        "\n",
        "unreg_model = get_unregularised_model()\n",
        "\n",
        "unreg_model.compile(optimizer=\"adam\", \n",
        "              loss = losses.MeanSquaredLogarithmicError(), \n",
        "              metrics=[metrics.MeanSquaredError(), metrics.MeanAbsoluteError()])\n",
        "\n",
        "unreg_history = unreg_model.fit(x = X_train, \n",
        "                    y = y_train, \n",
        "                    batch_size = 32, \n",
        "                    epochs = 100,\n",
        "                    validation_split = 0.2,\n",
        "                    verbose = 2,\n",
        "                    callbacks = [callbacks.EarlyStopping(patience=5)])"
      ],
      "execution_count": 169,
      "outputs": [
        {
          "output_type": "stream",
          "text": [
            "Epoch 1/100\n",
            "8/8 - 0s - loss: 20.5088 - mean_squared_error: 30350.7148 - mean_absolute_error: 155.4008 - val_loss: 13.4027 - val_mean_squared_error: 22832.4766 - val_mean_absolute_error: 133.8434\n",
            "Epoch 2/100\n",
            "8/8 - 0s - loss: 9.5587 - mean_squared_error: 28364.2520 - mean_absolute_error: 149.1916 - val_loss: 3.8652 - val_mean_squared_error: 18810.9590 - val_mean_absolute_error: 118.2742\n",
            "Epoch 3/100\n",
            "8/8 - 0s - loss: 2.3043 - mean_squared_error: 20066.1816 - mean_absolute_error: 118.6902 - val_loss: 0.5324 - val_mean_squared_error: 8434.9902 - val_mean_absolute_error: 69.7031\n",
            "Epoch 4/100\n",
            "8/8 - 0s - loss: 0.4253 - mean_squared_error: 8044.0044 - mean_absolute_error: 72.3418 - val_loss: 0.3695 - val_mean_squared_error: 6414.8696 - val_mean_absolute_error: 63.9684\n",
            "Epoch 5/100\n",
            "8/8 - 0s - loss: 0.4672 - mean_squared_error: 10791.4463 - mean_absolute_error: 82.0473 - val_loss: 0.5317 - val_mean_squared_error: 10851.6436 - val_mean_absolute_error: 85.8634\n",
            "Epoch 6/100\n",
            "8/8 - 0s - loss: 0.5012 - mean_squared_error: 12314.6797 - mean_absolute_error: 89.2147 - val_loss: 0.3964 - val_mean_squared_error: 6918.8545 - val_mean_absolute_error: 68.2858\n",
            "Epoch 7/100\n",
            "8/8 - 0s - loss: 0.3586 - mean_squared_error: 7581.0854 - mean_absolute_error: 69.5710 - val_loss: 0.2495 - val_mean_squared_error: 3985.8040 - val_mean_absolute_error: 50.5568\n",
            "Epoch 8/100\n",
            "8/8 - 0s - loss: 0.2552 - mean_squared_error: 5088.1436 - mean_absolute_error: 57.3753 - val_loss: 0.2073 - val_mean_squared_error: 3704.4031 - val_mean_absolute_error: 45.6618\n",
            "Epoch 9/100\n",
            "8/8 - 0s - loss: 0.2344 - mean_squared_error: 4766.6729 - mean_absolute_error: 54.9704 - val_loss: 0.2054 - val_mean_squared_error: 3885.9692 - val_mean_absolute_error: 46.5358\n",
            "Epoch 10/100\n",
            "8/8 - 0s - loss: 0.2271 - mean_squared_error: 4722.0225 - mean_absolute_error: 54.2273 - val_loss: 0.1996 - val_mean_squared_error: 3780.7432 - val_mean_absolute_error: 46.2360\n",
            "Epoch 11/100\n",
            "8/8 - 0s - loss: 0.2162 - mean_squared_error: 4465.8706 - mean_absolute_error: 52.7404 - val_loss: 0.1906 - val_mean_squared_error: 3539.2590 - val_mean_absolute_error: 45.0886\n",
            "Epoch 12/100\n",
            "8/8 - 0s - loss: 0.2073 - mean_squared_error: 4233.3672 - mean_absolute_error: 51.7522 - val_loss: 0.1860 - val_mean_squared_error: 3374.1619 - val_mean_absolute_error: 44.2444\n",
            "Epoch 13/100\n",
            "8/8 - 0s - loss: 0.2016 - mean_squared_error: 4106.8149 - mean_absolute_error: 51.0562 - val_loss: 0.1834 - val_mean_squared_error: 3343.0977 - val_mean_absolute_error: 44.2820\n",
            "Epoch 14/100\n",
            "8/8 - 0s - loss: 0.1962 - mean_squared_error: 4002.3264 - mean_absolute_error: 50.2691 - val_loss: 0.1826 - val_mean_squared_error: 3336.3562 - val_mean_absolute_error: 44.4518\n",
            "Epoch 15/100\n",
            "8/8 - 0s - loss: 0.1916 - mean_squared_error: 3879.7034 - mean_absolute_error: 49.3897 - val_loss: 0.1816 - val_mean_squared_error: 3336.5027 - val_mean_absolute_error: 44.5643\n",
            "Epoch 16/100\n",
            "8/8 - 0s - loss: 0.1876 - mean_squared_error: 3810.5659 - mean_absolute_error: 48.7435 - val_loss: 0.1813 - val_mean_squared_error: 3360.5007 - val_mean_absolute_error: 44.7654\n",
            "Epoch 17/100\n",
            "8/8 - 0s - loss: 0.1852 - mean_squared_error: 3763.6794 - mean_absolute_error: 48.2183 - val_loss: 0.1818 - val_mean_squared_error: 3385.3152 - val_mean_absolute_error: 44.9827\n",
            "Epoch 18/100\n",
            "8/8 - 0s - loss: 0.1822 - mean_squared_error: 3705.8372 - mean_absolute_error: 47.7418 - val_loss: 0.1808 - val_mean_squared_error: 3313.3494 - val_mean_absolute_error: 44.6669\n",
            "Epoch 19/100\n",
            "8/8 - 0s - loss: 0.1784 - mean_squared_error: 3611.0039 - mean_absolute_error: 47.0818 - val_loss: 0.1816 - val_mean_squared_error: 3365.9204 - val_mean_absolute_error: 45.1023\n",
            "Epoch 20/100\n",
            "8/8 - 0s - loss: 0.1758 - mean_squared_error: 3546.9941 - mean_absolute_error: 46.5113 - val_loss: 0.1813 - val_mean_squared_error: 3361.9890 - val_mean_absolute_error: 45.1202\n",
            "Epoch 21/100\n",
            "8/8 - 0s - loss: 0.1743 - mean_squared_error: 3528.8550 - mean_absolute_error: 46.3215 - val_loss: 0.1824 - val_mean_squared_error: 3398.8503 - val_mean_absolute_error: 45.4542\n",
            "Epoch 22/100\n",
            "8/8 - 0s - loss: 0.1714 - mean_squared_error: 3470.5010 - mean_absolute_error: 45.9458 - val_loss: 0.1815 - val_mean_squared_error: 3364.0676 - val_mean_absolute_error: 45.2681\n",
            "Epoch 23/100\n",
            "8/8 - 0s - loss: 0.1690 - mean_squared_error: 3408.4399 - mean_absolute_error: 45.5400 - val_loss: 0.1816 - val_mean_squared_error: 3327.6902 - val_mean_absolute_error: 45.0979\n"
          ],
          "name": "stdout"
        }
      ]
    },
    {
      "cell_type": "code",
      "metadata": {
        "id": "16k2bmeY0fIE",
        "outputId": "d8b94fb3-5e16-47c0-cf43-d89264433c3a",
        "colab": {
          "base_uri": "https://localhost:8080/"
        }
      },
      "source": [
        "# Evaluate the model on the test set\n",
        "\n",
        "unreg_model.evaluate( X_test, \n",
        "                      y_test, \n",
        "                      verbose=2)"
      ],
      "execution_count": 170,
      "outputs": [
        {
          "output_type": "stream",
          "text": [
            "5/5 - 0s - loss: 0.1739 - mean_squared_error: 3414.4175 - mean_absolute_error: 45.7017\n"
          ],
          "name": "stdout"
        },
        {
          "output_type": "execute_result",
          "data": {
            "text/plain": [
              "[0.17387999594211578, 3414.41748046875, 45.70167541503906]"
            ]
          },
          "metadata": {
            "tags": []
          },
          "execution_count": 170
        }
      ]
    },
    {
      "cell_type": "code",
      "metadata": {
        "id": "-lxXZyAP0fIH",
        "outputId": "2c6f1160-63a5-4a3c-a70b-295f47b8274d",
        "colab": {
          "base_uri": "https://localhost:8080/"
        }
      },
      "source": [
        "# Re-train the regularised model\n",
        "\n",
        "reg_model = get_regularised_model(1e-5, 0.3)\n",
        "\n",
        "reg_model.compile(optimizer=\"adam\", \n",
        "              loss = losses.MeanSquaredLogarithmicError(), \n",
        "              metrics=[metrics.MeanSquaredError(), metrics.MeanAbsoluteError()])\n",
        "\n",
        "reg_history = reg_model.fit(x = X_train, \n",
        "                    y = y_train, \n",
        "                    batch_size = 32, \n",
        "                    epochs = 100,\n",
        "                    validation_split = 0.2,\n",
        "                    verbose = 2,\n",
        "                    callbacks = [callbacks.EarlyStopping(patience=5)])"
      ],
      "execution_count": 167,
      "outputs": [
        {
          "output_type": "stream",
          "text": [
            "Epoch 1/100\n",
            "8/8 - 0s - loss: 23.4343 - mean_squared_error: 30804.6270 - mean_absolute_error: 156.7377 - val_loss: 22.6618 - val_mean_squared_error: 23448.8633 - val_mean_absolute_error: 136.0473\n",
            "Epoch 2/100\n",
            "8/8 - 0s - loss: 22.2118 - mean_squared_error: 30588.5742 - mean_absolute_error: 156.2054 - val_loss: 20.8345 - val_mean_squared_error: 23385.3887 - val_mean_absolute_error: 135.8110\n",
            "Epoch 3/100\n",
            "8/8 - 0s - loss: 20.1339 - mean_squared_error: 30410.2090 - mean_absolute_error: 155.5984 - val_loss: 18.6185 - val_mean_squared_error: 23284.2520 - val_mean_absolute_error: 135.4430\n",
            "Epoch 4/100\n",
            "8/8 - 0s - loss: 18.1882 - mean_squared_error: 30211.1094 - mean_absolute_error: 154.8560 - val_loss: 16.5597 - val_mean_squared_error: 23155.0039 - val_mean_absolute_error: 134.9795\n",
            "Epoch 5/100\n",
            "8/8 - 0s - loss: 16.3310 - mean_squared_error: 29964.4160 - mean_absolute_error: 154.1920 - val_loss: 14.7949 - val_mean_squared_error: 23005.1133 - val_mean_absolute_error: 134.4445\n",
            "Epoch 6/100\n",
            "8/8 - 0s - loss: 14.9948 - mean_squared_error: 29739.1758 - mean_absolute_error: 153.6161 - val_loss: 13.2400 - val_mean_squared_error: 22831.3730 - val_mean_absolute_error: 133.8208\n",
            "Epoch 7/100\n",
            "8/8 - 0s - loss: 13.6608 - mean_squared_error: 29519.3398 - mean_absolute_error: 152.8815 - val_loss: 12.0426 - val_mean_squared_error: 22661.8125 - val_mean_absolute_error: 133.2104\n",
            "Epoch 8/100\n",
            "8/8 - 0s - loss: 12.7325 - mean_squared_error: 29298.7109 - mean_absolute_error: 152.2386 - val_loss: 11.0064 - val_mean_squared_error: 22486.4180 - val_mean_absolute_error: 132.5676\n",
            "Epoch 9/100\n",
            "8/8 - 0s - loss: 11.3374 - mean_squared_error: 29090.0703 - mean_absolute_error: 151.5254 - val_loss: 10.1543 - val_mean_squared_error: 22313.5098 - val_mean_absolute_error: 131.9299\n",
            "Epoch 10/100\n",
            "8/8 - 0s - loss: 10.4711 - mean_squared_error: 28853.3105 - mean_absolute_error: 150.7741 - val_loss: 9.4215 - val_mean_squared_error: 22140.0332 - val_mean_absolute_error: 131.2818\n",
            "Epoch 11/100\n",
            "8/8 - 0s - loss: 9.8029 - mean_squared_error: 28692.6992 - mean_absolute_error: 150.1934 - val_loss: 8.7850 - val_mean_squared_error: 21965.4121 - val_mean_absolute_error: 130.6263\n",
            "Epoch 12/100\n",
            "8/8 - 0s - loss: 9.0133 - mean_squared_error: 28423.4336 - mean_absolute_error: 149.4150 - val_loss: 8.1931 - val_mean_squared_error: 21778.5000 - val_mean_absolute_error: 129.9238\n",
            "Epoch 13/100\n",
            "8/8 - 0s - loss: 8.4585 - mean_squared_error: 28246.2363 - mean_absolute_error: 148.7768 - val_loss: 7.6276 - val_mean_squared_error: 21571.1035 - val_mean_absolute_error: 129.1505\n",
            "Epoch 14/100\n",
            "8/8 - 0s - loss: 8.0516 - mean_squared_error: 28038.4668 - mean_absolute_error: 148.1497 - val_loss: 7.1128 - val_mean_squared_error: 21354.6445 - val_mean_absolute_error: 128.3436\n",
            "Epoch 15/100\n",
            "8/8 - 0s - loss: 7.6308 - mean_squared_error: 27792.6582 - mean_absolute_error: 147.4023 - val_loss: 6.6277 - val_mean_squared_error: 21121.0762 - val_mean_absolute_error: 127.4722\n",
            "Epoch 16/100\n",
            "8/8 - 0s - loss: 7.4037 - mean_squared_error: 27692.4082 - mean_absolute_error: 146.9721 - val_loss: 6.1909 - val_mean_squared_error: 20883.9336 - val_mean_absolute_error: 126.5803\n",
            "Epoch 17/100\n",
            "8/8 - 0s - loss: 6.9162 - mean_squared_error: 27422.5508 - mean_absolute_error: 146.1454 - val_loss: 5.7600 - val_mean_squared_error: 20619.7949 - val_mean_absolute_error: 125.5768\n",
            "Epoch 18/100\n",
            "8/8 - 0s - loss: 6.5411 - mean_squared_error: 27185.0039 - mean_absolute_error: 145.3474 - val_loss: 5.3720 - val_mean_squared_error: 20346.9766 - val_mean_absolute_error: 124.5458\n",
            "Epoch 19/100\n",
            "8/8 - 0s - loss: 6.3115 - mean_squared_error: 27027.5996 - mean_absolute_error: 144.6396 - val_loss: 5.0121 - val_mean_squared_error: 20063.2285 - val_mean_absolute_error: 123.4618\n",
            "Epoch 20/100\n",
            "8/8 - 0s - loss: 5.9528 - mean_squared_error: 26726.6699 - mean_absolute_error: 143.8172 - val_loss: 4.7067 - val_mean_squared_error: 19789.9668 - val_mean_absolute_error: 122.4191\n",
            "Epoch 21/100\n",
            "8/8 - 0s - loss: 5.6147 - mean_squared_error: 26414.6309 - mean_absolute_error: 142.8375 - val_loss: 4.4259 - val_mean_squared_error: 19509.1289 - val_mean_absolute_error: 121.3363\n",
            "Epoch 22/100\n",
            "8/8 - 0s - loss: 5.2918 - mean_squared_error: 26103.8984 - mean_absolute_error: 141.7694 - val_loss: 4.1854 - val_mean_squared_error: 19232.2871 - val_mean_absolute_error: 120.2831\n",
            "Epoch 23/100\n",
            "8/8 - 0s - loss: 5.0468 - mean_squared_error: 25832.8887 - mean_absolute_error: 140.7885 - val_loss: 3.9292 - val_mean_squared_error: 18925.5371 - val_mean_absolute_error: 119.0873\n",
            "Epoch 24/100\n",
            "8/8 - 0s - loss: 4.7357 - mean_squared_error: 25384.2676 - mean_absolute_error: 139.5744 - val_loss: 3.7135 - val_mean_squared_error: 18634.1855 - val_mean_absolute_error: 117.9576\n",
            "Epoch 25/100\n",
            "8/8 - 0s - loss: 4.5626 - mean_squared_error: 25287.1250 - mean_absolute_error: 138.8360 - val_loss: 3.5027 - val_mean_squared_error: 18328.2266 - val_mean_absolute_error: 116.7572\n",
            "Epoch 26/100\n",
            "8/8 - 0s - loss: 4.2433 - mean_squared_error: 24816.5000 - mean_absolute_error: 137.4447 - val_loss: 3.3030 - val_mean_squared_error: 18014.1797 - val_mean_absolute_error: 115.5219\n",
            "Epoch 27/100\n",
            "8/8 - 0s - loss: 4.0080 - mean_squared_error: 24354.4297 - mean_absolute_error: 136.0552 - val_loss: 3.1093 - val_mean_squared_error: 17685.5938 - val_mean_absolute_error: 114.2066\n",
            "Epoch 28/100\n",
            "8/8 - 0s - loss: 3.7858 - mean_squared_error: 24062.0508 - mean_absolute_error: 134.8620 - val_loss: 2.9244 - val_mean_squared_error: 17346.9629 - val_mean_absolute_error: 112.8354\n",
            "Epoch 29/100\n",
            "8/8 - 0s - loss: 3.4957 - mean_squared_error: 23517.1914 - mean_absolute_error: 133.3248 - val_loss: 2.7500 - val_mean_squared_error: 17016.5176 - val_mean_absolute_error: 111.4487\n",
            "Epoch 30/100\n",
            "8/8 - 0s - loss: 3.3411 - mean_squared_error: 23251.5605 - mean_absolute_error: 132.0667 - val_loss: 2.5906 - val_mean_squared_error: 16689.9336 - val_mean_absolute_error: 110.0655\n",
            "Epoch 31/100\n",
            "8/8 - 0s - loss: 3.0790 - mean_squared_error: 22744.0508 - mean_absolute_error: 130.3401 - val_loss: 2.4283 - val_mean_squared_error: 16333.9697 - val_mean_absolute_error: 108.5266\n",
            "Epoch 32/100\n",
            "8/8 - 0s - loss: 2.9194 - mean_squared_error: 22370.7930 - mean_absolute_error: 129.0063 - val_loss: 2.2800 - val_mean_squared_error: 15984.2080 - val_mean_absolute_error: 106.9847\n",
            "Epoch 33/100\n",
            "8/8 - 0s - loss: 2.7480 - mean_squared_error: 21877.1035 - mean_absolute_error: 126.9660 - val_loss: 2.1383 - val_mean_squared_error: 15640.0713 - val_mean_absolute_error: 105.4016\n",
            "Epoch 34/100\n",
            "8/8 - 0s - loss: 2.6091 - mean_squared_error: 21633.4141 - mean_absolute_error: 125.9282 - val_loss: 2.0025 - val_mean_squared_error: 15293.0273 - val_mean_absolute_error: 103.7697\n",
            "Epoch 35/100\n",
            "8/8 - 0s - loss: 2.5267 - mean_squared_error: 21359.9453 - mean_absolute_error: 124.7519 - val_loss: 1.8912 - val_mean_squared_error: 14985.2822 - val_mean_absolute_error: 102.2982\n",
            "Epoch 36/100\n",
            "8/8 - 0s - loss: 2.2831 - mean_squared_error: 20795.4082 - mean_absolute_error: 122.5735 - val_loss: 1.7717 - val_mean_squared_error: 14637.9541 - val_mean_absolute_error: 100.5697\n",
            "Epoch 37/100\n",
            "8/8 - 0s - loss: 2.1653 - mean_squared_error: 20250.6465 - mean_absolute_error: 121.0437 - val_loss: 1.6605 - val_mean_squared_error: 14289.7188 - val_mean_absolute_error: 98.8313\n",
            "Epoch 38/100\n",
            "8/8 - 0s - loss: 2.0462 - mean_squared_error: 19924.4668 - mean_absolute_error: 119.4165 - val_loss: 1.5630 - val_mean_squared_error: 13960.6689 - val_mean_absolute_error: 97.1618\n",
            "Epoch 39/100\n",
            "8/8 - 0s - loss: 1.9046 - mean_squared_error: 19510.8086 - mean_absolute_error: 117.5552 - val_loss: 1.4660 - val_mean_squared_error: 13624.2314 - val_mean_absolute_error: 95.3819\n",
            "Epoch 40/100\n",
            "8/8 - 0s - loss: 1.8270 - mean_squared_error: 19027.7539 - mean_absolute_error: 115.9165 - val_loss: 1.3781 - val_mean_squared_error: 13302.9023 - val_mean_absolute_error: 93.7343\n",
            "Epoch 41/100\n",
            "8/8 - 0s - loss: 1.7322 - mean_squared_error: 18619.3164 - mean_absolute_error: 114.3913 - val_loss: 1.3004 - val_mean_squared_error: 12995.6377 - val_mean_absolute_error: 92.1923\n",
            "Epoch 42/100\n",
            "8/8 - 0s - loss: 1.6377 - mean_squared_error: 18278.8652 - mean_absolute_error: 112.8787 - val_loss: 1.2251 - val_mean_squared_error: 12681.6221 - val_mean_absolute_error: 90.6116\n",
            "Epoch 43/100\n",
            "8/8 - 0s - loss: 1.5077 - mean_squared_error: 17732.5000 - mean_absolute_error: 110.6205 - val_loss: 1.1549 - val_mean_squared_error: 12363.5811 - val_mean_absolute_error: 89.1200\n",
            "Epoch 44/100\n",
            "8/8 - 0s - loss: 1.4493 - mean_squared_error: 17333.5566 - mean_absolute_error: 109.1374 - val_loss: 1.0947 - val_mean_squared_error: 12083.1250 - val_mean_absolute_error: 87.7197\n",
            "Epoch 45/100\n",
            "8/8 - 0s - loss: 1.4087 - mean_squared_error: 17062.7070 - mean_absolute_error: 107.4198 - val_loss: 1.0406 - val_mean_squared_error: 11810.0244 - val_mean_absolute_error: 86.4221\n",
            "Epoch 46/100\n",
            "8/8 - 0s - loss: 1.2977 - mean_squared_error: 16656.8398 - mean_absolute_error: 106.5605 - val_loss: 0.9902 - val_mean_squared_error: 11545.1875 - val_mean_absolute_error: 85.1718\n",
            "Epoch 47/100\n",
            "8/8 - 0s - loss: 1.2713 - mean_squared_error: 16356.7637 - mean_absolute_error: 104.7666 - val_loss: 0.9485 - val_mean_squared_error: 11320.5381 - val_mean_absolute_error: 84.0871\n",
            "Epoch 48/100\n",
            "8/8 - 0s - loss: 1.1884 - mean_squared_error: 15805.2266 - mean_absolute_error: 103.0029 - val_loss: 0.8985 - val_mean_squared_error: 11044.5195 - val_mean_absolute_error: 82.7531\n",
            "Epoch 49/100\n",
            "8/8 - 0s - loss: 1.0895 - mean_squared_error: 15340.2803 - mean_absolute_error: 100.9636 - val_loss: 0.8540 - val_mean_squared_error: 10782.4834 - val_mean_absolute_error: 81.5041\n",
            "Epoch 50/100\n",
            "8/8 - 0s - loss: 1.1096 - mean_squared_error: 15213.0791 - mean_absolute_error: 100.0932 - val_loss: 0.8122 - val_mean_squared_error: 10522.1377 - val_mean_absolute_error: 80.2667\n",
            "Epoch 51/100\n",
            "8/8 - 0s - loss: 1.0309 - mean_squared_error: 14771.9355 - mean_absolute_error: 99.1309 - val_loss: 0.7789 - val_mean_squared_error: 10316.7686 - val_mean_absolute_error: 79.2675\n",
            "Epoch 52/100\n",
            "8/8 - 0s - loss: 1.0114 - mean_squared_error: 14897.3857 - mean_absolute_error: 97.8940 - val_loss: 0.7471 - val_mean_squared_error: 10100.8125 - val_mean_absolute_error: 78.2095\n",
            "Epoch 53/100\n",
            "8/8 - 0s - loss: 0.9249 - mean_squared_error: 14226.2764 - mean_absolute_error: 95.6723 - val_loss: 0.7190 - val_mean_squared_error: 9882.2188 - val_mean_absolute_error: 77.2126\n",
            "Epoch 54/100\n",
            "8/8 - 0s - loss: 0.9246 - mean_squared_error: 14088.7744 - mean_absolute_error: 95.1293 - val_loss: 0.6926 - val_mean_squared_error: 9683.9004 - val_mean_absolute_error: 76.2320\n",
            "Epoch 55/100\n",
            "8/8 - 0s - loss: 0.8799 - mean_squared_error: 13798.6543 - mean_absolute_error: 93.6930 - val_loss: 0.6656 - val_mean_squared_error: 9471.9287 - val_mean_absolute_error: 75.2081\n",
            "Epoch 56/100\n",
            "8/8 - 0s - loss: 0.8313 - mean_squared_error: 13467.3516 - mean_absolute_error: 92.1227 - val_loss: 0.6404 - val_mean_squared_error: 9276.6104 - val_mean_absolute_error: 74.2788\n",
            "Epoch 57/100\n",
            "8/8 - 0s - loss: 0.8129 - mean_squared_error: 13262.2295 - mean_absolute_error: 91.5119 - val_loss: 0.6145 - val_mean_squared_error: 9053.6670 - val_mean_absolute_error: 73.2384\n",
            "Epoch 58/100\n",
            "8/8 - 0s - loss: 0.8162 - mean_squared_error: 13239.6406 - mean_absolute_error: 91.2449 - val_loss: 0.5930 - val_mean_squared_error: 8865.2354 - val_mean_absolute_error: 72.3627\n",
            "Epoch 59/100\n",
            "8/8 - 0s - loss: 0.7483 - mean_squared_error: 12515.1006 - mean_absolute_error: 89.5616 - val_loss: 0.5707 - val_mean_squared_error: 8670.5176 - val_mean_absolute_error: 71.5158\n",
            "Epoch 60/100\n",
            "8/8 - 0s - loss: 0.7533 - mean_squared_error: 12543.3477 - mean_absolute_error: 88.2671 - val_loss: 0.5459 - val_mean_squared_error: 8452.3965 - val_mean_absolute_error: 70.5394\n",
            "Epoch 61/100\n",
            "8/8 - 0s - loss: 0.6654 - mean_squared_error: 11785.9893 - mean_absolute_error: 86.4136 - val_loss: 0.5270 - val_mean_squared_error: 8268.1895 - val_mean_absolute_error: 69.7493\n",
            "Epoch 62/100\n",
            "8/8 - 0s - loss: 0.6843 - mean_squared_error: 12093.7695 - mean_absolute_error: 86.1838 - val_loss: 0.5097 - val_mean_squared_error: 8102.1870 - val_mean_absolute_error: 69.0226\n",
            "Epoch 63/100\n",
            "8/8 - 0s - loss: 0.6257 - mean_squared_error: 11504.6660 - mean_absolute_error: 84.2212 - val_loss: 0.4924 - val_mean_squared_error: 7933.8706 - val_mean_absolute_error: 68.2497\n",
            "Epoch 64/100\n",
            "8/8 - 0s - loss: 0.6011 - mean_squared_error: 11126.7549 - mean_absolute_error: 82.3381 - val_loss: 0.4751 - val_mean_squared_error: 7766.0068 - val_mean_absolute_error: 67.5171\n",
            "Epoch 65/100\n",
            "8/8 - 0s - loss: 0.5955 - mean_squared_error: 11134.9072 - mean_absolute_error: 82.5614 - val_loss: 0.4592 - val_mean_squared_error: 7602.4521 - val_mean_absolute_error: 66.8572\n",
            "Epoch 66/100\n",
            "8/8 - 0s - loss: 0.5701 - mean_squared_error: 10525.4160 - mean_absolute_error: 80.1696 - val_loss: 0.4435 - val_mean_squared_error: 7432.0669 - val_mean_absolute_error: 66.1339\n",
            "Epoch 67/100\n",
            "8/8 - 0s - loss: 0.5381 - mean_squared_error: 10587.7227 - mean_absolute_error: 79.5384 - val_loss: 0.4309 - val_mean_squared_error: 7285.1094 - val_mean_absolute_error: 65.5073\n",
            "Epoch 68/100\n",
            "8/8 - 0s - loss: 0.5491 - mean_squared_error: 10449.6758 - mean_absolute_error: 80.7584 - val_loss: 0.4157 - val_mean_squared_error: 7104.9941 - val_mean_absolute_error: 64.7521\n",
            "Epoch 69/100\n",
            "8/8 - 0s - loss: 0.5205 - mean_squared_error: 10164.0166 - mean_absolute_error: 77.8450 - val_loss: 0.4034 - val_mean_squared_error: 6950.8975 - val_mean_absolute_error: 64.0520\n",
            "Epoch 70/100\n",
            "8/8 - 0s - loss: 0.5360 - mean_squared_error: 10159.2500 - mean_absolute_error: 79.0407 - val_loss: 0.3930 - val_mean_squared_error: 6823.4199 - val_mean_absolute_error: 63.3778\n",
            "Epoch 71/100\n",
            "8/8 - 0s - loss: 0.5013 - mean_squared_error: 9808.4385 - mean_absolute_error: 77.0949 - val_loss: 0.3830 - val_mean_squared_error: 6704.2363 - val_mean_absolute_error: 62.7662\n",
            "Epoch 72/100\n",
            "8/8 - 0s - loss: 0.4566 - mean_squared_error: 9247.7158 - mean_absolute_error: 74.4609 - val_loss: 0.3725 - val_mean_squared_error: 6592.7744 - val_mean_absolute_error: 62.1566\n",
            "Epoch 73/100\n",
            "8/8 - 0s - loss: 0.4624 - mean_squared_error: 9363.1738 - mean_absolute_error: 75.6686 - val_loss: 0.3654 - val_mean_squared_error: 6506.9712 - val_mean_absolute_error: 61.6528\n",
            "Epoch 74/100\n",
            "8/8 - 0s - loss: 0.4427 - mean_squared_error: 9243.6768 - mean_absolute_error: 74.9505 - val_loss: 0.3566 - val_mean_squared_error: 6399.1543 - val_mean_absolute_error: 61.1003\n",
            "Epoch 75/100\n",
            "8/8 - 0s - loss: 0.4431 - mean_squared_error: 9083.4053 - mean_absolute_error: 73.7706 - val_loss: 0.3499 - val_mean_squared_error: 6309.4473 - val_mean_absolute_error: 60.5457\n",
            "Epoch 76/100\n",
            "8/8 - 0s - loss: 0.4284 - mean_squared_error: 8876.3945 - mean_absolute_error: 72.8629 - val_loss: 0.3432 - val_mean_squared_error: 6211.6611 - val_mean_absolute_error: 60.0413\n",
            "Epoch 77/100\n",
            "8/8 - 0s - loss: 0.4305 - mean_squared_error: 8912.3887 - mean_absolute_error: 72.7568 - val_loss: 0.3375 - val_mean_squared_error: 6123.3091 - val_mean_absolute_error: 59.5765\n",
            "Epoch 78/100\n",
            "8/8 - 0s - loss: 0.3971 - mean_squared_error: 8541.9150 - mean_absolute_error: 71.0302 - val_loss: 0.3304 - val_mean_squared_error: 6014.1416 - val_mean_absolute_error: 59.0033\n",
            "Epoch 79/100\n",
            "8/8 - 0s - loss: 0.4002 - mean_squared_error: 8803.0566 - mean_absolute_error: 73.2043 - val_loss: 0.3247 - val_mean_squared_error: 5924.8188 - val_mean_absolute_error: 58.5717\n",
            "Epoch 80/100\n",
            "8/8 - 0s - loss: 0.3646 - mean_squared_error: 8114.7456 - mean_absolute_error: 69.1082 - val_loss: 0.3192 - val_mean_squared_error: 5832.9385 - val_mean_absolute_error: 58.1191\n",
            "Epoch 81/100\n",
            "8/8 - 0s - loss: 0.3704 - mean_squared_error: 8068.7422 - mean_absolute_error: 68.3880 - val_loss: 0.3141 - val_mean_squared_error: 5743.6074 - val_mean_absolute_error: 57.6280\n",
            "Epoch 82/100\n",
            "8/8 - 0s - loss: 0.3770 - mean_squared_error: 8099.0190 - mean_absolute_error: 68.8262 - val_loss: 0.3079 - val_mean_squared_error: 5637.3687 - val_mean_absolute_error: 57.1301\n",
            "Epoch 83/100\n",
            "8/8 - 0s - loss: 0.3656 - mean_squared_error: 7897.7734 - mean_absolute_error: 68.7567 - val_loss: 0.3032 - val_mean_squared_error: 5563.3926 - val_mean_absolute_error: 56.8244\n",
            "Epoch 84/100\n",
            "8/8 - 0s - loss: 0.3403 - mean_squared_error: 7645.4072 - mean_absolute_error: 66.9541 - val_loss: 0.2992 - val_mean_squared_error: 5484.7051 - val_mean_absolute_error: 56.4771\n",
            "Epoch 85/100\n",
            "8/8 - 0s - loss: 0.3622 - mean_squared_error: 7784.3833 - mean_absolute_error: 68.8558 - val_loss: 0.2947 - val_mean_squared_error: 5400.9673 - val_mean_absolute_error: 56.1752\n",
            "Epoch 86/100\n",
            "8/8 - 0s - loss: 0.3637 - mean_squared_error: 7789.0142 - mean_absolute_error: 68.8163 - val_loss: 0.2903 - val_mean_squared_error: 5324.2554 - val_mean_absolute_error: 55.8438\n",
            "Epoch 87/100\n",
            "8/8 - 0s - loss: 0.3441 - mean_squared_error: 7445.4561 - mean_absolute_error: 67.1483 - val_loss: 0.2862 - val_mean_squared_error: 5248.4404 - val_mean_absolute_error: 55.5126\n",
            "Epoch 88/100\n",
            "8/8 - 0s - loss: 0.3242 - mean_squared_error: 7050.2695 - mean_absolute_error: 65.7785 - val_loss: 0.2806 - val_mean_squared_error: 5160.7202 - val_mean_absolute_error: 55.1009\n",
            "Epoch 89/100\n",
            "8/8 - 0s - loss: 0.3465 - mean_squared_error: 7350.8853 - mean_absolute_error: 66.3266 - val_loss: 0.2775 - val_mean_squared_error: 5118.9175 - val_mean_absolute_error: 54.8516\n",
            "Epoch 90/100\n",
            "8/8 - 0s - loss: 0.3433 - mean_squared_error: 7391.9380 - mean_absolute_error: 66.7237 - val_loss: 0.2746 - val_mean_squared_error: 5067.4375 - val_mean_absolute_error: 54.5601\n",
            "Epoch 91/100\n",
            "8/8 - 0s - loss: 0.3398 - mean_squared_error: 7102.3789 - mean_absolute_error: 65.4405 - val_loss: 0.2708 - val_mean_squared_error: 5005.6157 - val_mean_absolute_error: 54.1794\n",
            "Epoch 92/100\n",
            "8/8 - 0s - loss: 0.3147 - mean_squared_error: 6968.6357 - mean_absolute_error: 64.9258 - val_loss: 0.2675 - val_mean_squared_error: 4954.4502 - val_mean_absolute_error: 53.9178\n",
            "Epoch 93/100\n",
            "8/8 - 0s - loss: 0.3103 - mean_squared_error: 6949.1382 - mean_absolute_error: 64.0047 - val_loss: 0.2642 - val_mean_squared_error: 4902.8657 - val_mean_absolute_error: 53.6627\n",
            "Epoch 94/100\n",
            "8/8 - 0s - loss: 0.2965 - mean_squared_error: 6509.5361 - mean_absolute_error: 62.9061 - val_loss: 0.2633 - val_mean_squared_error: 4864.8496 - val_mean_absolute_error: 53.4900\n",
            "Epoch 95/100\n",
            "8/8 - 0s - loss: 0.3171 - mean_squared_error: 6972.9199 - mean_absolute_error: 63.9908 - val_loss: 0.2605 - val_mean_squared_error: 4805.2515 - val_mean_absolute_error: 53.2417\n",
            "Epoch 96/100\n",
            "8/8 - 0s - loss: 0.2933 - mean_squared_error: 6505.3462 - mean_absolute_error: 61.9093 - val_loss: 0.2574 - val_mean_squared_error: 4743.1074 - val_mean_absolute_error: 52.9583\n",
            "Epoch 97/100\n",
            "8/8 - 0s - loss: 0.3212 - mean_squared_error: 6802.9956 - mean_absolute_error: 64.6354 - val_loss: 0.2559 - val_mean_squared_error: 4703.5283 - val_mean_absolute_error: 52.7833\n",
            "Epoch 98/100\n",
            "8/8 - 0s - loss: 0.3085 - mean_squared_error: 6683.0391 - mean_absolute_error: 64.1180 - val_loss: 0.2534 - val_mean_squared_error: 4648.1958 - val_mean_absolute_error: 52.5512\n",
            "Epoch 99/100\n",
            "8/8 - 0s - loss: 0.3058 - mean_squared_error: 6494.7144 - mean_absolute_error: 63.0381 - val_loss: 0.2508 - val_mean_squared_error: 4592.8574 - val_mean_absolute_error: 52.2963\n",
            "Epoch 100/100\n",
            "8/8 - 0s - loss: 0.3072 - mean_squared_error: 6547.1050 - mean_absolute_error: 62.9164 - val_loss: 0.2482 - val_mean_squared_error: 4540.4590 - val_mean_absolute_error: 52.0597\n"
          ],
          "name": "stdout"
        }
      ]
    },
    {
      "cell_type": "code",
      "metadata": {
        "id": "YJeAqNnw0fIK",
        "outputId": "aeb7ab8e-4c3b-4d3a-d703-f8f2a45db8c1",
        "colab": {
          "base_uri": "https://localhost:8080/"
        }
      },
      "source": [
        "# Evaluate the model on the test set\n",
        "\n",
        "reg_model.evaluate(X_test, \n",
        "               y_test, \n",
        "               verbose=2)"
      ],
      "execution_count": 168,
      "outputs": [
        {
          "output_type": "stream",
          "text": [
            "5/5 - 0s - loss: 0.2699 - mean_squared_error: 5776.4570 - mean_absolute_error: 61.2493\n"
          ],
          "name": "stdout"
        },
        {
          "output_type": "execute_result",
          "data": {
            "text/plain": [
              "[0.2698761820793152, 5776.45703125, 61.249324798583984]"
            ]
          },
          "metadata": {
            "tags": []
          },
          "execution_count": 168
        }
      ]
    },
    {
      "cell_type": "markdown",
      "metadata": {
        "id": "Q7kC6Ni_0fIN"
      },
      "source": [
        "#### Plot the learning curves"
      ]
    },
    {
      "cell_type": "code",
      "metadata": {
        "id": "WXUcI9Rs0fIN",
        "outputId": "8ab63423-3639-4fae-9408-3938b38550ad",
        "colab": {
          "base_uri": "https://localhost:8080/",
          "height": 350
        }
      },
      "source": [
        "# Plot the training and validation loss\n",
        "\n",
        "import matplotlib.pyplot as plt\n",
        "\n",
        "fig = plt.figure(figsize=(12, 5))\n",
        "\n",
        "fig.add_subplot(121)\n",
        "\n",
        "plt.plot(unreg_history.history['loss'])\n",
        "plt.plot(unreg_history.history['val_loss'])\n",
        "plt.title('Unregularised model: loss vs. epochs')\n",
        "plt.ylabel('Loss')\n",
        "plt.xlabel('Epoch')\n",
        "plt.legend(['Training', 'Validation'], loc='upper right')\n",
        "\n",
        "fig.add_subplot(122)\n",
        "\n",
        "plt.plot(reg_history.history['loss'])\n",
        "plt.plot(reg_history.history['val_loss'])\n",
        "plt.title('Regularised model: loss vs. epochs')\n",
        "plt.ylabel('Loss')\n",
        "plt.xlabel('Epoch')\n",
        "plt.legend(['Training', 'Validation'], loc='upper right')\n",
        "\n",
        "plt.show()"
      ],
      "execution_count": 171,
      "outputs": [
        {
          "output_type": "display_data",
          "data": {
            "image/png": "[encoded data removed]",
            "text/plain": [
              "<Figure size 864x360 with 2 Axes>"
            ]
          },
          "metadata": {
            "tags": [],
            "needs_background": "light"
          }
        }
      ]
    },
    {
      "cell_type": "code",
      "metadata": {
        "id": "w_Qf7UikUed5"
      },
      "source": [
        ""
      ],
      "execution_count": null,
      "outputs": []
    }
  ]
}