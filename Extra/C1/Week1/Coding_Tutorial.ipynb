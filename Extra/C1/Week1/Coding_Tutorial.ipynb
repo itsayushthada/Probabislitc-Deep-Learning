{
  "nbformat": 4,
  "nbformat_minor": 0,
  "metadata": {
    "kernelspec": {
      "display_name": "Python 3",
      "language": "python",
      "name": "python3"
    },
    "language_info": {
      "codemirror_mode": {
        "name": "ipython",
        "version": 3
      },
      "file_extension": ".py",
      "mimetype": "text/x-python",
      "name": "python",
      "nbconvert_exporter": "python",
      "pygments_lexer": "ipython3",
      "version": "3.7.1"
    },
    "colab": {
      "name": "Coding Tutorial.ipynb",
      "provenance": [],
      "collapsed_sections": []
    }
  },
  "cells": [
    {
      "cell_type": "code",
      "metadata": {
        "id": "ug-wCIQwKoQi",
        "outputId": "6093dc51-cbec-4a41-b842-b6801be080b0",
        "colab": {
          "base_uri": "https://localhost:8080/",
          "height": 35
        }
      },
      "source": [
        "import tensorflow as tf\n",
        "tf.__version__"
      ],
      "execution_count": 31,
      "outputs": [
        {
          "output_type": "execute_result",
          "data": {
            "application/vnd.google.colaboratory.intrinsic+json": {
              "type": "string"
            },
            "text/plain": [
              "'2.3.0'"
            ]
          },
          "metadata": {
            "tags": []
          },
          "execution_count": 31
        }
      ]
    },
    {
      "cell_type": "markdown",
      "metadata": {
        "id": "hjAm4T0gKoQp"
      },
      "source": [
        "# Introduction to TensorFlow 2\n",
        "\n",
        "## Coding tutorials\n",
        "#### [1. Hello TensorFlow!](#coding_tutorial_1)"
      ]
    },
    {
      "cell_type": "markdown",
      "metadata": {
        "id": "0863r0BFKoQr"
      },
      "source": [
        "---\n",
        "<a id='coding_tutorial_1'></a>\n",
        "## Hello TensorFlow!"
      ]
    },
    {
      "cell_type": "code",
      "metadata": {
        "id": "QwPuGPdYKoQs"
      },
      "source": [
        "# Import TensorFlow\n",
        "\n",
        "import tensorflow as tf"
      ],
      "execution_count": 32,
      "outputs": []
    },
    {
      "cell_type": "code",
      "metadata": {
        "id": "R54pSSl0KoQw",
        "outputId": "d4cee7ef-3cfd-4c80-cb8d-9868ceb73679",
        "colab": {
          "base_uri": "https://localhost:8080/",
          "height": 35
        }
      },
      "source": [
        "# Check its version\n",
        "\n",
        "tf.__version__"
      ],
      "execution_count": 33,
      "outputs": [
        {
          "output_type": "execute_result",
          "data": {
            "application/vnd.google.colaboratory.intrinsic+json": {
              "type": "string"
            },
            "text/plain": [
              "'2.3.0'"
            ]
          },
          "metadata": {
            "tags": []
          },
          "execution_count": 33
        }
      ]
    },
    {
      "cell_type": "code",
      "metadata": {
        "id": "3xaahw5pKoQz",
        "outputId": "7a6c1d24-ba71-4c45-a932-34c5fbb7ae21",
        "colab": {
          "base_uri": "https://localhost:8080/"
        }
      },
      "source": [
        "# Train a feedforward neural network for image classification\n",
        "\n",
        "print('Loading data...\\n')\n",
        "(x_train, y_train), (x_test, y_test) = tf.keras.datasets.mnist.load_data()\n",
        "print('MNIST dataset loaded.\\n')\n",
        "\n",
        "x_train = x_train/255.\n",
        "\n",
        "model = tf.keras.models.Sequential([\n",
        "  tf.keras.layers.Flatten(),\n",
        "  tf.keras.layers.Dense(16, activation='relu'),\n",
        "  tf.keras.layers.Dense(10, activation='softmax')\n",
        "])\n",
        "\n",
        "model.compile(optimizer='adam',\n",
        "              loss='sparse_categorical_crossentropy',\n",
        "              metrics=['accuracy'])\n",
        "\n",
        "print('Training model...\\n')\n",
        "model.fit(x_train, y_train, epochs=3, batch_size=32)\n",
        "print('Model trained successfully!')"
      ],
      "execution_count": 34,
      "outputs": [
        {
          "output_type": "stream",
          "text": [
            "Loading data...\n",
            "\n",
            "MNIST dataset loaded.\n",
            "\n",
            "Training model...\n",
            "\n",
            "Epoch 1/3\n",
            "1875/1875 [==============================] - 2s 1ms/step - loss: 0.4338 - accuracy: 0.8782\n",
            "Epoch 2/3\n",
            "1875/1875 [==============================] - 2s 1ms/step - loss: 0.2584 - accuracy: 0.9262\n",
            "Epoch 3/3\n",
            "1875/1875 [==============================] - 2s 1ms/step - loss: 0.2184 - accuracy: 0.9370\n",
            "Model trained successfully!\n"
          ],
          "name": "stdout"
        }
      ]
    },
    {
      "cell_type": "code",
      "metadata": {
        "id": "bPDPlsqV2c1s"
      },
      "source": [
        "import numpy as np\n",
        "import matplotlib.pyplot as plt\n",
        "\n",
        "plt.rcParams[\"figure.figsize\"] = 24, 6"
      ],
      "execution_count": 35,
      "outputs": []
    },
    {
      "cell_type": "code",
      "metadata": {
        "id": "D_AABevkyoCE",
        "outputId": "dc604641-4e27-41e8-8dcc-5fecb922411b",
        "colab": {
          "base_uri": "https://localhost:8080/",
          "height": 1000
        }
      },
      "source": [
        "# Feed forward model for regression.\n",
        "\n",
        "print(\"Loading Dataset\")\n",
        "\n",
        "(x_train, y_train), (x_test, y_test) = tf.keras.datasets.boston_housing.load_data()\n",
        "print(\"Boston Housing Dataset Loaded\")\n",
        "\n",
        "x_train = x_train.astype(np.float32)\n",
        "x_test = x_test.astype(np.float32)\n",
        "y_train = y_train.astype(np.float32)\n",
        "y_test = y_test.astype(np.float32)\n",
        "\n",
        "model = tf.keras.models.Sequential([\n",
        "      tf.keras.layers.Dense(20, activation=\"linear\"),\n",
        "      tf.keras.layers.Dense(40, activation=\"relu\"),\n",
        "      tf.keras.layers.Dense(1)\n",
        "])\n",
        "\n",
        "model.compile(\n",
        "    optimizer=\"adam\",\n",
        "loss = tf.keras.losses.MeanSquaredLogarithmicError(),\n",
        "metrics=[tf.keras.metrics.MeanSquaredError(), tf.keras.metrics.MeanAbsoluteError()]\n",
        ")\n",
        "\n",
        "print('Training model...\\n')\n",
        "history = model.fit(x_train, y_train, epochs=50, batch_size=50)\n",
        "\n",
        "print('Model trained successfully!')\n",
        "\n",
        "plt.subplot(1, 3, 1)\n",
        "plt.plot(history.history[\"loss\"], \"r\")\n",
        "plt.xlabel(\"Epochs\")\n",
        "plt.title(\"Loss Curve\")\n",
        "\n",
        "plt.subplot(1, 3, 2)\n",
        "plt.plot(history.history[\"mean_squared_error\"], \"b\")\n",
        "plt.xlabel(\"Epochs\")\n",
        "plt.title(\"Mean Squared Error Curve\")\n",
        "\n",
        "plt.subplot(1, 3, 3)\n",
        "plt.plot(history.history[\"mean_absolute_error\"], \"g\")\n",
        "plt.xlabel(\"Epochs\")\n",
        "plt.title(\"Mean Absolute Error Curve\")\n",
        "\n",
        "plt.show()"
      ],
      "execution_count": 36,
      "outputs": [
        {
          "output_type": "stream",
          "text": [
            "Loading Dataset\n",
            "Boston Housing Dataset Loaded\n",
            "Training model...\n",
            "\n",
            "Epoch 1/50\n",
            "9/9 [==============================] - 0s 2ms/step - loss: 0.4101 - mean_squared_error: 284.4834 - mean_absolute_error: 12.3214\n",
            "Epoch 2/50\n",
            "9/9 [==============================] - 0s 1ms/step - loss: 0.1634 - mean_squared_error: 97.0955 - mean_absolute_error: 7.8093\n",
            "Epoch 3/50\n",
            "9/9 [==============================] - 0s 1ms/step - loss: 0.1603 - mean_squared_error: 88.2067 - mean_absolute_error: 7.1778\n",
            "Epoch 4/50\n",
            "9/9 [==============================] - 0s 1ms/step - loss: 0.1247 - mean_squared_error: 75.6185 - mean_absolute_error: 5.8460\n",
            "Epoch 5/50\n",
            "9/9 [==============================] - 0s 1ms/step - loss: 0.1149 - mean_squared_error: 69.5038 - mean_absolute_error: 5.6477\n",
            "Epoch 6/50\n",
            "9/9 [==============================] - 0s 1ms/step - loss: 0.1157 - mean_squared_error: 66.3183 - mean_absolute_error: 5.8520\n",
            "Epoch 7/50\n",
            "9/9 [==============================] - 0s 2ms/step - loss: 0.1112 - mean_squared_error: 65.4538 - mean_absolute_error: 5.6656\n",
            "Epoch 8/50\n",
            "9/9 [==============================] - 0s 1ms/step - loss: 0.1088 - mean_squared_error: 66.9905 - mean_absolute_error: 5.4247\n",
            "Epoch 9/50\n",
            "9/9 [==============================] - 0s 2ms/step - loss: 0.1012 - mean_squared_error: 63.3685 - mean_absolute_error: 5.3023\n",
            "Epoch 10/50\n",
            "9/9 [==============================] - 0s 2ms/step - loss: 0.1004 - mean_squared_error: 62.8879 - mean_absolute_error: 5.3298\n",
            "Epoch 11/50\n",
            "9/9 [==============================] - 0s 2ms/step - loss: 0.0952 - mean_squared_error: 62.0354 - mean_absolute_error: 5.2641\n",
            "Epoch 12/50\n",
            "9/9 [==============================] - 0s 2ms/step - loss: 0.0944 - mean_squared_error: 61.8427 - mean_absolute_error: 5.3156\n",
            "Epoch 13/50\n",
            "9/9 [==============================] - 0s 1ms/step - loss: 0.0977 - mean_squared_error: 64.7659 - mean_absolute_error: 5.2707\n",
            "Epoch 14/50\n",
            "9/9 [==============================] - 0s 2ms/step - loss: 0.0916 - mean_squared_error: 59.6885 - mean_absolute_error: 5.1692\n",
            "Epoch 15/50\n",
            "9/9 [==============================] - 0s 2ms/step - loss: 0.0922 - mean_squared_error: 58.7668 - mean_absolute_error: 5.1645\n",
            "Epoch 16/50\n",
            "9/9 [==============================] - 0s 2ms/step - loss: 0.0937 - mean_squared_error: 58.8422 - mean_absolute_error: 5.1439\n",
            "Epoch 17/50\n",
            "9/9 [==============================] - 0s 2ms/step - loss: 0.0853 - mean_squared_error: 57.6127 - mean_absolute_error: 4.9507\n",
            "Epoch 18/50\n",
            "9/9 [==============================] - 0s 2ms/step - loss: 0.0860 - mean_squared_error: 56.6004 - mean_absolute_error: 4.9809\n",
            "Epoch 19/50\n",
            "9/9 [==============================] - 0s 2ms/step - loss: 0.1073 - mean_squared_error: 62.1532 - mean_absolute_error: 5.7345\n",
            "Epoch 20/50\n",
            "9/9 [==============================] - 0s 2ms/step - loss: 0.0931 - mean_squared_error: 60.7500 - mean_absolute_error: 5.2512\n",
            "Epoch 21/50\n",
            "9/9 [==============================] - 0s 2ms/step - loss: 0.0831 - mean_squared_error: 56.4155 - mean_absolute_error: 5.1541\n",
            "Epoch 22/50\n",
            "9/9 [==============================] - 0s 1ms/step - loss: 0.0945 - mean_squared_error: 59.2360 - mean_absolute_error: 5.3938\n",
            "Epoch 23/50\n",
            "9/9 [==============================] - 0s 2ms/step - loss: 0.0827 - mean_squared_error: 57.7868 - mean_absolute_error: 4.9236\n",
            "Epoch 24/50\n",
            "9/9 [==============================] - 0s 2ms/step - loss: 0.0866 - mean_squared_error: 58.3569 - mean_absolute_error: 5.1210\n",
            "Epoch 25/50\n",
            "9/9 [==============================] - 0s 2ms/step - loss: 0.0835 - mean_squared_error: 53.3119 - mean_absolute_error: 5.2885\n",
            "Epoch 26/50\n",
            "9/9 [==============================] - 0s 2ms/step - loss: 0.0869 - mean_squared_error: 55.3506 - mean_absolute_error: 5.1966\n",
            "Epoch 27/50\n",
            "9/9 [==============================] - 0s 2ms/step - loss: 0.0988 - mean_squared_error: 61.1604 - mean_absolute_error: 5.4086\n",
            "Epoch 28/50\n",
            "9/9 [==============================] - 0s 2ms/step - loss: 0.1043 - mean_squared_error: 64.2031 - mean_absolute_error: 5.4272\n",
            "Epoch 29/50\n",
            "9/9 [==============================] - 0s 2ms/step - loss: 0.0984 - mean_squared_error: 56.4697 - mean_absolute_error: 5.8142\n",
            "Epoch 30/50\n",
            "9/9 [==============================] - 0s 2ms/step - loss: 0.0879 - mean_squared_error: 54.8500 - mean_absolute_error: 4.9907\n",
            "Epoch 31/50\n",
            "9/9 [==============================] - 0s 2ms/step - loss: 0.0789 - mean_squared_error: 57.0561 - mean_absolute_error: 4.7731\n",
            "Epoch 32/50\n",
            "9/9 [==============================] - 0s 2ms/step - loss: 0.0780 - mean_squared_error: 51.6525 - mean_absolute_error: 4.9976\n",
            "Epoch 33/50\n",
            "9/9 [==============================] - 0s 2ms/step - loss: 0.0708 - mean_squared_error: 52.0865 - mean_absolute_error: 4.6395\n",
            "Epoch 34/50\n",
            "9/9 [==============================] - 0s 1ms/step - loss: 0.0728 - mean_squared_error: 51.6542 - mean_absolute_error: 4.7236\n",
            "Epoch 35/50\n",
            "9/9 [==============================] - 0s 2ms/step - loss: 0.0722 - mean_squared_error: 50.9042 - mean_absolute_error: 4.8881\n",
            "Epoch 36/50\n",
            "9/9 [==============================] - 0s 2ms/step - loss: 0.0761 - mean_squared_error: 52.2533 - mean_absolute_error: 4.9596\n",
            "Epoch 37/50\n",
            "9/9 [==============================] - 0s 2ms/step - loss: 0.0755 - mean_squared_error: 54.1732 - mean_absolute_error: 4.7856\n",
            "Epoch 38/50\n",
            "9/9 [==============================] - 0s 3ms/step - loss: 0.0674 - mean_squared_error: 51.3183 - mean_absolute_error: 4.4976\n",
            "Epoch 39/50\n",
            "9/9 [==============================] - 0s 2ms/step - loss: 0.0663 - mean_squared_error: 48.7161 - mean_absolute_error: 4.5799\n",
            "Epoch 40/50\n",
            "9/9 [==============================] - 0s 2ms/step - loss: 0.0735 - mean_squared_error: 52.1123 - mean_absolute_error: 4.6415\n",
            "Epoch 41/50\n",
            "9/9 [==============================] - 0s 1ms/step - loss: 0.0676 - mean_squared_error: 51.1876 - mean_absolute_error: 4.5074\n",
            "Epoch 42/50\n",
            "9/9 [==============================] - 0s 1ms/step - loss: 0.0655 - mean_squared_error: 48.0786 - mean_absolute_error: 4.5432\n",
            "Epoch 43/50\n",
            "9/9 [==============================] - 0s 1ms/step - loss: 0.0655 - mean_squared_error: 50.2284 - mean_absolute_error: 4.4889\n",
            "Epoch 44/50\n",
            "9/9 [==============================] - 0s 2ms/step - loss: 0.0648 - mean_squared_error: 48.8150 - mean_absolute_error: 4.5112\n",
            "Epoch 45/50\n",
            "9/9 [==============================] - 0s 2ms/step - loss: 0.0631 - mean_squared_error: 47.5681 - mean_absolute_error: 4.4583\n",
            "Epoch 46/50\n",
            "9/9 [==============================] - 0s 2ms/step - loss: 0.0628 - mean_squared_error: 48.0785 - mean_absolute_error: 4.3857\n",
            "Epoch 47/50\n",
            "9/9 [==============================] - 0s 2ms/step - loss: 0.0674 - mean_squared_error: 46.2575 - mean_absolute_error: 4.8044\n",
            "Epoch 48/50\n",
            "9/9 [==============================] - 0s 2ms/step - loss: 0.0693 - mean_squared_error: 48.6268 - mean_absolute_error: 4.6180\n",
            "Epoch 49/50\n",
            "9/9 [==============================] - 0s 2ms/step - loss: 0.0682 - mean_squared_error: 50.3614 - mean_absolute_error: 4.5270\n",
            "Epoch 50/50\n",
            "9/9 [==============================] - 0s 2ms/step - loss: 0.0720 - mean_squared_error: 50.0088 - mean_absolute_error: 4.6464\n",
            "Model trained successfully!\n"
          ],
          "name": "stdout"
        },
        {
          "output_type": "display_data",
          "data": {
            "image/png": "[encoded data removed]",
            "text/plain": [
              "<Figure size 1728x432 with 3 Axes>"
            ]
          },
          "metadata": {
            "tags": [],
            "needs_background": "light"
          }
        }
      ]
    },
    {
      "cell_type": "code",
      "metadata": {
        "id": "5Pa-0b_tAEeC"
      },
      "source": [
        ""
      ],
      "execution_count": 36,
      "outputs": []
    }
  ]
}