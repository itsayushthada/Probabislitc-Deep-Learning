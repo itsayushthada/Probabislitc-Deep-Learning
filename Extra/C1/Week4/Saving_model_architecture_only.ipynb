{
  "nbformat": 4,
  "nbformat_minor": 0,
  "metadata": {
    "kernelspec": {
      "display_name": "Python 3",
      "language": "python",
      "name": "python3"
    },
    "language_info": {
      "codemirror_mode": {
        "name": "ipython",
        "version": 3
      },
      "file_extension": ".py",
      "mimetype": "text/x-python",
      "name": "python",
      "nbconvert_exporter": "python",
      "pygments_lexer": "ipython3",
      "version": "3.7.1"
    },
    "colab": {
      "name": "Saving model architecture only.ipynb",
      "provenance": [],
      "collapsed_sections": []
    }
  },
  "cells": [
    {
      "cell_type": "markdown",
      "metadata": {
        "id": "lSPv02XINp3J"
      },
      "source": [
        "# Saving model architecture only\n",
        "\n",
        "In this reading you will learn how to save a model's architecture, but not its weights."
      ]
    },
    {
      "cell_type": "code",
      "metadata": {
        "id": "pUxM_wS7Np3L"
      },
      "source": [
        "import tensorflow as tf\n",
        "from tensorflow.keras.models import Sequential\n",
        "from tensorflow.keras.layers import Dense\n",
        "import json\n",
        "import numpy as np"
      ],
      "execution_count": 1,
      "outputs": []
    },
    {
      "cell_type": "markdown",
      "metadata": {
        "id": "8FkL4l0-Np3Q"
      },
      "source": [
        "In previous videos and notebooks you have have learned how to save a model's weights, as well as the entire model - weights and architecture."
      ]
    },
    {
      "cell_type": "markdown",
      "metadata": {
        "id": "s7d7EBkPNp3R"
      },
      "source": [
        "### Accessing a model's configuration\n",
        "A model's *configuration* refers to its architecture. TensorFlow has a convenient way to retrieve a model's architecture as a dictionary. We start by creating a simple fully connected feedforward neural network with 1 hidden layer."
      ]
    },
    {
      "cell_type": "code",
      "metadata": {
        "id": "g9ExRztfNp3S"
      },
      "source": [
        "model = Sequential([\n",
        "    Dense(units=32, input_shape=(32, 32, 3), activation='relu', name='dense_1'),\n",
        "    Dense(units=10, activation='softmax', name='dense_2')\n",
        "])"
      ],
      "execution_count": 2,
      "outputs": []
    },
    {
      "cell_type": "markdown",
      "metadata": {
        "id": "1QeLjGz4Np3X"
      },
      "source": [
        "A TensorFlow model has an inbuilt method `get_config` which returns the model's architecture as a dictionary:"
      ]
    },
    {
      "cell_type": "code",
      "metadata": {
        "id": "b28bxSjKNp3Z",
        "outputId": "dc236a4d-d857-4ce4-daaf-2cf963a82b75",
        "colab": {
          "base_uri": "https://localhost:8080/"
        }
      },
      "source": [
        "config_dict = model.get_config()\n",
        "print(config_dict)"
      ],
      "execution_count": 3,
      "outputs": [
        {
          "output_type": "stream",
          "text": [
            "{'name': 'sequential', 'layers': [{'class_name': 'InputLayer', 'config': {'batch_input_shape': (None, 32, 32, 3), 'dtype': 'float32', 'sparse': False, 'ragged': False, 'name': 'dense_1_input'}}, {'class_name': 'Dense', 'config': {'name': 'dense_1', 'trainable': True, 'batch_input_shape': (None, 32, 32, 3), 'dtype': 'float32', 'units': 32, 'activation': 'relu', 'use_bias': True, 'kernel_initializer': {'class_name': 'GlorotUniform', 'config': {'seed': None}}, 'bias_initializer': {'class_name': 'Zeros', 'config': {}}, 'kernel_regularizer': None, 'bias_regularizer': None, 'activity_regularizer': None, 'kernel_constraint': None, 'bias_constraint': None}}, {'class_name': 'Dense', 'config': {'name': 'dense_2', 'trainable': True, 'dtype': 'float32', 'units': 10, 'activation': 'softmax', 'use_bias': True, 'kernel_initializer': {'class_name': 'GlorotUniform', 'config': {'seed': None}}, 'bias_initializer': {'class_name': 'Zeros', 'config': {}}, 'kernel_regularizer': None, 'bias_regularizer': None, 'activity_regularizer': None, 'kernel_constraint': None, 'bias_constraint': None}}]}\n"
          ],
          "name": "stdout"
        }
      ]
    },
    {
      "cell_type": "markdown",
      "metadata": {
        "id": "M4zEaBCtNp3d"
      },
      "source": [
        "### Creating a new model from the config\n",
        "A new TensorFlow model can be created from this config dictionary. This model will have reinitialized weights, which are not the same as the original model."
      ]
    },
    {
      "cell_type": "code",
      "metadata": {
        "id": "FoJ5ueGLNp3e"
      },
      "source": [
        "model_same_config = tf.keras.Sequential.from_config(config_dict)"
      ],
      "execution_count": 4,
      "outputs": []
    },
    {
      "cell_type": "markdown",
      "metadata": {
        "id": "6HVIbBvXNp3i"
      },
      "source": [
        "We can check explicitly that the config of both models is the same, but the weights are not: "
      ]
    },
    {
      "cell_type": "code",
      "metadata": {
        "id": "ZZr2MO6CNp3j",
        "outputId": "5ef46a28-7049-4712-b41d-653515ae7df7",
        "colab": {
          "base_uri": "https://localhost:8080/"
        }
      },
      "source": [
        "print('Same config:', \n",
        "      model.get_config() == model_same_config.get_config())\n",
        "print('Same value for first weight matrix:', \n",
        "      np.allclose(model.weights[0].numpy(), model_same_config.weights[0].numpy()))"
      ],
      "execution_count": 5,
      "outputs": [
        {
          "output_type": "stream",
          "text": [
            "Same config: True\n",
            "Same value for first weight matrix: False\n"
          ],
          "name": "stdout"
        }
      ]
    },
    {
      "cell_type": "markdown",
      "metadata": {
        "id": "o3C9YqFWNp3o"
      },
      "source": [
        "For models that are not `Sequential` models, use `tf.keras.Model.from_config` instead of `tf.keras.Sequential.from_config`."
      ]
    },
    {
      "cell_type": "markdown",
      "metadata": {
        "id": "BvWVKhicNp3p"
      },
      "source": [
        "### Other file formats: JSON and YAML\n",
        "It is also possible to obtain a model's config in JSON or YAML formats. This follows the same pattern:"
      ]
    },
    {
      "cell_type": "code",
      "metadata": {
        "id": "0n5BDyUCNp3q",
        "outputId": "0dfc8087-fb51-40aa-ba67-238faad4492a",
        "colab": {
          "base_uri": "https://localhost:8080/"
        }
      },
      "source": [
        "json_string = model.to_json()\n",
        "print(json_string)"
      ],
      "execution_count": 6,
      "outputs": [
        {
          "output_type": "stream",
          "text": [
            "{\"class_name\": \"Sequential\", \"config\": {\"name\": \"sequential\", \"layers\": [{\"class_name\": \"InputLayer\", \"config\": {\"batch_input_shape\": [null, 32, 32, 3], \"dtype\": \"float32\", \"sparse\": false, \"ragged\": false, \"name\": \"dense_1_input\"}}, {\"class_name\": \"Dense\", \"config\": {\"name\": \"dense_1\", \"trainable\": true, \"batch_input_shape\": [null, 32, 32, 3], \"dtype\": \"float32\", \"units\": 32, \"activation\": \"relu\", \"use_bias\": true, \"kernel_initializer\": {\"class_name\": \"GlorotUniform\", \"config\": {\"seed\": null}}, \"bias_initializer\": {\"class_name\": \"Zeros\", \"config\": {}}, \"kernel_regularizer\": null, \"bias_regularizer\": null, \"activity_regularizer\": null, \"kernel_constraint\": null, \"bias_constraint\": null}}, {\"class_name\": \"Dense\", \"config\": {\"name\": \"dense_2\", \"trainable\": true, \"dtype\": \"float32\", \"units\": 10, \"activation\": \"softmax\", \"use_bias\": true, \"kernel_initializer\": {\"class_name\": \"GlorotUniform\", \"config\": {\"seed\": null}}, \"bias_initializer\": {\"class_name\": \"Zeros\", \"config\": {}}, \"kernel_regularizer\": null, \"bias_regularizer\": null, \"activity_regularizer\": null, \"kernel_constraint\": null, \"bias_constraint\": null}}]}, \"keras_version\": \"2.4.0\", \"backend\": \"tensorflow\"}\n"
          ],
          "name": "stdout"
        }
      ]
    },
    {
      "cell_type": "markdown",
      "metadata": {
        "id": "13oFKtJyNp3u"
      },
      "source": [
        "The JSON format can easily be written out and saved as a file:"
      ]
    },
    {
      "cell_type": "code",
      "metadata": {
        "id": "_GXS9tb-Np3v"
      },
      "source": [
        "# Write out JSON config file\n",
        "\n",
        "with open('config.json', 'w') as f:\n",
        "    json.dump(json_string, f)\n",
        "del json_string"
      ],
      "execution_count": 7,
      "outputs": []
    },
    {
      "cell_type": "code",
      "metadata": {
        "id": "OOAYe6pFNp3z"
      },
      "source": [
        "# Read in JSON config file again\n",
        "\n",
        "with open('config.json', 'r') as f:\n",
        "    json_string = json.load(f)"
      ],
      "execution_count": 8,
      "outputs": []
    },
    {
      "cell_type": "code",
      "metadata": {
        "id": "W8foRXGD8P_h",
        "outputId": "e32295c5-0e63-4734-b874-e671e58365dd",
        "colab": {
          "base_uri": "https://localhost:8080/"
        }
      },
      "source": [
        "print(json_string)"
      ],
      "execution_count": 9,
      "outputs": [
        {
          "output_type": "stream",
          "text": [
            "{\"class_name\": \"Sequential\", \"config\": {\"name\": \"sequential\", \"layers\": [{\"class_name\": \"InputLayer\", \"config\": {\"batch_input_shape\": [null, 32, 32, 3], \"dtype\": \"float32\", \"sparse\": false, \"ragged\": false, \"name\": \"dense_1_input\"}}, {\"class_name\": \"Dense\", \"config\": {\"name\": \"dense_1\", \"trainable\": true, \"batch_input_shape\": [null, 32, 32, 3], \"dtype\": \"float32\", \"units\": 32, \"activation\": \"relu\", \"use_bias\": true, \"kernel_initializer\": {\"class_name\": \"GlorotUniform\", \"config\": {\"seed\": null}}, \"bias_initializer\": {\"class_name\": \"Zeros\", \"config\": {}}, \"kernel_regularizer\": null, \"bias_regularizer\": null, \"activity_regularizer\": null, \"kernel_constraint\": null, \"bias_constraint\": null}}, {\"class_name\": \"Dense\", \"config\": {\"name\": \"dense_2\", \"trainable\": true, \"dtype\": \"float32\", \"units\": 10, \"activation\": \"softmax\", \"use_bias\": true, \"kernel_initializer\": {\"class_name\": \"GlorotUniform\", \"config\": {\"seed\": null}}, \"bias_initializer\": {\"class_name\": \"Zeros\", \"config\": {}}, \"kernel_regularizer\": null, \"bias_regularizer\": null, \"activity_regularizer\": null, \"kernel_constraint\": null, \"bias_constraint\": null}}]}, \"keras_version\": \"2.4.0\", \"backend\": \"tensorflow\"}\n"
          ],
          "name": "stdout"
        }
      ]
    },
    {
      "cell_type": "code",
      "metadata": {
        "id": "dSb4zwSeNp33"
      },
      "source": [
        "# Reinitialize model\n",
        "\n",
        "model_same_config = tf.keras.models.model_from_json(json_string)"
      ],
      "execution_count": 10,
      "outputs": []
    },
    {
      "cell_type": "code",
      "metadata": {
        "id": "3T13rOLFNp36",
        "outputId": "3d91b76f-47e3-4b7a-9c2b-da409e6f187e",
        "colab": {
          "base_uri": "https://localhost:8080/"
        }
      },
      "source": [
        "# Same config, new weights\n",
        "\n",
        "print('Same config:', \n",
        "      model.get_config() == model_same_config.get_config())\n",
        "print('Same value for first weight matrix:', \n",
        "      np.allclose(model.weights[0].numpy(), model_same_config.weights[0].numpy()))"
      ],
      "execution_count": 11,
      "outputs": [
        {
          "output_type": "stream",
          "text": [
            "Same config: True\n",
            "Same value for first weight matrix: False\n"
          ],
          "name": "stdout"
        }
      ]
    },
    {
      "cell_type": "markdown",
      "metadata": {
        "id": "o5gQXx47Np39"
      },
      "source": [
        "The YAML format is similar. The details of writing out YAML files, loading them and using them to create a new model are similar as for the JSON files, so we won't show it here."
      ]
    },
    {
      "cell_type": "code",
      "metadata": {
        "id": "RX5eByn1Np3-",
        "outputId": "2d7b94cc-c11c-4374-f7be-e1f1cdc263d8",
        "colab": {
          "base_uri": "https://localhost:8080/"
        }
      },
      "source": [
        "yaml_string = model.to_yaml()\n",
        "print(yaml_string)"
      ],
      "execution_count": 12,
      "outputs": [
        {
          "output_type": "stream",
          "text": [
            "backend: tensorflow\n",
            "class_name: Sequential\n",
            "config:\n",
            "  layers:\n",
            "  - class_name: InputLayer\n",
            "    config:\n",
            "      batch_input_shape: !!python/tuple [null, 32, 32, 3]\n",
            "      dtype: float32\n",
            "      name: dense_1_input\n",
            "      ragged: false\n",
            "      sparse: false\n",
            "  - class_name: Dense\n",
            "    config:\n",
            "      activation: relu\n",
            "      activity_regularizer: null\n",
            "      batch_input_shape: !!python/tuple [null, 32, 32, 3]\n",
            "      bias_constraint: null\n",
            "      bias_initializer:\n",
            "        class_name: Zeros\n",
            "        config: {}\n",
            "      bias_regularizer: null\n",
            "      dtype: float32\n",
            "      kernel_constraint: null\n",
            "      kernel_initializer:\n",
            "        class_name: GlorotUniform\n",
            "        config: {seed: null}\n",
            "      kernel_regularizer: null\n",
            "      name: dense_1\n",
            "      trainable: true\n",
            "      units: 32\n",
            "      use_bias: true\n",
            "  - class_name: Dense\n",
            "    config:\n",
            "      activation: softmax\n",
            "      activity_regularizer: null\n",
            "      bias_constraint: null\n",
            "      bias_initializer:\n",
            "        class_name: Zeros\n",
            "        config: {}\n",
            "      bias_regularizer: null\n",
            "      dtype: float32\n",
            "      kernel_constraint: null\n",
            "      kernel_initializer:\n",
            "        class_name: GlorotUniform\n",
            "        config: {seed: null}\n",
            "      kernel_regularizer: null\n",
            "      name: dense_2\n",
            "      trainable: true\n",
            "      units: 10\n",
            "      use_bias: true\n",
            "  name: sequential\n",
            "keras_version: 2.4.0\n",
            "\n"
          ],
          "name": "stdout"
        }
      ]
    },
    {
      "cell_type": "markdown",
      "metadata": {
        "id": "p0ywnUGTNp4B"
      },
      "source": [
        "Writing out, reading in and using YAML files to create models is similar to JSON files. "
      ]
    },
    {
      "cell_type": "markdown",
      "metadata": {
        "id": "JoT0Y6vENp4C"
      },
      "source": [
        "### Further reading and resources\n",
        "* https://www.tensorflow.org/guide/keras/save_and_serialize#architecture-only_saving\n",
        "* https://keras.io/getting-started/faq/#how-can-i-save-a-keras-model"
      ]
    }
  ]
}