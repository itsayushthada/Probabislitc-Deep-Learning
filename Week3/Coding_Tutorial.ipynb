{
 "cells": [
  {
   "cell_type": "code",
   "execution_count": 1,
   "metadata": {
    "colab": {
     "base_uri": "https://localhost:8080/"
    },
    "id": "zx3E09_-qySM",
    "outputId": "8ab54552-99a6-45fb-b701-42f752474f01"
   },
   "outputs": [
    {
     "name": "stdout",
     "output_type": "stream",
     "text": [
      "TF version: 2.3.0\n",
      "TFP version: 0.11.0\n"
     ]
    }
   ],
   "source": [
    "import tensorflow as tf\n",
    "import tensorflow_probability as tfp\n",
    "tfd = tfp.distributions\n",
    "tfb = tfp.bijectors\n",
    "tfpl = tfp.layers\n",
    "\n",
    "print(\"TF version:\", tf.__version__)\n",
    "print(\"TFP version:\", tfp.__version__)"
   ]
  },
  {
   "cell_type": "code",
   "execution_count": 2,
   "metadata": {
    "id": "gphvfXHHqySR"
   },
   "outputs": [],
   "source": [
    "import numpy as np\n",
    "import pandas as pd\n",
    "import matplotlib.pyplot as plt"
   ]
  },
  {
   "cell_type": "markdown",
   "metadata": {
    "id": "rLPDgg2wqySU"
   },
   "source": [
    "# Bijectors and normalising flows"
   ]
  },
  {
   "cell_type": "markdown",
   "metadata": {
    "id": "N3qO9kPxqySV"
   },
   "source": [
    " ## Coding tutorials\n",
    " #### [1. Bijectors](#coding_tutorial_1)\n",
    " #### [2. The TransformedDistribution class](#coding_tutorial_2)\n",
    " #### [3. Subclassing bijectors](#coding_tutorial_3)\n",
    " #### [4. Normalising flows](#coding_tutorial_4)"
   ]
  },
  {
   "cell_type": "markdown",
   "metadata": {
    "id": "DG5tqsTrqySV"
   },
   "source": [
    "***\n",
    "<a id=\"coding_tutorial_1\"></a>\n",
    "## Bijectors"
   ]
  },
  {
   "cell_type": "code",
   "execution_count": 3,
   "metadata": {
    "id": "YJ8lkWUbqySW"
   },
   "outputs": [],
   "source": [
    "# Define base distribution\n",
    "\n",
    "normal = tfd.Normal(loc = 2.0, scale=5.0)"
   ]
  },
  {
   "cell_type": "code",
   "execution_count": 4,
   "metadata": {
    "id": "5uJ7uomKqySZ"
   },
   "outputs": [],
   "source": [
    "# Sample from base distribution\n",
    "\n",
    "n = 10000\n",
    "z = normal.sample(n)"
   ]
  },
  {
   "cell_type": "markdown",
   "metadata": {
    "id": "-NnivmlaqySc"
   },
   "source": [
    "### Scale and shift bijector"
   ]
  },
  {
   "cell_type": "code",
   "execution_count": 5,
   "metadata": {
    "id": "qf5C5iRBqySd"
   },
   "outputs": [],
   "source": [
    "# Define scale and shift\n",
    "\n",
    "scale = 0.5\n",
    "shift = 0.3"
   ]
  },
  {
   "cell_type": "code",
   "execution_count": 6,
   "metadata": {
    "id": "BUsrueO0qySf"
   },
   "outputs": [],
   "source": [
    "# Define chain bijector\n",
    "\n",
    "scale_n_shift_v1 = tfb.Chain([tfb.Shift(shift), tfb.Scale(scale)])"
   ]
  },
  {
   "cell_type": "code",
   "execution_count": 7,
   "metadata": {
    "id": "RCEgLBz7qySi"
   },
   "outputs": [],
   "source": [
    "# We can also use call methods\n",
    "\n",
    "scale_transf = tfb.Scale(scale)\n",
    "shift_transf = tfb.Shift(shift)\n",
    "\n",
    "scale_n_shift_v2 = shift_transf(scale_transf)"
   ]
  },
  {
   "cell_type": "code",
   "execution_count": 8,
   "metadata": {
    "id": "qSXf4yGhqySm"
   },
   "outputs": [],
   "source": [
    "# Apply the forward transformation\n",
    "\n",
    "x_0 = tf.add(tf.multiply(scale, z), shift)\n",
    "x_1 = scale_n_shift_v1.forward(z)\n",
    "x_2 = scale_n_shift_v2.forward(z)"
   ]
  },
  {
   "cell_type": "code",
   "execution_count": 9,
   "metadata": {
    "colab": {
     "base_uri": "https://localhost:8080/"
    },
    "id": "hrJAn2BcqySo",
    "outputId": "ebc4c645-842d-4009-ebff-6c6ad4764452"
   },
   "outputs": [
    {
     "data": {
      "text/plain": [
       "(<tf.Tensor: shape=(), dtype=float32, numpy=0.0>,\n",
       " <tf.Tensor: shape=(), dtype=float32, numpy=0.0>,\n",
       " <tf.Tensor: shape=(), dtype=float32, numpy=0.0>)"
      ]
     },
     "execution_count": 9,
     "metadata": {
      "tags": []
     },
     "output_type": "execute_result"
    }
   ],
   "source": [
    "# Check the forward transformation\n",
    "\n",
    "tf.norm(x_0 - x_1), tf.norm(x_0 - x_2), tf.norm(x_1 - x_2)"
   ]
  },
  {
   "cell_type": "markdown",
   "metadata": {
    "id": "HzUkVbu7qySs"
   },
   "source": [
    "#### Plots"
   ]
  },
  {
   "cell_type": "code",
   "execution_count": 10,
   "metadata": {
    "colab": {
     "base_uri": "https://localhost:8080/",
     "height": 267
    },
    "id": "IXWKCQOKqySt",
    "outputId": "3bf459e0-2acd-4502-fc3e-84e31b374b35"
   },
   "outputs": [
    {
     "data": {
      "image/png": "[encoded data removed]",
      "text/plain": [
       "<Figure size 432x288 with 1 Axes>"
      ]
     },
     "metadata": {
      "needs_background": "light",
      "tags": []
     },
     "output_type": "display_data"
    }
   ],
   "source": [
    "# Plot z density\n",
    "\n",
    "plt.hist(z, bins=100)\n",
    "plt.show()"
   ]
  },
  {
   "cell_type": "code",
   "execution_count": 11,
   "metadata": {
    "colab": {
     "base_uri": "https://localhost:8080/",
     "height": 499
    },
    "id": "b6jaxQfyqySv",
    "outputId": "4ed95ec1-f3d4-4cfa-a729-2107f709a51e"
   },
   "outputs": [
    {
     "data": {
      "image/png": "[encoded data removed]",
      "text/plain": [
       "<Figure size 1008x576 with 4 Axes>"
      ]
     },
     "metadata": {
      "needs_background": "light",
      "tags": []
     },
     "output_type": "display_data"
    }
   ],
   "source": [
    "# Plot x density\n",
    "\n",
    "plt.figure(figsize=(14, 8))\n",
    "\n",
    "plt.subplot(2, 2, 1)\n",
    "plt.hist(z, bins=100)\n",
    "plt.title(\"Sample Data\")\n",
    "\n",
    "plt.subplot(2, 2, 2)\n",
    "plt.hist(x_0, bins=100)\n",
    "plt.title(\"Manual Transformation\")\n",
    "\n",
    "plt.subplot(2, 2, 3)\n",
    "plt.hist(x_1, bins=100)\n",
    "plt.title(\"Bijector 1 Transformation\")\n",
    "\n",
    "plt.subplot(2, 2, 4)\n",
    "plt.hist(x_0, bins=100)\n",
    "plt.title(\"Bjiector 2 Transformation\")\n",
    "\n",
    "plt.show()"
   ]
  },
  {
   "cell_type": "markdown",
   "metadata": {
    "id": "YwoQHX7sqySy"
   },
   "source": [
    "#### Inverse transformation"
   ]
  },
  {
   "cell_type": "code",
   "execution_count": 12,
   "metadata": {
    "id": "OaTMta04qySy"
   },
   "outputs": [],
   "source": [
    "# Apply inverse transformation\n",
    "\n",
    "inv_x_0 = tf.divide(tf.subtract(x_0, shift), scale)\n",
    "inv_x_1 = scale_n_shift_v1.inverse(x_1)\n",
    "inv_x_2 = scale_n_shift_v2.inverse(x_2)"
   ]
  },
  {
   "cell_type": "code",
   "execution_count": 13,
   "metadata": {
    "colab": {
     "base_uri": "https://localhost:8080/"
    },
    "id": "lA-aZWb7qyS1",
    "outputId": "5603ecde-a3ac-4a91-b300-ef49217ad230"
   },
   "outputs": [
    {
     "data": {
      "text/plain": [
       "(<tf.Tensor: shape=(), dtype=float32, numpy=8.3036775e-06>,\n",
       " <tf.Tensor: shape=(), dtype=float32, numpy=0.0>,\n",
       " <tf.Tensor: shape=(), dtype=float32, numpy=0.0>)"
      ]
     },
     "execution_count": 13,
     "metadata": {
      "tags": []
     },
     "output_type": "execute_result"
    }
   ],
   "source": [
    "# Check inverse transformation\n",
    "\n",
    "tf.norm(z - inv_x_0), tf.norm(z - inv_x_1), tf.norm(z - inv_x_2),"
   ]
  },
  {
   "cell_type": "code",
   "execution_count": 14,
   "metadata": {
    "colab": {
     "base_uri": "https://localhost:8080/",
     "height": 499
    },
    "id": "gStJPrVZrEbz",
    "outputId": "0e670849-5afb-48db-d3f4-26238d3a28a7"
   },
   "outputs": [
    {
     "data": {
      "image/png": "[encoded data removed]",
      "text/plain": [
       "<Figure size 1008x576 with 4 Axes>"
      ]
     },
     "metadata": {
      "needs_background": "light",
      "tags": []
     },
     "output_type": "display_data"
    }
   ],
   "source": [
    "# Plot x inverse density\n",
    "\n",
    "plt.figure(figsize=(14, 8))\n",
    "\n",
    "plt.subplot(2, 2, 1)\n",
    "plt.hist(z, bins=100)\n",
    "plt.title(\"Sample Data\")\n",
    "\n",
    "plt.subplot(2, 2, 2)\n",
    "plt.hist(inv_x_0, bins=100)\n",
    "plt.title(\"Manual Inverse Transformation\")\n",
    "\n",
    "plt.subplot(2, 2, 3)\n",
    "plt.hist(inv_x_1, bins=100)\n",
    "plt.title(\"Bijector 1 Inverse Transformation\")\n",
    "\n",
    "plt.subplot(2, 2, 4)\n",
    "plt.hist(inv_x_2, bins=100)\n",
    "plt.title(\"Bjiector 2 Inverse Transformation\")\n",
    "\n",
    "plt.show()"
   ]
  },
  {
   "cell_type": "markdown",
   "metadata": {
    "id": "-dsVcPrkqyS3"
   },
   "source": [
    "#### Log probability"
   ]
  },
  {
   "cell_type": "code",
   "execution_count": 15,
   "metadata": {
    "colab": {
     "base_uri": "https://localhost:8080/"
    },
    "id": "gOT_fEIcqyS3",
    "outputId": "99c73a69-b609-4d9e-fa6f-07ab1c436e0f"
   },
   "outputs": [
    {
     "name": "stdout",
     "output_type": "stream",
     "text": [
      "tf.Tensor([-3.5186057 -2.0345168 -3.1199598 ... -1.9683771 -1.9033237 -2.061459 ], shape=(10000,), dtype=float32)\n"
     ]
    }
   ],
   "source": [
    "# Compute log prob for x\n",
    "\n",
    "log_prob_x = normal.log_prob(z) - scale_n_shift_v1.forward_log_det_jacobian(z, event_ndims=0)\n",
    "print(log_prob_x)"
   ]
  },
  {
   "cell_type": "code",
   "execution_count": 16,
   "metadata": {
    "colab": {
     "base_uri": "https://localhost:8080/"
    },
    "id": "d59VoBnuqyS6",
    "outputId": "dbcb6d81-9299-46d6-d67d-ddded84fd183"
   },
   "outputs": [
    {
     "name": "stdout",
     "output_type": "stream",
     "text": [
      "tf.Tensor([-3.5186057 -2.0345168 -3.1199598 ... -1.9683771 -1.9033237 -2.061459 ], shape=(10000,), dtype=float32)\n"
     ]
    }
   ],
   "source": [
    "# We can also use the inverse transformation\n",
    "\n",
    "log_prob_x = normal.log_prob(scale_n_shift_v1.inverse(x_1)) + scale_n_shift_v1.inverse_log_det_jacobian(x_1, event_ndims=0)\n",
    "print(log_prob_x)"
   ]
  },
  {
   "cell_type": "markdown",
   "metadata": {
    "id": "TX4Pa-mhqyS8"
   },
   "source": [
    "### Broadcasting"
   ]
  },
  {
   "cell_type": "code",
   "execution_count": 17,
   "metadata": {
    "id": "Bylt-_zRqyS9"
   },
   "outputs": [],
   "source": [
    "x = tf.random.normal(shape=(100, 1))"
   ]
  },
  {
   "cell_type": "code",
   "execution_count": 18,
   "metadata": {
    "colab": {
     "base_uri": "https://localhost:8080/"
    },
    "id": "ETxaa6c7qyS_",
    "outputId": "3261d2a7-b0a6-450e-dff2-c00503aaa664"
   },
   "outputs": [
    {
     "data": {
      "text/plain": [
       "TensorShape([10000])"
      ]
     },
     "execution_count": 18,
     "metadata": {
      "tags": []
     },
     "output_type": "execute_result"
    }
   ],
   "source": [
    "# Softfloor bijector\n",
    "\n",
    "softfloor = tfb.Softfloor(temperature=0.01)\n",
    "y = softfloor.forward(x_1)\n",
    "\n",
    "y.shape"
   ]
  },
  {
   "cell_type": "code",
   "execution_count": 19,
   "metadata": {
    "colab": {
     "base_uri": "https://localhost:8080/"
    },
    "id": "w39w_c3WqyTB",
    "outputId": "14158340-680d-4408-f41d-a0abbccd8d09"
   },
   "outputs": [
    {
     "data": {
      "text/plain": [
       "TensorShape([10000, 2])"
      ]
     },
     "execution_count": 19,
     "metadata": {
      "tags": []
     },
     "output_type": "execute_result"
    }
   ],
   "source": [
    "# Softfloor bijector using broadcasting\n",
    "\n",
    "softfloor = tfb.Softfloor(temperature=[0.01, 0.02])\n",
    "y = softfloor.forward(tf.reshape(x_1, (-1, 1)))\n",
    "\n",
    "y.shape"
   ]
  },
  {
   "cell_type": "code",
   "execution_count": 20,
   "metadata": {
    "colab": {
     "base_uri": "https://localhost:8080/"
    },
    "id": "kTZoiF1AqyTE",
    "outputId": "9e309976-0e39-4781-dfe6-071146ba3af1"
   },
   "outputs": [
    {
     "data": {
      "text/plain": [
       "TensorShape([10000, 4])"
      ]
     },
     "execution_count": 20,
     "metadata": {
      "tags": []
     },
     "output_type": "execute_result"
    }
   ],
   "source": [
    "# Softfloor bijector using broadcasting\n",
    "\n",
    "softfloor = tfb.Softfloor(temperature=[0.01, 0.02, 5, 1000])\n",
    "y = softfloor.forward(tf.reshape(x_1, (-1, 1)))\n",
    "\n",
    "y.shape"
   ]
  },
  {
   "cell_type": "code",
   "execution_count": 21,
   "metadata": {
    "id": "AwiBI1xsqyTG"
   },
   "outputs": [],
   "source": [
    "# Plot routine\n",
    "\n",
    "def _plot(nparams, bijector, params, x):\n",
    "    bijector_params = tuple(getattr(bijector, name) for name in params)\n",
    "    upper_params = [name[0].upper() + name[1:] for name in params]\n",
    "    fig = plt.figure(figsize=(14, 5))\n",
    "    lines = plt.plot(np.tile(x, nparams), bijector.forward(x))\n",
    "    for l in zip(lines, *bijector_params):\n",
    "        labels = \": {:.2f}, \".join(upper_params) + ': {:.2f}'\n",
    "        l[0].set_label(labels.format(*l[1:]))\n",
    "    plt.legend()\n",
    "    plt.show()"
   ]
  },
  {
   "cell_type": "code",
   "execution_count": 22,
   "metadata": {
    "colab": {
     "base_uri": "https://localhost:8080/",
     "height": 320
    },
    "id": "eBwXfWLHqyTI",
    "outputId": "fe93222c-5f7b-4fcc-8ea6-110a228f36f9"
   },
   "outputs": [
    {
     "data": {
      "image/png": "[encoded data removed]",
      "text/plain": [
       "<Figure size 1008x360 with 1 Axes>"
      ]
     },
     "metadata": {
      "needs_background": "light",
      "tags": []
     },
     "output_type": "display_data"
    }
   ],
   "source": [
    "# Plot\n",
    "\n",
    "x = np.linspace(-2, 2, 2000)[..., np.newaxis]\n",
    "\n",
    "softfloor = tfb.Softfloor(temperature=[0.01, -0.2, 5, 1000])\n",
    "_plot(4, softfloor, [\"temperature\"], x)"
   ]
  },
  {
   "cell_type": "code",
   "execution_count": 23,
   "metadata": {
    "id": "U1aJ0CZ0qyTK"
   },
   "outputs": [],
   "source": [
    "# Gumbel bijector using broadcasting\n",
    "\n",
    "n = 5\n",
    "gumbel = tfb.GumbelCDF(loc = np.random.randint(-5, 5, n).astype(np.float32), \n",
    "                       scale = np.random.randint(0, 100, n).astype(np.float32))"
   ]
  },
  {
   "cell_type": "code",
   "execution_count": 24,
   "metadata": {
    "colab": {
     "base_uri": "https://localhost:8080/",
     "height": 320
    },
    "id": "KK904tTZqyTM",
    "outputId": "e00b6e55-dbaa-4fd7-bffb-19737ff6fa57"
   },
   "outputs": [
    {
     "data": {
      "image/png": "[encoded data removed]",
      "text/plain": [
       "<Figure size 1008x360 with 1 Axes>"
      ]
     },
     "metadata": {
      "needs_background": "light",
      "tags": []
     },
     "output_type": "display_data"
    }
   ],
   "source": [
    "# Plot\n",
    "\n",
    "x = np.linspace(-10, 10, 2000, dtype=np.float32)[..., np.newaxis]\n",
    "\n",
    "_plot(n, gumbel, [\"loc\", \"scale\"], x)"
   ]
  },
  {
   "cell_type": "code",
   "execution_count": 25,
   "metadata": {
    "id": "mLPItDSkLm4y"
   },
   "outputs": [],
   "source": [
    "# Gumbel bijector using broadcasting\n",
    "\n",
    "n = 5\n",
    "\n",
    "kswamy = tfb.KumaraswamyCDF(concentration0=np.random.normal(1, 1, n).astype(np.float32), \n",
    "                            concentration1=np.random.normal(1, 1, n).astype(np.float32))"
   ]
  },
  {
   "cell_type": "code",
   "execution_count": 26,
   "metadata": {
    "colab": {
     "base_uri": "https://localhost:8080/",
     "height": 320
    },
    "id": "p8_WAjzvLnAb",
    "outputId": "715ff0a7-9d38-4a05-b524-ba5a3a307ae9"
   },
   "outputs": [
    {
     "data": {
      "image/png": "[encoded data removed]",
      "text/plain": [
       "<Figure size 1008x360 with 1 Axes>"
      ]
     },
     "metadata": {
      "needs_background": "light",
      "tags": []
     },
     "output_type": "display_data"
    }
   ],
   "source": [
    "# Plot\n",
    "\n",
    "x = np.linspace(-10, 10, 2000, dtype=np.float32)[..., np.newaxis]\n",
    "\n",
    "_plot(n, kswamy, [\"concentration0\", \"concentration1\"], x)"
   ]
  },
  {
   "cell_type": "markdown",
   "metadata": {
    "id": "OZ-2ibBFqyTP"
   },
   "source": [
    "\n",
    "***\n",
    "<a id=\"coding_tutorial_2\"></a>\n",
    "## The TransformedDistribution class"
   ]
  },
  {
   "cell_type": "markdown",
   "metadata": {
    "id": "bWIFwTDdqyTP"
   },
   "source": [
    "### TransformedDistribution"
   ]
  },
  {
   "cell_type": "code",
   "execution_count": 27,
   "metadata": {
    "id": "MkC4skb3qyTP"
   },
   "outputs": [],
   "source": [
    "# Parameters\n",
    "\n",
    "n = 10000\n",
    "loc = 0\n",
    "scale = 0.5"
   ]
  },
  {
   "cell_type": "code",
   "execution_count": 28,
   "metadata": {
    "id": "jTAecDzMqyTS"
   },
   "outputs": [],
   "source": [
    "# Normal distribution\n",
    "\n",
    "normal = tfd.Normal(loc=loc, scale=scale)"
   ]
  },
  {
   "cell_type": "code",
   "execution_count": 29,
   "metadata": {
    "colab": {
     "base_uri": "https://localhost:8080/"
    },
    "id": "MYxeM2L9qyTV",
    "outputId": "8035972a-c221-402f-f14c-bd69fcc42a57"
   },
   "outputs": [
    {
     "name": "stdout",
     "output_type": "stream",
     "text": [
      "batch shape:  ()\n",
      "event shape:  ()\n"
     ]
    }
   ],
   "source": [
    "# Display event and batch shape\n",
    "\n",
    "print('batch shape: ', normal.batch_shape)\n",
    "print('event shape: ', normal.event_shape)"
   ]
  },
  {
   "cell_type": "code",
   "execution_count": 30,
   "metadata": {
    "id": "FTnmDabyqyTW"
   },
   "outputs": [],
   "source": [
    "# Exponential bijector\n",
    "\n",
    "exp = tfb.Exp()"
   ]
  },
  {
   "cell_type": "code",
   "execution_count": 31,
   "metadata": {
    "colab": {
     "base_uri": "https://localhost:8080/"
    },
    "id": "bRUNwCsDqyTY",
    "outputId": "9b747cde-9708-483b-aeb8-9b95a08a7c5e"
   },
   "outputs": [
    {
     "name": "stdout",
     "output_type": "stream",
     "text": [
      "tfp.distributions.TransformedDistribution(\"expNormal\", batch_shape=[], event_shape=[], dtype=float32)\n",
      "tfp.distributions.TransformedDistribution(\"expNormal\", batch_shape=[], event_shape=[], dtype=float32)\n"
     ]
    }
   ],
   "source": [
    "# Log normal transformed distribution using exp and normal bijectors\n",
    "\n",
    "log_normal_td = exp(normal)\n",
    "print(log_normal_td)\n",
    "\n",
    "log_normal_td = tfd.TransformedDistribution(normal, exp)\n",
    "print(log_normal_td)"
   ]
  },
  {
   "cell_type": "code",
   "execution_count": 32,
   "metadata": {
    "id": "PuuSQJMxqyTf"
   },
   "outputs": [],
   "source": [
    "# Base distribution\n",
    "\n",
    "n = 10000\n",
    "\n",
    "z = normal.sample(n)"
   ]
  },
  {
   "cell_type": "markdown",
   "metadata": {
    "id": "fjaV0vv8qyTh"
   },
   "source": [
    "#### Plots"
   ]
  },
  {
   "cell_type": "code",
   "execution_count": 33,
   "metadata": {
    "colab": {
     "base_uri": "https://localhost:8080/",
     "height": 265
    },
    "id": "5vsevwMmqyTh",
    "outputId": "3f67cd10-053d-49b8-ff74-87759de677fe"
   },
   "outputs": [
    {
     "data": {
      "image/png": "[encoded data removed]",
      "text/plain": [
       "<Figure size 432x288 with 1 Axes>"
      ]
     },
     "metadata": {
      "needs_background": "light",
      "tags": []
     },
     "output_type": "display_data"
    }
   ],
   "source": [
    "# Plot z density\n",
    "\n",
    "plt.hist(z, bins=100, density=True)\n",
    "plt.show()"
   ]
  },
  {
   "cell_type": "code",
   "execution_count": 34,
   "metadata": {
    "id": "Upg79Mg5qyTj"
   },
   "outputs": [],
   "source": [
    "# Transformed distribution\n",
    "\n",
    "x = log_normal_td.sample(n)"
   ]
  },
  {
   "cell_type": "code",
   "execution_count": 35,
   "metadata": {
    "colab": {
     "base_uri": "https://localhost:8080/",
     "height": 265
    },
    "id": "GPbS_5vhqyTl",
    "outputId": "9a32d09e-fec8-4c68-ac6d-526a1aa7d977"
   },
   "outputs": [
    {
     "data": {
      "image/png": "[encoded data removed]",
      "text/plain": [
       "<Figure size 432x288 with 1 Axes>"
      ]
     },
     "metadata": {
      "needs_background": "light",
      "tags": []
     },
     "output_type": "display_data"
    }
   ],
   "source": [
    "# Plot x density\n",
    "\n",
    "plt.hist(x, bins=100, density=True)\n",
    "plt.show()"
   ]
  },
  {
   "cell_type": "code",
   "execution_count": 36,
   "metadata": {
    "id": "TIF-JCclqyTm"
   },
   "outputs": [],
   "source": [
    "# Define log normal distribution\n",
    "\n",
    "log_normal = tfd.LogNormal(loc=loc, scale=scale)"
   ]
  },
  {
   "cell_type": "code",
   "execution_count": 37,
   "metadata": {
    "id": "SphofY4BqyTp"
   },
   "outputs": [],
   "source": [
    "# Sample log_normal\n",
    "\n",
    "l = log_normal.sample(n)"
   ]
  },
  {
   "cell_type": "code",
   "execution_count": 38,
   "metadata": {
    "colab": {
     "base_uri": "https://localhost:8080/",
     "height": 265
    },
    "id": "QByGzaCxqyTs",
    "outputId": "20ddab08-e023-4f28-a4a4-20710f18dcfb"
   },
   "outputs": [
    {
     "data": {
      "image/png": "[encoded data removed]",
      "text/plain": [
       "<Figure size 432x288 with 1 Axes>"
      ]
     },
     "metadata": {
      "needs_background": "light",
      "tags": []
     },
     "output_type": "display_data"
    }
   ],
   "source": [
    "# Plot l density\n",
    "\n",
    "plt.hist(l, bins=100, density=True)\n",
    "plt.show()"
   ]
  },
  {
   "cell_type": "markdown",
   "metadata": {
    "id": "YYtqzyA-qyTt"
   },
   "source": [
    "#### Log probability"
   ]
  },
  {
   "cell_type": "code",
   "execution_count": 39,
   "metadata": {
    "id": "l9Frh0AIqyTu"
   },
   "outputs": [],
   "source": [
    "# Log prob of LogNormal\n",
    "\n",
    "log_prob = log_normal.log_prob(x)"
   ]
  },
  {
   "cell_type": "code",
   "execution_count": 40,
   "metadata": {
    "id": "K-xNVY4jqyTv"
   },
   "outputs": [],
   "source": [
    "# Log prob of log normal transformed distribution\n",
    "\n",
    "log_prob_td = log_normal_td.log_prob(x)"
   ]
  },
  {
   "cell_type": "code",
   "execution_count": 41,
   "metadata": {
    "colab": {
     "base_uri": "https://localhost:8080/"
    },
    "id": "JinGI17bqyTx",
    "outputId": "09a1a870-938e-42c6-dd9d-c2f28ea1876f"
   },
   "outputs": [
    {
     "data": {
      "text/plain": [
       "<tf.Tensor: shape=(), dtype=float32, numpy=6.8162835e-06>"
      ]
     },
     "execution_count": 41,
     "metadata": {
      "tags": []
     },
     "output_type": "execute_result"
    }
   ],
   "source": [
    "# Check log probs\n",
    "\n",
    "tf.norm(log_prob - log_prob_td)"
   ]
  },
  {
   "cell_type": "markdown",
   "metadata": {
    "id": "oEjWcd6KqyT0"
   },
   "source": [
    "### Event shape and batch shape"
   ]
  },
  {
   "cell_type": "code",
   "execution_count": 42,
   "metadata": {
    "id": "e2tQaELreX9g"
   },
   "outputs": [],
   "source": [
    "# Normal distribution\n",
    "\n",
    "loc = 0\n",
    "scale = 1.0\n",
    "\n",
    "normal = tfd.Normal(loc=loc, scale=scale)"
   ]
  },
  {
   "cell_type": "code",
   "execution_count": 43,
   "metadata": {
    "id": "YNPyJmH8qyT0"
   },
   "outputs": [],
   "source": [
    "# Set a scaling lower triangular matrix\n",
    "\n",
    "tril = tf.random.normal(shape=(2, 4, 4))\n",
    "scale_low_tril = tf.linalg.LinearOperatorLowerTriangular(tril)"
   ]
  },
  {
   "cell_type": "code",
   "execution_count": 44,
   "metadata": {
    "colab": {
     "base_uri": "https://localhost:8080/"
    },
    "id": "feEjq5cJqyT2",
    "outputId": "15d7d194-df19-43ce-fe2a-c6f7f9d763dc"
   },
   "outputs": [
    {
     "data": {
      "text/plain": [
       "<tf.Tensor: shape=(2, 4, 4), dtype=float32, numpy=\n",
       "array([[[ 0.4671917 ,  0.        ,  0.        ,  0.        ],\n",
       "        [-0.15255624, -0.82167655,  0.        ,  0.        ],\n",
       "        [ 0.54505086, -0.31831515, -0.9261054 ,  0.        ],\n",
       "        [ 1.2315443 , -0.7372966 ,  0.05808139,  1.2473693 ]],\n",
       "\n",
       "       [[ 0.97027045,  0.        ,  0.        ,  0.        ],\n",
       "        [ 1.617595  , -0.29045057,  0.        ,  0.        ],\n",
       "        [-0.16280901, -1.2813172 , -0.56861144,  0.        ],\n",
       "        [-0.611855  ,  1.1186087 ,  0.44087824,  0.21374984]]],\n",
       "      dtype=float32)>"
      ]
     },
     "execution_count": 44,
     "metadata": {
      "tags": []
     },
     "output_type": "execute_result"
    }
   ],
   "source": [
    "# View of scale_low_tri\n",
    "\n",
    "scale_low_tril.to_dense()"
   ]
  },
  {
   "cell_type": "code",
   "execution_count": 45,
   "metadata": {
    "id": "0Hql45GcqyT6"
   },
   "outputs": [],
   "source": [
    "# Define scale linear operator\n",
    "\n",
    "scale_lin_op = tfb.ScaleMatvecLinearOperator(scale_low_tril)"
   ]
  },
  {
   "cell_type": "code",
   "execution_count": 46,
   "metadata": {
    "colab": {
     "base_uri": "https://localhost:8080/"
    },
    "id": "ph0lmqLIqyT7",
    "outputId": "cf68f20b-7e10-4bb2-e029-b8a99e558df9"
   },
   "outputs": [
    {
     "data": {
      "text/plain": [
       "<tfp.distributions.TransformedDistribution 'scale_matvec_linear_operatorNormal' batch_shape=[2] event_shape=[4] dtype=float32>"
      ]
     },
     "execution_count": 46,
     "metadata": {
      "tags": []
     },
     "output_type": "execute_result"
    }
   ],
   "source": [
    "# Define scale linear operator transformed distribution with a batch and event shape\n",
    "\n",
    "mvn = tfd.TransformedDistribution(normal, scale_lin_op, batch_shape=[2], event_shape=[4])\n",
    "mvn"
   ]
  },
  {
   "cell_type": "code",
   "execution_count": 47,
   "metadata": {
    "colab": {
     "base_uri": "https://localhost:8080/"
    },
    "id": "fBojWcgzqyT-",
    "outputId": "455da258-efe5-42f4-c193-dff5c02c26fd"
   },
   "outputs": [
    {
     "name": "stdout",
     "output_type": "stream",
     "text": [
      "Batch Shape: (2,)\n",
      "Event Shape: (4,)\n"
     ]
    }
   ],
   "source": [
    "# Display event and batch shape\n",
    "\n",
    "print(\"Batch Shape:\", mvn.batch_shape)\n",
    "print(\"Event Shape:\", mvn.event_shape)"
   ]
  },
  {
   "cell_type": "code",
   "execution_count": 48,
   "metadata": {
    "colab": {
     "base_uri": "https://localhost:8080/"
    },
    "id": "UclD1H7AqyUA",
    "outputId": "43498107-2dff-45ba-c5f5-e3868b02015b"
   },
   "outputs": [
    {
     "data": {
      "text/plain": [
       "TensorShape([10000, 2, 4])"
      ]
     },
     "execution_count": 48,
     "metadata": {
      "tags": []
     },
     "output_type": "execute_result"
    }
   ],
   "source": [
    "# Sample\n",
    "\n",
    "yl = mvn.sample((n,))\n",
    "yl.shape"
   ]
  },
  {
   "cell_type": "code",
   "execution_count": 49,
   "metadata": {
    "colab": {
     "base_uri": "https://localhost:8080/"
    },
    "id": "yTYmhzYzqyUC",
    "outputId": "66b9e6da-f2b7-4b7e-88a8-17d7ac49bf63"
   },
   "outputs": [
    {
     "data": {
      "text/plain": [
       "<tfp.distributions.MultivariateNormalLinearOperator 'MultivariateNormalLinearOperator' batch_shape=[2] event_shape=[4] dtype=float32>"
      ]
     },
     "execution_count": 49,
     "metadata": {
      "tags": []
     },
     "output_type": "execute_result"
    }
   ],
   "source": [
    "# Define a MultivariateNormalLinearOperator distribution\n",
    "\n",
    "mvn2 = tfd.MultivariateNormalLinearOperator(loc=0, scale=scale_low_tril)\n",
    "mvn2"
   ]
  },
  {
   "cell_type": "code",
   "execution_count": 50,
   "metadata": {
    "colab": {
     "base_uri": "https://localhost:8080/"
    },
    "id": "tlpVFOG1qyUE",
    "outputId": "2dd119a7-eaae-467b-ad5c-b4719cf83e59"
   },
   "outputs": [
    {
     "name": "stdout",
     "output_type": "stream",
     "text": [
      "Batch Shape: (2,)\n",
      "Event Shape: (4,)\n"
     ]
    }
   ],
   "source": [
    "# Display event and batch shape\n",
    "\n",
    "print(\"Batch Shape:\", mvn2.batch_shape)\n",
    "print(\"Event Shape:\", mvn2.event_shape)"
   ]
  },
  {
   "cell_type": "code",
   "execution_count": 51,
   "metadata": {
    "colab": {
     "base_uri": "https://localhost:8080/"
    },
    "id": "ApRuznulqyUF",
    "outputId": "8cfe3a9b-5678-4b78-ea7e-67d8759989be"
   },
   "outputs": [
    {
     "data": {
      "text/plain": [
       "TensorShape([10000, 2, 4])"
      ]
     },
     "execution_count": 51,
     "metadata": {
      "tags": []
     },
     "output_type": "execute_result"
    }
   ],
   "source": [
    "# Sample\n",
    "\n",
    "y2 = mvn2.sample((n,))\n",
    "y2.shape"
   ]
  },
  {
   "cell_type": "code",
   "execution_count": 52,
   "metadata": {
    "colab": {
     "base_uri": "https://localhost:8080/"
    },
    "id": "LeGt0xwGqyUJ",
    "outputId": "4a88db4e-4283-4dcc-d573-5bc3593e93dc"
   },
   "outputs": [
    {
     "data": {
      "text/plain": [
       "<tf.Tensor: shape=(), dtype=float32, numpy=0.0>"
      ]
     },
     "execution_count": 52,
     "metadata": {
      "tags": []
     },
     "output_type": "execute_result"
    }
   ],
   "source": [
    "# Check\n",
    "\n",
    "xn = normal.sample((n, 2, 4))\n",
    "tf.norm(mvn.log_prob(xn) - mvn2.log_prob(xn))/tf.norm(mvn.log_prob(xn))"
   ]
  },
  {
   "cell_type": "markdown",
   "metadata": {
    "id": "FShWrkqaqyUN"
   },
   "source": [
    "***\n",
    "<a id=\"coding_tutorial_3\"></a>\n",
    "## Subclassing bijectors"
   ]
  },
  {
   "cell_type": "code",
   "execution_count": 53,
   "metadata": {
    "id": "mfApknEiqyUN"
   },
   "outputs": [],
   "source": [
    "# Define a new bijector: Cubic\n",
    "\n",
    "class Cubic(tfb.Bijector):\n",
    "\n",
    "    def __init__(self, a, b, validate_args=False, name='Cubic'):\n",
    "        self.a = tf.cast(a, tf.float32)\n",
    "        self.b = tf.cast(b, tf.float32)\n",
    "        if validate_args:\n",
    "            assert tf.reduce_mean(tf.cast(tf.math.greater_equal(tf.abs(self.a), 1e-5), tf.float32)) == 1.0\n",
    "            assert tf.reduce_mean(tf.cast(tf.math.greater_equal(tf.abs(self.b), 1e-5), tf.float32)) == 1.0\n",
    "        super(Cubic, self).__init__(\n",
    "            validate_args=validate_args, forward_min_event_ndims=0, name=name)\n",
    "\n",
    "    def _forward(self, x):\n",
    "        x = tf.cast(x, tf.float32)\n",
    "        return tf.squeeze(tf.pow(self.a*x + self.b, 3))\n",
    "\n",
    "    def _inverse(self, y):\n",
    "        y = tf.cast(y, tf.float32)\n",
    "        return (tf.math.sign(y) * tf.pow(tf.abs(y), 1/3) - self.b)/self.a\n",
    "\n",
    "    def _forward_log_det_jacobian(self, x):\n",
    "        x = tf.cast(x, tf.float32)\n",
    "        return tf.math.log(3 * tf.abs(self.a)) + 2*tf.math.log(tf.abs(self.a * x + self.b))"
   ]
  },
  {
   "cell_type": "code",
   "execution_count": 54,
   "metadata": {
    "id": "61v6_UadqyUO"
   },
   "outputs": [],
   "source": [
    "# Cubic bijector\n",
    "\n",
    "cubic = Cubic(a=[1.0, -2.0], b=[-1.0, 0.4], validate_args=True)"
   ]
  },
  {
   "cell_type": "code",
   "execution_count": 55,
   "metadata": {
    "id": "dP0KVSPAqyUQ"
   },
   "outputs": [],
   "source": [
    "# Apply forward transformation\n",
    "\n",
    "x = tf.random.uniform((10000, 2), -100, 100)\n",
    "\n",
    "y = cubic.forward(x)"
   ]
  },
  {
   "cell_type": "code",
   "execution_count": 56,
   "metadata": {
    "colab": {
     "base_uri": "https://localhost:8080/"
    },
    "id": "-JOM7vN5qyUR",
    "outputId": "1a97faec-0ede-4972-c11a-bc85824bbced"
   },
   "outputs": [
    {
     "data": {
      "text/plain": [
       "<tf.Tensor: shape=(), dtype=float32, numpy=0.0>"
      ]
     },
     "execution_count": 56,
     "metadata": {
      "tags": []
     },
     "output_type": "execute_result"
    }
   ],
   "source": [
    "# Check inverse\n",
    "\n",
    "tf.norm(x - cubic.inverse(y))"
   ]
  },
  {
   "cell_type": "markdown",
   "metadata": {
    "id": "q6Fm70pBqyUU"
   },
   "source": [
    "#### Function plots"
   ]
  },
  {
   "cell_type": "code",
   "execution_count": 57,
   "metadata": {
    "colab": {
     "base_uri": "https://localhost:8080/",
     "height": 265
    },
    "id": "qacTwL10qyUV",
    "outputId": "87303a9d-416e-43f0-837a-78addc196793"
   },
   "outputs": [
    {
     "data": {
      "image/png": "[encoded data removed]",
      "text/plain": [
       "<Figure size 432x288 with 1 Axes>"
      ]
     },
     "metadata": {
      "needs_background": "light",
      "tags": []
     },
     "output_type": "display_data"
    }
   ],
   "source": [
    "# Plot the forward transformation\n",
    "\n",
    "x = np.linspace(-10, 10, 500).reshape(-1, 1)\n",
    "\n",
    "plt.plot(x, x*0, \"black\")\n",
    "plt.plot(x, cubic.forward(x))\n",
    "plt.show()"
   ]
  },
  {
   "cell_type": "code",
   "execution_count": 58,
   "metadata": {
    "colab": {
     "base_uri": "https://localhost:8080/"
    },
    "id": "DflIQl4zqyUW",
    "outputId": "69d6e905-729c-44bd-a848-ad13f94512d1"
   },
   "outputs": [
    {
     "data": {
      "text/plain": [
       "TensorShape([500, 2])"
      ]
     },
     "execution_count": 58,
     "metadata": {
      "tags": []
     },
     "output_type": "execute_result"
    }
   ],
   "source": [
    "# Display shape\n",
    "\n",
    "cubic.forward(x).shape"
   ]
  },
  {
   "cell_type": "code",
   "execution_count": 59,
   "metadata": {
    "colab": {
     "base_uri": "https://localhost:8080/",
     "height": 265
    },
    "id": "uAwqKnCfqyUZ",
    "outputId": "16fff397-e655-40a9-af27-4c3b1b6155c1"
   },
   "outputs": [
    {
     "data": {
      "image/png": "[encoded data removed]",
      "text/plain": [
       "<Figure size 432x288 with 1 Axes>"
      ]
     },
     "metadata": {
      "needs_background": "light",
      "tags": []
     },
     "output_type": "display_data"
    }
   ],
   "source": [
    "# Plot the inverse\n",
    "\n",
    "plt.plot(x, x*0, \"black\")\n",
    "plt.plot(x*0, x, \"black\")\n",
    "plt.plot(x, cubic.inverse(x))\n",
    "plt.show()"
   ]
  },
  {
   "cell_type": "code",
   "execution_count": 60,
   "metadata": {
    "colab": {
     "base_uri": "https://localhost:8080/",
     "height": 265
    },
    "id": "-GEn9ID8qyUb",
    "outputId": "8f380a07-ca05-4fea-89b4-1795c8168402"
   },
   "outputs": [
    {
     "data": {
      "image/png": "[encoded data removed]",
      "text/plain": [
       "<Figure size 432x288 with 1 Axes>"
      ]
     },
     "metadata": {
      "needs_background": "light",
      "tags": []
     },
     "output_type": "display_data"
    }
   ],
   "source": [
    "# Plot the forward log Jacobian determinant\n",
    "\n",
    "plt.plot(x, x*0, \"black\")\n",
    "plt.plot(x*0, x, \"black\")\n",
    "plt.plot(x, cubic.forward_log_det_jacobian(x, event_ndims=0))\n",
    "plt.show()"
   ]
  },
  {
   "cell_type": "code",
   "execution_count": 61,
   "metadata": {
    "colab": {
     "base_uri": "https://localhost:8080/",
     "height": 265
    },
    "id": "OjCMa4EUqyUd",
    "outputId": "561f3e53-6bab-4b09-d05d-8cabab01930f"
   },
   "outputs": [
    {
     "data": {
      "image/png": "[encoded data removed]",
      "text/plain": [
       "<Figure size 432x288 with 1 Axes>"
      ]
     },
     "metadata": {
      "needs_background": "light",
      "tags": []
     },
     "output_type": "display_data"
    }
   ],
   "source": [
    "# Plot the inverse log Jacobian determinant\n",
    "\n",
    "plt.plot(x, x*0, \"black\")\n",
    "plt.plot(x*0, x, \"black\")\n",
    "plt.plot(x, cubic.inverse_log_det_jacobian(x, event_ndims=0))\n",
    "plt.show()"
   ]
  },
  {
   "cell_type": "markdown",
   "metadata": {
    "id": "fw7wNX9hqyUf"
   },
   "source": [
    "#### TransformedDistribution and plots"
   ]
  },
  {
   "cell_type": "code",
   "execution_count": 62,
   "metadata": {
    "id": "FmdHPhMGqyUf"
   },
   "outputs": [],
   "source": [
    "# Create a transformed distribution with Cubic\n",
    "\n",
    "normal = tfd.Normal(loc=0, scale=2.0)\n",
    "\n",
    "cubed_normal = tfd.TransformedDistribution(normal, cubic, event_shape=[2])"
   ]
  },
  {
   "cell_type": "code",
   "execution_count": 63,
   "metadata": {
    "id": "vogUAeM4qyUg"
   },
   "outputs": [],
   "source": [
    "# Sample cubed_normal\n",
    "\n",
    "g = cubed_normal.sample(10000)"
   ]
  },
  {
   "cell_type": "code",
   "execution_count": 64,
   "metadata": {
    "colab": {
     "base_uri": "https://localhost:8080/",
     "height": 265
    },
    "id": "_z33eU-iqyUi",
    "outputId": "5cf850b1-d74c-4c23-90d1-ac14c2f79974"
   },
   "outputs": [
    {
     "data": {
      "image/png": "[encoded data removed]",
      "text/plain": [
       "<Figure size 864x288 with 2 Axes>"
      ]
     },
     "metadata": {
      "needs_background": "light",
      "tags": []
     },
     "output_type": "display_data"
    }
   ],
   "source": [
    "# Plot histograms\n",
    "\n",
    "plt.figure(figsize=(12, 4))\n",
    "plt.subplot(1, 2, 1)\n",
    "plt.hist(g[..., 0], bins=50, density=True)\n",
    "plt.subplot(1, 2, 2)\n",
    "plt.hist(g[..., 1], bins=50, density=True)\n",
    "plt.show()"
   ]
  },
  {
   "cell_type": "code",
   "execution_count": 65,
   "metadata": {
    "colab": {
     "base_uri": "https://localhost:8080/",
     "height": 295
    },
    "id": "RlnwzvOxqyUj",
    "outputId": "cfb1803b-c001-40da-a508-f8aa924c357d"
   },
   "outputs": [
    {
     "data": {
      "image/png": "[encoded data removed]",
      "text/plain": [
       "<Figure size 432x288 with 2 Axes>"
      ]
     },
     "metadata": {
      "needs_background": "light",
      "tags": []
     },
     "output_type": "display_data"
    }
   ],
   "source": [
    "# Make contour plot\n",
    "\n",
    "xx = np.linspace(-0.5, 0.5, 100)\n",
    "yy = np.linspace(-0.5, 0.5, 100)\n",
    "X, Y = np.meshgrid(xx, yy)\n",
    "\n",
    "fig,ax=plt.subplots(1,1)\n",
    "Z = cubed_normal.prob(np.dstack((X, Y)))\n",
    "cp = ax.contourf(X, Y, Z)\n",
    "fig.colorbar(cp) # Add a colorbar to a plot\n",
    "ax.set_title('Filled Contours Plot')\n",
    "ax.set_xlabel('x')\n",
    "ax.set_ylabel('y')\n",
    "plt.show()"
   ]
  },
  {
   "cell_type": "code",
   "execution_count": 66,
   "metadata": {
    "id": "ehElEd0FqyUl"
   },
   "outputs": [],
   "source": [
    "# Create a transformed distribution with the inverse of Cube\n",
    "\n",
    "inverse_cubic = tfb.Invert(cubic)\n",
    "inv_cubed_normal = tfd.TransformedDistribution(normal, inverse_cubic, event_shape=[2])"
   ]
  },
  {
   "cell_type": "code",
   "execution_count": 67,
   "metadata": {
    "id": "6KYCX9P1qyUm"
   },
   "outputs": [],
   "source": [
    "# Samble inv_cubed_normal\n",
    "\n",
    "g = inv_cubed_normal.sample(10000)"
   ]
  },
  {
   "cell_type": "code",
   "execution_count": 68,
   "metadata": {
    "colab": {
     "base_uri": "https://localhost:8080/",
     "height": 295
    },
    "id": "t49rULQ_qyUn",
    "outputId": "ecc4e4ca-8640-4629-c512-388c1ca38ef6"
   },
   "outputs": [
    {
     "data": {
      "image/png": "[encoded data removed]",
      "text/plain": [
       "<Figure size 432x288 with 2 Axes>"
      ]
     },
     "metadata": {
      "needs_background": "light",
      "tags": []
     },
     "output_type": "display_data"
    }
   ],
   "source": [
    "# Make contour plot\n",
    "\n",
    "xx = np.linspace(-3.0, 3.0, 100)\n",
    "yy = np.linspace(-2.0, 2.0, 100)\n",
    "X, Y = np.meshgrid(xx, yy)\n",
    "\n",
    "fig,ax=plt.subplots(1,1)\n",
    "Z = inv_cubed_normal.prob(np.dstack((X, Y)))\n",
    "cp = ax.contourf(X, Y, Z)\n",
    "fig.colorbar(cp) # Add a colorbar to a plot\n",
    "ax.set_title('Filled Contours Plot')\n",
    "ax.set_xlabel('x')\n",
    "ax.set_ylabel('y')\n",
    "plt.show()"
   ]
  },
  {
   "cell_type": "code",
   "execution_count": 69,
   "metadata": {
    "colab": {
     "base_uri": "https://localhost:8080/",
     "height": 265
    },
    "id": "fTyvYmUHqyUp",
    "outputId": "e04246f5-f5a9-4443-e516-0cf5f4490532"
   },
   "outputs": [
    {
     "data": {
      "image/png": "[encoded data removed]",
      "text/plain": [
       "<Figure size 864x288 with 2 Axes>"
      ]
     },
     "metadata": {
      "needs_background": "light",
      "tags": []
     },
     "output_type": "display_data"
    }
   ],
   "source": [
    "# Plot histograms\n",
    "\n",
    "plt.figure(figsize=(12, 4))\n",
    "plt.subplot(1, 2, 1)\n",
    "plt.hist(g[..., 0], bins=50, density=True)\n",
    "plt.subplot(1, 2, 2)\n",
    "plt.hist(g[..., 1], bins=50, density=True)\n",
    "plt.show()"
   ]
  },
  {
   "cell_type": "markdown",
   "metadata": {
    "id": "fHx5KxujqyUq"
   },
   "source": [
    "#### Training the bijector"
   ]
  },
  {
   "cell_type": "code",
   "execution_count": 70,
   "metadata": {
    "id": "J7VvHu5CqyUs"
   },
   "outputs": [],
   "source": [
    "# Create a mixture of four Gaussians\n",
    "\n",
    "probs = [0.45, 0.55]\n",
    "\n",
    "mix_gauss = tfd.Mixture(cat=tfd.Categorical(probs=probs), \n",
    "                        components = [\n",
    "                                      tfd.Normal(loc=2.3, scale=0.4),\n",
    "                                      tfd.Normal(loc=-0.8, scale=0.4)\n",
    "                        ])"
   ]
  },
  {
   "cell_type": "code",
   "execution_count": 71,
   "metadata": {
    "colab": {
     "base_uri": "https://localhost:8080/"
    },
    "id": "nmqyyHeTqyUt",
    "outputId": "7894814a-4710-49be-98b9-4f36b25cbf2a"
   },
   "outputs": [
    {
     "name": "stdout",
     "output_type": "stream",
     "text": [
      "TensorSpec(shape=(None,), dtype=tf.float32, name=None)\n",
      "TensorSpec(shape=(None,), dtype=tf.float32, name=None)\n",
      "tf.Tensor(79, shape=(), dtype=int64)\n",
      "tf.Tensor(8, shape=(), dtype=int64)\n"
     ]
    }
   ],
   "source": [
    "# Create the dataset\n",
    "\n",
    "x_train = mix_gauss.sample(10000)\n",
    "x_train = tf.data.Dataset.from_tensor_slices(x_train)\n",
    "x_train = x_train.batch(128)\n",
    "\n",
    "x_valid = mix_gauss.sample(1000)\n",
    "x_valid = tf.data.Dataset.from_tensor_slices(x_valid)\n",
    "x_valid = x_valid.batch(128)\n",
    "\n",
    "print(x_train.element_spec)\n",
    "print(x_valid.element_spec)\n",
    "\n",
    "print(tf.data.experimental.cardinality(x_train))\n",
    "print(tf.data.experimental.cardinality(x_valid))"
   ]
  },
  {
   "cell_type": "code",
   "execution_count": 72,
   "metadata": {
    "colab": {
     "base_uri": "https://localhost:8080/",
     "height": 281
    },
    "id": "JMno9UzMqyUu",
    "outputId": "3bd3776c-20d6-4802-86f3-cf66b528c8f3"
   },
   "outputs": [
    {
     "data": {
      "image/png": "[encoded data removed]",
      "text/plain": [
       "<Figure size 432x288 with 1 Axes>"
      ]
     },
     "metadata": {
      "needs_background": "light",
      "tags": []
     },
     "output_type": "display_data"
    }
   ],
   "source": [
    "# Plot the data distribution\n",
    "\n",
    "x = np.linspace(-5, 5, 100)\n",
    "\n",
    "plt.plot(x, mix_gauss.prob(x))\n",
    "plt.title(\"Data Distribution\")\n",
    "plt.show()"
   ]
  },
  {
   "cell_type": "code",
   "execution_count": 73,
   "metadata": {
    "colab": {
     "base_uri": "https://localhost:8080/"
    },
    "id": "4LH4I4KVqyUw",
    "outputId": "d14988d6-3176-4616-b7aa-6736657603af"
   },
   "outputs": [
    {
     "data": {
      "text/plain": [
       "(<tf.Variable 'Variable:0' shape=() dtype=float32, numpy=0.25>,\n",
       " <tf.Variable 'Variable:0' shape=() dtype=float32, numpy=0.1>)"
      ]
     },
     "execution_count": 73,
     "metadata": {
      "tags": []
     },
     "output_type": "execute_result"
    }
   ],
   "source": [
    "# Make a trainable bijector\n",
    "\n",
    "trainable_inv_cubic = tfb.Invert(Cubic(tf.Variable(0.25, dtype=tf.float32), tf.Variable(0.1, dtype=tf.float32)))\n",
    "trainable_inv_cubic.trainable_variables"
   ]
  },
  {
   "cell_type": "code",
   "execution_count": 74,
   "metadata": {
    "id": "WG6crdTvqyUx"
   },
   "outputs": [],
   "source": [
    "# Make a trainable transformed distribution\n",
    "\n",
    "trainable_dist = tfd.TransformedDistribution(normal, trainable_inv_cubic)"
   ]
  },
  {
   "cell_type": "code",
   "execution_count": 75,
   "metadata": {
    "colab": {
     "base_uri": "https://localhost:8080/",
     "height": 336
    },
    "id": "Hr6-oaz8qyUy",
    "outputId": "b7ba975c-7219-4071-8c3e-ff77ad6bc8a5"
   },
   "outputs": [
    {
     "data": {
      "image/png": "[encoded data removed]",
      "text/plain": [
       "<Figure size 1152x360 with 1 Axes>"
      ]
     },
     "metadata": {
      "needs_background": "light",
      "tags": []
     },
     "output_type": "display_data"
    }
   ],
   "source": [
    "# Plot the data and learned distributions\n",
    "\n",
    "x = np.linspace(-5, 5, 100)\n",
    "\n",
    "plt.figure(figsize=(16, 5))\n",
    "plt.plot(x, mix_gauss.prob(x), label=\"data\")\n",
    "plt.plot(x, trainable_dist.prob(x), label=\"trainable\")\n",
    "plt.title(\"Data and Trained Distribution\")\n",
    "plt.legend()\n",
    "\n",
    "plt.show()"
   ]
  },
  {
   "cell_type": "code",
   "execution_count": 76,
   "metadata": {
    "colab": {
     "base_uri": "https://localhost:8080/"
    },
    "id": "zdxDCN9aqyU0",
    "outputId": "55bfb3cf-5b8c-43a1-95be-5b295f8edf4e"
   },
   "outputs": [
    {
     "name": "stdout",
     "output_type": "stream",
     "text": [
      "Epoch: 000\tLoss: 6.546390533447\n",
      "Epoch: 001\tLoss: 0.949966192245\n",
      "Epoch: 002\tLoss: 0.955630421638\n",
      "Epoch: 003\tLoss: 0.979508638382\n",
      "Epoch: 004\tLoss: 0.996122002602\n",
      "Epoch: 005\tLoss: 1.001795172691\n",
      "Epoch: 006\tLoss: 1.001498579979\n",
      "Epoch: 007\tLoss: 1.000610828400\n",
      "Epoch: 008\tLoss: 1.001842498779\n",
      "Epoch: 009\tLoss: 1.005323886871\n",
      "Epoch: 010\tLoss: 1.010428547859\n",
      "Epoch: 011\tLoss: 1.018343567848\n",
      "Epoch: 012\tLoss: 1.029785513878\n",
      "Epoch: 013\tLoss: 1.037849187851\n",
      "Epoch: 014\tLoss: 1.037697553635\n",
      "Epoch: 015\tLoss: 1.029961109161\n",
      "Epoch: 016\tLoss: 1.021343231201\n",
      "Epoch: 017\tLoss: 1.011975765228\n",
      "Epoch: 018\tLoss: 1.005620002747\n",
      "Epoch: 019\tLoss: 1.061805367470\n"
     ]
    }
   ],
   "source": [
    "# Train the bijector\n",
    "\n",
    "num_epochs = 20\n",
    "opt = tf.keras.optimizers.Adam(learning_rate=0.5)\n",
    "train_losses = []\n",
    "valid_losses = []\n",
    "\n",
    "for epoch in range(num_epochs):\n",
    "    train_loss = tf.keras.metrics.Mean()\n",
    "    val_loss = tf.keras.metrics.Mean()\n",
    "    for train_batch in x_train:\n",
    "        with tf.GradientTape() as tape:\n",
    "            tape.watch(trainable_inv_cubic.trainable_variables)\n",
    "            loss = -trainable_dist.log_prob(train_batch)\n",
    "        train_loss(loss)\n",
    "        grads = tape.gradient(loss, trainable_inv_cubic.trainable_variables)\n",
    "        opt.apply_gradients(zip(grads, trainable_inv_cubic.trainable_variables))\n",
    "    print(\"Epoch: {:03d}\\tLoss: {:0.12f}\".format(epoch, tf.reduce_mean(loss)))\n",
    "    train_losses.append(train_loss.result().numpy())\n",
    "        \n",
    "    # Validation\n",
    "    for valid_batch in x_valid:\n",
    "        loss = -trainable_dist.log_prob(valid_batch)\n",
    "        val_loss(loss)\n",
    "    valid_losses.append(val_loss.result().numpy())"
   ]
  },
  {
   "cell_type": "code",
   "execution_count": 77,
   "metadata": {
    "colab": {
     "base_uri": "https://localhost:8080/",
     "height": 295
    },
    "id": "n-90MDohqyU1",
    "outputId": "189574bb-dd97-4dec-d3d9-243caf3b2c4c"
   },
   "outputs": [
    {
     "data": {
      "image/png": "[encoded data removed]",
      "text/plain": [
       "<Figure size 432x288 with 1 Axes>"
      ]
     },
     "metadata": {
      "needs_background": "light",
      "tags": []
     },
     "output_type": "display_data"
    }
   ],
   "source": [
    "# Plot the learning curves\n",
    "\n",
    "plt.plot(train_losses, label='train')\n",
    "plt.plot(valid_losses, label='valid')\n",
    "plt.legend()\n",
    "plt.xlabel(\"Epochs\")\n",
    "plt.ylabel(\"Negative log likelihood\")\n",
    "plt.title(\"Training and validation loss curves\")\n",
    "plt.show()"
   ]
  },
  {
   "cell_type": "code",
   "execution_count": 78,
   "metadata": {
    "colab": {
     "base_uri": "https://localhost:8080/",
     "height": 336
    },
    "id": "wZF_T5-aqyU3",
    "outputId": "b7c96426-6606-4a58-dc7b-3e471cdf3640"
   },
   "outputs": [
    {
     "data": {
      "image/png": "[encoded data removed]",
      "text/plain": [
       "<Figure size 1152x360 with 1 Axes>"
      ]
     },
     "metadata": {
      "needs_background": "light",
      "tags": []
     },
     "output_type": "display_data"
    }
   ],
   "source": [
    "# Plot the data and learned distributions\n",
    "\n",
    "x = np.linspace(-5, 5, 100)\n",
    "\n",
    "plt.figure(figsize=(16, 5))\n",
    "plt.plot(x, mix_gauss.prob(x), label=\"data\")\n",
    "plt.plot(x, trainable_dist.prob(x), label=\"trainable\")\n",
    "plt.title(\"Data and Trained Distribution\")\n",
    "plt.legend()\n",
    "\n",
    "plt.show()"
   ]
  },
  {
   "cell_type": "code",
   "execution_count": 79,
   "metadata": {
    "colab": {
     "base_uri": "https://localhost:8080/"
    },
    "id": "W498x2lrqyU4",
    "outputId": "509b8c6a-4714-405b-c897-acddc922ceca"
   },
   "outputs": [
    {
     "data": {
      "text/plain": [
       "(<tf.Variable 'Variable:0' shape=() dtype=float32, numpy=-0.7351061>,\n",
       " <tf.Variable 'Variable:0' shape=() dtype=float32, numpy=0.47703657>)"
      ]
     },
     "execution_count": 79,
     "metadata": {
      "tags": []
     },
     "output_type": "execute_result"
    }
   ],
   "source": [
    "# Display trainable variables\n",
    "\n",
    "trainable_dist.trainable_variables"
   ]
  },
  {
   "cell_type": "markdown",
   "metadata": {
    "id": "_ggueBWOqyU5"
   },
   "source": [
    "***\n",
    "<a id=\"coding_tutorial_4\"></a>\n",
    "## Normalising flows"
   ]
  },
  {
   "cell_type": "code",
   "execution_count": null,
   "metadata": {
    "id": "lf4w-RPtqyU7"
   },
   "outputs": [],
   "source": [
    "# Load dataset\n",
    "\n",
    "from sklearn import datasets\n",
    "from sklearn.preprocessing import StandardScaler\n",
    "n_samples = 1000\n",
    "noisy_moons = datasets.make_moons(n_samples=n_samples, noise=.05)\n",
    "X, y = noisy_moons\n",
    "X_data = StandardScaler().fit_transform(X)\n",
    "xlim, ylim = [-2, 2], [-2, 2]"
   ]
  },
  {
   "cell_type": "code",
   "execution_count": null,
   "metadata": {
    "id": "EoSWeEBLqyU8"
   },
   "outputs": [],
   "source": [
    "# Plot with labels\n",
    "\n",
    "y_label = y.astype(np.bool)\n",
    "X_train, Y_train = X_data[..., 0], X_data[..., 1]\n",
    "plt.scatter(X_train[y_label], Y_train[y_label], s=10, color='blue')\n",
    "plt.scatter(X_train[y_label == False], Y_train[y_label == False], s=10, color='red')\n",
    "plt.legend(['label: 1', 'label: 0'])\n",
    "plt.xlim(xlim)\n",
    "plt.ylim(ylim)"
   ]
  },
  {
   "cell_type": "code",
   "execution_count": null,
   "metadata": {
    "id": "1S5R9vFsqyU-"
   },
   "outputs": [],
   "source": [
    "# Define base distribution\n",
    "\n"
   ]
  },
  {
   "cell_type": "code",
   "execution_count": null,
   "metadata": {
    "id": "yukChitnqyVA"
   },
   "outputs": [],
   "source": [
    "# Define the trainable distribution\n",
    "\n"
   ]
  },
  {
   "cell_type": "code",
   "execution_count": null,
   "metadata": {
    "id": "HNuYzlWfqyVC"
   },
   "outputs": [],
   "source": [
    "from mpl_toolkits.axes_grid1 import make_axes_locatable\n",
    "from tensorflow.compat.v1 import logging\n",
    "logging.set_verbosity(logging.ERROR)"
   ]
  },
  {
   "cell_type": "code",
   "execution_count": null,
   "metadata": {
    "id": "0H9N-DsPqyVD"
   },
   "outputs": [],
   "source": [
    "# Define a plot contour routine\n",
    "\n",
    "def plot_contour_prob(dist, rows=1, title=[''], scale_fig=4):\n",
    "    cols = int(len(dist) / rows)\n",
    "    xx = np.linspace(-5.0, 5.0, 100)\n",
    "    yy = np.linspace(-5.0, 5.0, 100)\n",
    "    X, Y = np.meshgrid(xx, yy)\n",
    "\n",
    "    fig, ax = plt.subplots(rows, cols, figsize=(scale_fig * cols, scale_fig * rows))\n",
    "    fig.tight_layout(pad=4.5)\n",
    "\n",
    "    i = 0\n",
    "    for r in range(rows):\n",
    "        for c in range(cols):\n",
    "            Z = dist[i].prob(np.dstack((X, Y)))\n",
    "            if len(dist) == 1:\n",
    "                axi = ax\n",
    "            elif rows == 1:\n",
    "                axi = ax[c]\n",
    "            else:\n",
    "                axi = ax[r, c]\n",
    "\n",
    "            # Plot contour\n",
    "            p = axi.contourf(X, Y, Z)\n",
    "\n",
    "            # Add a colorbar\n",
    "            divider = make_axes_locatable(axi)\n",
    "            cax = divider.append_axes(\"right\", size=\"5%\", pad=0.1)\n",
    "            cbar = fig.colorbar(p, cax=cax)\n",
    "\n",
    "            # Set title and labels\n",
    "            axi.set_title('Filled Contours Plot: ' + str(title[i]))\n",
    "            axi.set_xlabel('x')\n",
    "            axi.set_ylabel('y')\n",
    "\n",
    "            i += 1\n",
    "    plt.show()"
   ]
  },
  {
   "cell_type": "code",
   "execution_count": null,
   "metadata": {
    "id": "44oF42rqqyVE"
   },
   "outputs": [],
   "source": [
    "# Plot contour\n",
    "\n"
   ]
  },
  {
   "cell_type": "code",
   "execution_count": null,
   "metadata": {
    "id": "72Wq79I-qyVH"
   },
   "outputs": [],
   "source": [
    "from tensorflow.keras.layers import Input\n",
    "from tensorflow.keras import Model"
   ]
  },
  {
   "cell_type": "code",
   "execution_count": null,
   "metadata": {
    "id": "OcDJOfGvqyVI"
   },
   "outputs": [],
   "source": [
    "# Make samples\n",
    "\n"
   ]
  },
  {
   "cell_type": "code",
   "execution_count": null,
   "metadata": {
    "id": "OGIJqluXqyVK"
   },
   "outputs": [],
   "source": [
    "# Define a scatter plot routine for the bijectors\n",
    "\n",
    "def _plot(results, rows=1, legend=False):\n",
    "    cols = int(len(results) / rows)\n",
    "    f, arr = plt.subplots(rows, cols, figsize=(4 * cols, 4 * rows))\n",
    "    i = 0\n",
    "    for r in range(rows):\n",
    "        for c in range(cols):\n",
    "            res = results[i]\n",
    "            X, Y = res[..., 0].numpy(), res[..., 1].numpy()\n",
    "            if rows == 1:\n",
    "                p = arr[c]\n",
    "            else:\n",
    "                p = arr[r, c]\n",
    "            p.scatter(X, Y, s=10, color='red')\n",
    "            p.set_xlim([-5, 5])\n",
    "            p.set_ylim([-5, 5])\n",
    "            p.set_title(names[i])\n",
    "            \n",
    "            i += 1"
   ]
  },
  {
   "cell_type": "code",
   "execution_count": null,
   "metadata": {
    "id": "7XJkvd0DqyVL"
   },
   "outputs": [],
   "source": [
    "# Plot\n",
    "\n"
   ]
  },
  {
   "cell_type": "markdown",
   "metadata": {
    "id": "qVUEl_FuqyVM"
   },
   "source": [
    "#### Training a MaskedAutoregressiveFlow bijector"
   ]
  },
  {
   "cell_type": "code",
   "execution_count": null,
   "metadata": {
    "id": "XcKcNND0qyVM"
   },
   "outputs": [],
   "source": [
    "from tensorflow.keras.callbacks import LambdaCallback"
   ]
  },
  {
   "cell_type": "code",
   "execution_count": null,
   "metadata": {
    "id": "X9xg-02vqyVO"
   },
   "outputs": [],
   "source": [
    "# Define a training routine\n",
    "\n",
    "def train_dist_routine(trainable_distribution, n_epochs=200, batch_size=None, n_disp=100):\n",
    "    x_ = Input(shape=(2,), dtype=tf.float32)\n",
    "    log_prob_ = trainable_distribution.log_prob(x_)\n",
    "    model = Model(x_, log_prob_)\n",
    "\n",
    "    model.compile(optimizer=tf.optimizers.Adam(),\n",
    "                  loss=lambda _, log_prob: -log_prob)\n",
    "\n",
    "    ns = X_data.shape[0]\n",
    "    if batch_size is None:\n",
    "        batch_size = ns\n",
    "\n",
    "    # Display the loss every n_disp epoch\n",
    "    epoch_callback = LambdaCallback(\n",
    "        on_epoch_end=lambda epoch, logs: \n",
    "                        print('\\n Epoch {}/{}'.format(epoch+1, n_epochs, logs),\n",
    "                              '\\n\\t ' + (': {:.4f}, '.join(logs.keys()) + ': {:.4f}').format(*logs.values()))\n",
    "                                       if epoch % n_disp == 0 else False \n",
    "    )\n",
    "\n",
    "\n",
    "    history = model.fit(x=X_data,\n",
    "                        y=np.zeros((ns, 0), dtype=np.float32),\n",
    "                        batch_size=batch_size,\n",
    "                        epochs=n_epochs,\n",
    "                        validation_split=0.2,\n",
    "                        shuffle=True,\n",
    "                        verbose=False,\n",
    "                        callbacks=[epoch_callback])\n",
    "    return history"
   ]
  },
  {
   "cell_type": "code",
   "execution_count": null,
   "metadata": {
    "id": "fFbqlQsDqyVP"
   },
   "outputs": [],
   "source": [
    "# Train the distribution\n",
    "\n"
   ]
  },
  {
   "cell_type": "code",
   "execution_count": null,
   "metadata": {
    "id": "UYqVhr02qyVR"
   },
   "outputs": [],
   "source": [
    "# Get losses\n",
    "\n",
    "train_losses = history.history['loss']\n",
    "valid_losses = history.history['val_loss']"
   ]
  },
  {
   "cell_type": "code",
   "execution_count": null,
   "metadata": {
    "id": "c_r1WhYMqyVS"
   },
   "outputs": [],
   "source": [
    "# Plot loss vs epoch\n",
    "\n",
    "plt.plot(train_losses, label='train')\n",
    "plt.plot(valid_losses, label='valid')\n",
    "plt.legend()\n",
    "plt.xlabel(\"Epochs\")\n",
    "plt.ylabel(\"Negative log likelihood\")\n",
    "plt.title(\"Training and validation loss curves\")\n",
    "plt.show()"
   ]
  },
  {
   "cell_type": "code",
   "execution_count": null,
   "metadata": {
    "id": "Kt8EddLxqyVU"
   },
   "outputs": [],
   "source": [
    "# Make samples\n",
    "\n"
   ]
  },
  {
   "cell_type": "code",
   "execution_count": null,
   "metadata": {
    "id": "wLDj22cMqyVW"
   },
   "outputs": [],
   "source": [
    "# Plot\n",
    "\n"
   ]
  },
  {
   "cell_type": "code",
   "execution_count": null,
   "metadata": {
    "id": "paVq1v0hqyVY"
   },
   "outputs": [],
   "source": [
    "# Define a plot routine\n",
    "\n",
    "def visualize_training_data(samples):\n",
    "    f, arr = plt.subplots(1, 2, figsize=(15, 6))\n",
    "    names = ['Data', 'Trainable']\n",
    "    samples = [tf.constant(X_data), samples[-1]]\n",
    "\n",
    "    for i in range(2):\n",
    "        res = samples[i]\n",
    "        X, Y = res[..., 0].numpy(), res[..., 1].numpy()\n",
    "        arr[i].scatter(X, Y, s=10, color='red')\n",
    "        arr[i].set_xlim([-2, 2])\n",
    "        arr[i].set_ylim([-2, 2])\n",
    "        arr[i].set_title(names[i])\n",
    "\n",
    "visualize_training_data(samples)"
   ]
  },
  {
   "cell_type": "code",
   "execution_count": null,
   "metadata": {
    "id": "M4cLbKdeqyVa"
   },
   "outputs": [],
   "source": [
    "# Plot contour\n",
    "\n"
   ]
  },
  {
   "cell_type": "markdown",
   "metadata": {
    "id": "MV74vXBYqyVb"
   },
   "source": [
    "#### Training a chain of MaskedAutoregressiveFlow bijectors"
   ]
  },
  {
   "cell_type": "code",
   "execution_count": null,
   "metadata": {
    "id": "CY-wC-KlqyVb"
   },
   "outputs": [],
   "source": [
    "# Define a more expressive model\n",
    "\n"
   ]
  },
  {
   "cell_type": "code",
   "execution_count": null,
   "metadata": {
    "id": "NJpc214EqyVc"
   },
   "outputs": [],
   "source": [
    "# Define the trainable distribution\n",
    "\n"
   ]
  },
  {
   "cell_type": "code",
   "execution_count": null,
   "metadata": {
    "id": "-BpDIWDYqyVd"
   },
   "outputs": [],
   "source": [
    "# Make samples\n",
    "\n",
    "def make_samples():\n",
    "    x = base_distribution.sample((1000, 2))\n",
    "    samples = [x]\n",
    "    names = [base_distribution.name]\n",
    "    for bijector in reversed(trainable_distribution.bijector.bijectors):\n",
    "        x = bijector.forward(x)\n",
    "        samples.append(x)\n",
    "        names.append(bijector.name)\n",
    "    return names, samples\n",
    "\n",
    "names, samples = make_samples()"
   ]
  },
  {
   "cell_type": "code",
   "execution_count": null,
   "metadata": {
    "id": "vULwOEnBqyVf"
   },
   "outputs": [],
   "source": [
    "# Plot\n",
    "\n"
   ]
  },
  {
   "cell_type": "code",
   "execution_count": null,
   "metadata": {
    "id": "bD3Iv--OqyVg"
   },
   "outputs": [],
   "source": [
    "# Plot\n",
    "\n"
   ]
  },
  {
   "cell_type": "code",
   "execution_count": null,
   "metadata": {
    "id": "ODoyDXHVqyVh"
   },
   "outputs": [],
   "source": [
    "# Train the distribution\n",
    "\n"
   ]
  },
  {
   "cell_type": "code",
   "execution_count": null,
   "metadata": {
    "id": "87-MiD_EqyVj"
   },
   "outputs": [],
   "source": [
    "# Get losses\n",
    "\n",
    "train_losses = history.history['loss']\n",
    "valid_losses = history.history['val_loss']"
   ]
  },
  {
   "cell_type": "code",
   "execution_count": null,
   "metadata": {
    "id": "uq9fFP7kqyVk"
   },
   "outputs": [],
   "source": [
    "# Plot loss vs epoch\n",
    "\n",
    "plt.plot(train_losses, label='train')\n",
    "plt.plot(valid_losses, label='valid')\n",
    "plt.legend()\n",
    "plt.xlabel(\"Epochs\")\n",
    "plt.ylabel(\"Negative log likelihood\")\n",
    "plt.title(\"Training and validation loss curves\")\n",
    "plt.show()"
   ]
  },
  {
   "cell_type": "code",
   "execution_count": null,
   "metadata": {
    "id": "swTZ4Db_qyVl"
   },
   "outputs": [],
   "source": [
    "# Make samples and plot\n",
    "\n"
   ]
  },
  {
   "cell_type": "code",
   "execution_count": null,
   "metadata": {
    "id": "nNp-Kq7ZqyVm"
   },
   "outputs": [],
   "source": [
    "# Plot\n",
    "\n"
   ]
  },
  {
   "cell_type": "code",
   "execution_count": null,
   "metadata": {
    "id": "fer7CuS4qyVo"
   },
   "outputs": [],
   "source": [
    "# Plot\n",
    "\n"
   ]
  }
 ],
 "metadata": {
  "colab": {
   "collapsed_sections": [
    "YwoQHX7sqySy",
    "-dsVcPrkqyS3",
    "TX4Pa-mhqyS8",
    "q6Fm70pBqyUU",
    "fw7wNX9hqyUf",
    "fHx5KxujqyUq",
    "qVUEl_FuqyVM",
    "MV74vXBYqyVb"
   ],
   "name": "Coding Tutorial.ipynb",
   "provenance": []
  },
  "kernelspec": {
   "display_name": "Python 3",
   "language": "python",
   "name": "python3"
  },
  "language_info": {
   "codemirror_mode": {
    "name": "ipython",
    "version": 3
   },
   "file_extension": ".py",
   "mimetype": "text/x-python",
   "name": "python",
   "nbconvert_exporter": "python",
   "pygments_lexer": "ipython3",
   "version": "3.6.6"
  }
 },
 "nbformat": 4,
 "nbformat_minor": 1
}
