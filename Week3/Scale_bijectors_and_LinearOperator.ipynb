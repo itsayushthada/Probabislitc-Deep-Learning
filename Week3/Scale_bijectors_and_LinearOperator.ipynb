{
  "nbformat": 4,
  "nbformat_minor": 0,
  "metadata": {
    "kernelspec": {
      "display_name": "Python 3",
      "language": "python",
      "name": "python3"
    },
    "language_info": {
      "codemirror_mode": {
        "name": "ipython",
        "version": 3
      },
      "file_extension": ".py",
      "mimetype": "text/x-python",
      "name": "python",
      "nbconvert_exporter": "python",
      "pygments_lexer": "ipython3",
      "version": "3.7.1"
    },
    "colab": {
      "name": "Scale bijectors and LinearOperator.ipynb",
      "provenance": [],
      "collapsed_sections": []
    }
  },
  "cells": [
    {
      "cell_type": "markdown",
      "metadata": {
        "id": "yNFwEtoT-NgR"
      },
      "source": [
        "# Scale bijectors and LinearOperator"
      ]
    },
    {
      "cell_type": "markdown",
      "metadata": {
        "id": "VQ3ETa_9-NgS"
      },
      "source": [
        "This reading is an introduction to scale bijectors, as well as the `LinearOperator` class, which can be used with them."
      ]
    },
    {
      "cell_type": "code",
      "metadata": {
        "id": "_pzCmsNA-NgT",
        "colab": {
          "base_uri": "https://localhost:8080/"
        },
        "outputId": "58c60c05-3a8b-4c1b-fe31-9a2bec4d4edc"
      },
      "source": [
        "import tensorflow as tf\n",
        "import tensorflow_probability as tfp\n",
        "tfd = tfp.distributions\n",
        "tfb = tfp.bijectors\n",
        "print(\"TF version:\", tf.__version__)\n",
        "print(\"TFP version:\", tfp.__version__)\n",
        "\n",
        "from IPython.display import Image"
      ],
      "execution_count": 1,
      "outputs": [
        {
          "output_type": "stream",
          "text": [
            "TF version: 2.3.0\n",
            "TFP version: 0.11.0\n"
          ],
          "name": "stdout"
        }
      ]
    },
    {
      "cell_type": "markdown",
      "metadata": {
        "id": "IfCihlmc-NgW"
      },
      "source": [
        "## Introduction\n",
        "\n",
        "You have now seen how bijectors can be used to transform tensors and tensor spaces. Until now, you've only seen this in the scalar case, where the bijector acts on a single value. When the tensors you fed into the bijectors had multiple components, the bijector acted on each component individually by applying batch operations to scalar values. For probability distributions, this corresponds to a scalar event space.\n",
        "\n",
        "However, bijectors can also act on higher-dimensional space. You've seen, for example, the multivariate normal distribution, for which samples are tensors with more than one component. You'll need higher-dimensional bijectors to work with such distributions. In this reading, you'll see how bijectors can be used to generalise scale transformations to higher dimensions. You'll also see the `LinearOperator` class, which you can use to construct highly general scale bijectors. In this reading, you'll walk through the code, and we'll use figure examples to demonstrate these transformations.\n",
        "\n",
        "This reading contains many images, as this allows you to visualise how a space is transformed. For this reason, the examples are limited to two dimensions, since these allow easy plots. However, these ideas generalise naturally to higher dimensions. Let's start by creating a point that is randomly distributed across the unit square $[0, 1] \\times [0, 1]$:"
      ]
    },
    {
      "cell_type": "code",
      "metadata": {
        "id": "1z3TufXn-NgX",
        "colab": {
          "base_uri": "https://localhost:8080/"
        },
        "outputId": "57754c96-dc92-47ee-cba7-f6c89cd674a4"
      },
      "source": [
        "# Create the base distribution and a single sample\n",
        "\n",
        "uniform = tfd.Uniform(low=[0.0, 0.0], high=[1.0, 1.0], name='uniform2d')\n",
        "x = uniform.sample()\n",
        "x"
      ],
      "execution_count": 2,
      "outputs": [
        {
          "output_type": "execute_result",
          "data": {
            "text/plain": [
              "<tf.Tensor: shape=(2,), dtype=float32, numpy=array([0.4564258 , 0.24405384], dtype=float32)>"
            ]
          },
          "metadata": {
            "tags": []
          },
          "execution_count": 2
        }
      ]
    },
    {
      "cell_type": "markdown",
      "metadata": {
        "id": "ApOUy1uq-Wzi"
      },
      "source": [
        "We will be applying linear transformations to this data. To get a feel for how these transformations work, we show ten example sample points, and plot them, as well as the domain of the underlying distribution:"
      ]
    },
    {
      "cell_type": "code",
      "metadata": {
        "id": "M5KYJke2-W9b",
        "colab": {
          "base_uri": "https://localhost:8080/",
          "height": 350
        },
        "outputId": "699d66f6-7e1b-494c-9da4-e9060008187c"
      },
      "source": [
        "# Run this cell to download and view a figure to show example data points\n",
        "\n",
        "!wget -q -O x.png --no-check-certificate \"https://docs.google.com/uc?export=download&id=1DLqzh7xcjM7BS3C_QmgeF1xET2sXgMG0\"\n",
        "Image(\"x.png\", width=500)"
      ],
      "execution_count": 3,
      "outputs": [
        {
          "output_type": "execute_result",
          "data": {
            "image/png": "[encoded data removed]",
            "text/plain": [
              "<IPython.core.display.Image object>"
            ]
          },
          "metadata": {
            "tags": [],
            "image/png": {
              "width": 500
            }
          },
          "execution_count": 3
        }
      ]
    },
    {
      "cell_type": "markdown",
      "metadata": {
        "id": "UILbUvhp-NgZ"
      },
      "source": [
        "\n",
        "![](figures/x.png)\n",
        "\n",
        "Each of the ten points is hence represented by a two-dimensional vector. Let $\\mathbf{x} = [x_1, x_2]^T$ be one of these points. Then scale bijectors are linear transformations of $\\mathbf{x}$, which can be represented by a $2 \\times 2$ matrix $B$. The forward bijection to $\\mathbf{y} = [y_1, y_2]^T$ is\n",
        "\n",
        "$$\n",
        "\\mathbf{y} \n",
        "= \n",
        "\\begin{bmatrix}\n",
        "y_1 \\\\ y_2\n",
        "\\end{bmatrix}\n",
        "= B \\mathbf{x}\n",
        "= \\begin{bmatrix}\n",
        "b_{11} & b_{12} \\\\\n",
        "b_{21} & b_{22} \\\\\n",
        "\\end{bmatrix}\n",
        "\\begin{bmatrix}\n",
        "x_1 \\\\ x_2\n",
        "\\end{bmatrix}\n",
        "$$\n",
        "\n",
        "This is important to remember: any two-dimensional scale bijector can be represented by a $2 \\times 2$ matrix. For this reason, we'll sometimes use the term \"matrix\" to refer to the bijector itself. You'll be seeing how these points and domain are transformed under different bijectors  in two dimensions."
      ]
    },
    {
      "cell_type": "markdown",
      "metadata": {
        "id": "WjidnTpq-NgZ"
      },
      "source": [
        "## The `ScaleMatvec` bijectors"
      ]
    },
    {
      "cell_type": "markdown",
      "metadata": {
        "id": "oErkIexK-Nga"
      },
      "source": [
        "### The `ScaleMatvecDiag` bijector\n",
        "\n",
        "We'll start with a simple scale bijector created using the `ScaleMatvecDiag` class:"
      ]
    },
    {
      "cell_type": "code",
      "metadata": {
        "id": "E2xh3xOz-Nga"
      },
      "source": [
        "# Create the ScaleMatvecDiag bijector\n",
        "\n",
        "bijector = tfb.ScaleMatvecDiag(scale_diag=[1.5, -0.5])"
      ],
      "execution_count": 4,
      "outputs": []
    },
    {
      "cell_type": "markdown",
      "metadata": {
        "id": "HNXwnshy-Ngd"
      },
      "source": [
        "which creates a bijector represented by the diagonal matrix\n",
        "$$ B = \n",
        "\\begin{bmatrix}\n",
        "1.5 & 0 \\\\\n",
        "0 & -0.5 \\\\\n",
        "\\end{bmatrix}.\n",
        "$$\n",
        "\n",
        "We can apply this to the data using `y = bijector(x)` for each of the ten points. This transforms the data as follows:"
      ]
    },
    {
      "cell_type": "code",
      "metadata": {
        "id": "z9DO4iI2_Uof",
        "colab": {
          "base_uri": "https://localhost:8080/"
        },
        "outputId": "7e63a0e1-f200-4a2b-a422-205a39622bef"
      },
      "source": [
        "# Run this cell to download and view a figure to illustrate the transformation\n",
        "\n",
        "!wget -q -O diag.png --no-check-certificate \"https://docs.google.com/uc?export=download&id=1sgfZ_Qzdd2v7CErP2zIk04p6R6hUW7RR\"\n",
        "Image(\"diag.png\", width=500)"
      ],
      "execution_count": 5,
      "outputs": [
        {
          "output_type": "execute_result",
          "data": {
            "image/png": "[encoded data removed]",
            "text/plain": [
              "<IPython.core.display.Image object>"
            ]
          },
          "metadata": {
            "tags": [],
            "image/png": {
              "width": 500
            }
          },
          "execution_count": 5
        }
      ]
    },
    {
      "cell_type": "markdown",
      "metadata": {
        "id": "RYPUE9ce_U4I"
      },
      "source": [
        "You can see what happened here: the first coordinate is multiplied by 1.5 while the second is multipled by -0.5, flipping it through the horizontal axis."
      ]
    },
    {
      "cell_type": "code",
      "metadata": {
        "id": "QmQnRIvy-Ngd",
        "colab": {
          "base_uri": "https://localhost:8080/"
        },
        "outputId": "b94e6d2f-7b8b-4031-f4f9-95a9d95332cf"
      },
      "source": [
        "# Apply the bijector to the sample point\n",
        "\n",
        "y = bijector(x)\n",
        "y"
      ],
      "execution_count": 6,
      "outputs": [
        {
          "output_type": "execute_result",
          "data": {
            "text/plain": [
              "<tf.Tensor: shape=(2,), dtype=float32, numpy=array([ 0.6846387 , -0.12202692], dtype=float32)>"
            ]
          },
          "metadata": {
            "tags": []
          },
          "execution_count": 6
        }
      ]
    },
    {
      "cell_type": "markdown",
      "metadata": {
        "id": "wIqdagRl-Ngf"
      },
      "source": [
        "### The `ScaleMatvecTriL` bijector\n",
        "\n",
        "In the previous example, the bijector matrix was diagonal, which essentially performs an independent scale operation on each of the two dimensions. The domain under the bijection remains rectangular. However, not all scale tarnsformations have to be like this. With a non-diagonal matrix, the domain will transform to a quadrilateral. One way to do this is by using the `tfb.ScaleMatvecTriL` class, which implements a bijection based on a lower-triangular matrix. For example, to implement the lower-triangular matrix\n",
        "$$ B = \n",
        "\\begin{bmatrix}\n",
        "-1 & 0 \\\\\n",
        "-1 & -1 \\\\\n",
        "\\end{bmatrix}\n",
        "$$\n",
        "you can use the `tfb.ScaleMatvecTriL` bijector as follows:"
      ]
    },
    {
      "cell_type": "code",
      "metadata": {
        "id": "tnP1qEgI-Ngg"
      },
      "source": [
        "# Create the ScaleMatvecTriL bijector\n",
        "\n",
        "bijector = tfb.ScaleMatvecTriL(scale_tril=[[-1., 0.],\n",
        "                                           [-1., -1.]])"
      ],
      "execution_count": 7,
      "outputs": []
    },
    {
      "cell_type": "code",
      "metadata": {
        "id": "N4MRKTWt-Ngi",
        "colab": {
          "base_uri": "https://localhost:8080/"
        },
        "outputId": "b7c062e4-fc7b-4924-fddd-80a374b29e14"
      },
      "source": [
        "# Apply the bijector to the sample x\n",
        "\n",
        "y = bijector(x)\n",
        "y"
      ],
      "execution_count": 8,
      "outputs": [
        {
          "output_type": "execute_result",
          "data": {
            "text/plain": [
              "<tf.Tensor: shape=(2,), dtype=float32, numpy=array([-0.4564258, -0.7004796], dtype=float32)>"
            ]
          },
          "metadata": {
            "tags": []
          },
          "execution_count": 8
        }
      ]
    },
    {
      "cell_type": "markdown",
      "metadata": {
        "id": "uOKr_c_F-Ngl"
      },
      "source": [
        "A graphical overview of this change is:"
      ]
    },
    {
      "cell_type": "code",
      "metadata": {
        "id": "mMPt4BPG_q8R",
        "colab": {
          "base_uri": "https://localhost:8080/"
        },
        "outputId": "6a9ca71f-8bf5-4b8f-b07e-78c935a5e0b3"
      },
      "source": [
        "# Run this cell to download and view a figure to illustrate the transformation\n",
        "\n",
        "!wget -q -O lower_triangular.png --no-check-certificate \"https://docs.google.com/uc?export=download&id=1eMYwPzMVpmt1FYscplu7RRn1S4gmFo5B\"\n",
        "Image(\"lower_triangular.png\", width=500)"
      ],
      "execution_count": 9,
      "outputs": [
        {
          "output_type": "execute_result",
          "data": {
            "image/png": "[encoded data removed]",
            "text/plain": [
              "<IPython.core.display.Image object>"
            ]
          },
          "metadata": {
            "tags": [],
            "image/png": {
              "width": 500
            }
          },
          "execution_count": 9
        }
      ]
    },
    {
      "cell_type": "markdown",
      "metadata": {
        "id": "YQ-RcKWv-Ngm"
      },
      "source": [
        "## Inverse and composition\n",
        "\n",
        "Scale transformations always map the point $[0, 0]$ to itself and are only one particular class of bijectors. As you saw before, you can create more complicated bijections by composing one with another. This works just like you would expect. For example, you can compose a scale transformation with a shift to the left (by one unit) as follows:"
      ]
    },
    {
      "cell_type": "code",
      "metadata": {
        "id": "ljYA14K--Ngm"
      },
      "source": [
        "# Create a scale and shift bijector\n",
        "\n",
        "scale_bijector = tfb.ScaleMatvecTriL(scale_tril=[[-1., 0.],\n",
        "                                                 [-1., -1.]])\n",
        "shift_bijector = tfb.Shift([-1., 0.])\n",
        "bijector = shift_bijector(scale_bijector)"
      ],
      "execution_count": 10,
      "outputs": []
    },
    {
      "cell_type": "code",
      "metadata": {
        "id": "EM_Tai07-Ngo",
        "colab": {
          "base_uri": "https://localhost:8080/"
        },
        "outputId": "1d617599-411c-46ac-e34e-6456d70a5ba0"
      },
      "source": [
        "# Apply the bijector to the sample x\n",
        "\n",
        "y = bijector(x)\n",
        "y"
      ],
      "execution_count": 11,
      "outputs": [
        {
          "output_type": "execute_result",
          "data": {
            "text/plain": [
              "<tf.Tensor: shape=(2,), dtype=float32, numpy=array([-1.4564258, -0.7004796], dtype=float32)>"
            ]
          },
          "metadata": {
            "tags": []
          },
          "execution_count": 11
        }
      ]
    },
    {
      "cell_type": "markdown",
      "metadata": {
        "id": "fy2akFfk-Ngq"
      },
      "source": [
        "which has the expected result:\n"
      ]
    },
    {
      "cell_type": "code",
      "metadata": {
        "id": "PQOBCsmJALAs"
      },
      "source": [
        "# Run this cell to download and view a figure to illustrate the transformation\n",
        "\n",
        "!wget -q -O scale_and_shift.png --no-check-certificate \"https://docs.google.com/uc?export=download&id=1iucwJlG2ropvJOkRfBMgEpuFNpYa_JH6\"\n",
        "Image(\"scale_and_shift.png\", width=500)"
      ],
      "execution_count": null,
      "outputs": []
    },
    {
      "cell_type": "markdown",
      "metadata": {
        "id": "o2FsyqHsAKP0"
      },
      "source": [
        "Furthermore, bijectors are always invertible (with just a few special cases, see e.g. [`Absolute Value`](https://www.tensorflow.org/probability/api_docs/python/tfp/bijectors/AbsoluteValue)), and these scale transformations are no exception. For example, running"
      ]
    },
    {
      "cell_type": "code",
      "metadata": {
        "id": "jwHodULr-Ngq"
      },
      "source": [
        "# Apply the inverse transformation to the image of x\n",
        "\n",
        "bijector = tfb.ScaleMatvecTriL(scale_tril=[[-1., 0.],\n",
        "                                           [-1., -1.]])\n",
        "y = bijector.inverse(bijector(x))"
      ],
      "execution_count": null,
      "outputs": []
    },
    {
      "cell_type": "markdown",
      "metadata": {
        "id": "erOyIGtXAiuV"
      },
      "source": [
        "recovers `x`:"
      ]
    },
    {
      "cell_type": "code",
      "metadata": {
        "id": "2Vj4URlLAi2F"
      },
      "source": [
        "# Run this cell to download and view a figure to illustrate the transformation\n",
        "\n",
        "!wget -q -O inverse.png --no-check-certificate \"https://docs.google.com/uc?export=download&id=1CHCkSfz6EnOYiZaw6vGZ_s6BzyP1NK1X\"\n",
        "Image(\"inverse.png\", width=500)"
      ],
      "execution_count": null,
      "outputs": []
    },
    {
      "cell_type": "markdown",
      "metadata": {
        "id": "QJUEcls4-Ngt"
      },
      "source": [
        "so that the original and transformed data is the same."
      ]
    },
    {
      "cell_type": "code",
      "metadata": {
        "id": "zL6lnzOG-Ngt"
      },
      "source": [
        "# Check that all y and x values are the same\n",
        "\n",
        "tf.reduce_all(y == x)"
      ],
      "execution_count": null,
      "outputs": []
    },
    {
      "cell_type": "markdown",
      "metadata": {
        "id": "-yhVG-g3-Ngv"
      },
      "source": [
        "## The `LinearOperator` class and `ScaleMatvecLinearOperator` bijector\n",
        "\n",
        "The examples you just saw used the `ScaleMatvecDiag` and `ScaleMatvecTriL` bijectors, whose transformations can be represented by diagonal and lower-triangular matrices respectively. These are convenient since it's easy to check whether such matrices are invertible (a requirement for a bijector). However, this comes at a cost of generality: there are acceptable bijectors whose matrices are not diagonal or lower-triangular. To construct these more general bijectors, you can use the `ScaleMatvecLinearOperator` class, which operates on instances of `tf.linalg.LinearOperator`.\n",
        "\n",
        "The `LinearOperator` is a class that allows the creation and manipulation of linear operators in TensorFlow. It's rare to call the class directly, but its subclasses represent many of the common linear operators. It's programmed in a way to have computational advantages when working with big linear operators, although we won't discuss these here. What matters now is that we can use these linear operators to define bijectors using the `ScaleMatvecLinearOperator` class. Let's see how this works."
      ]
    },
    {
      "cell_type": "markdown",
      "metadata": {
        "id": "8DfSe2kv-Ngw"
      },
      "source": [
        "### The `LinearOperatorDiag` class\n",
        "\n",
        "First, let's use this framework to recreate our first bijector, represented by the diagonal matrix\n",
        "\n",
        "$$ B = \n",
        "\\begin{bmatrix}\n",
        "1.5 & 0 \\\\\n",
        "0 & -0.5 \\\\\n",
        "\\end{bmatrix}.\n",
        "$$\n",
        "\n",
        "You can do this using the `ScaleMatvecLinearOperator` as follows. First, we'll create the linear operator that represents the scale transformation using "
      ]
    },
    {
      "cell_type": "code",
      "metadata": {
        "id": "MiFMxpsb-Ngw"
      },
      "source": [
        "scale = tf.linalg.LinearOperatorDiag(diag=[1.5, -0.5])"
      ],
      "execution_count": null,
      "outputs": []
    },
    {
      "cell_type": "markdown",
      "metadata": {
        "id": "-oKw73Ku-Ngy"
      },
      "source": [
        "where `LinearOperatorDiag` is one of the subclasses of `LinearOperator`. As the name suggests, it implements a diagonal matrix. We then use this to create the bijector using the `tfb.ScaleMatvecLinearOperator`:"
      ]
    },
    {
      "cell_type": "code",
      "metadata": {
        "id": "a0mfpIUk-Ngy"
      },
      "source": [
        "# Create the ScaleMatvecLinearOperator bijector\n",
        "\n",
        "bijector = tfb.ScaleMatvecLinearOperator(scale)"
      ],
      "execution_count": null,
      "outputs": []
    },
    {
      "cell_type": "markdown",
      "metadata": {
        "id": "SUjBbtKp-Ng1"
      },
      "source": [
        "This bijector is the same as the first one above:"
      ]
    },
    {
      "cell_type": "code",
      "metadata": {
        "id": "1hMYRcDuA5_-"
      },
      "source": [
        "# Run this cell to download and view a figure to illustrate the transformation\n",
        "\n",
        "!wget -q -O linear_operator_diag.png --no-check-certificate \"https://docs.google.com/uc?export=download&id=1KaCJl28Thp6NjxspG3pq251vDJrmDd97\"\n",
        "Image(\"linear_operator_diag.png\", width=500)"
      ],
      "execution_count": null,
      "outputs": []
    },
    {
      "cell_type": "code",
      "metadata": {
        "id": "m_8qIb-z-Ng1"
      },
      "source": [
        "# Apply the bijector to the sample x\n",
        "\n",
        "y = bijector(x)\n",
        "y"
      ],
      "execution_count": null,
      "outputs": []
    },
    {
      "cell_type": "markdown",
      "metadata": {
        "id": "uQOIGUl5-Ng3"
      },
      "source": [
        "### The `LinearOperatorFullMatrix` class\n",
        "\n",
        "We can also use this framework to create a bijector represented by a custom matrix. Suppose we have the matrix\n",
        "\n",
        "$$ B = \n",
        "\\begin{bmatrix}\n",
        "0.5 & 1.5 \\\\\n",
        "1.5 & 0.5 \\\\\n",
        "\\end{bmatrix}\n",
        "$$\n",
        "\n",
        "which is neither diagonal nor lower-triangular. We can implement a bijector for it using the `ScaleMatvecLinearOperator` class by using another subclass of `LinearOperator`, namely the `LinearOperatorFullMatrix`, as follows:"
      ]
    },
    {
      "cell_type": "code",
      "metadata": {
        "id": "ySLPNIVx-Ng3"
      },
      "source": [
        "# Create a ScaleMatvecLinearOperator bijector\n",
        "\n",
        "B = [[0.5, 1.5],\n",
        "     [1.5, 0.5]]\n",
        "scale = tf.linalg.LinearOperatorFullMatrix(matrix=B)\n",
        "bijector = tfb.ScaleMatvecLinearOperator(scale)"
      ],
      "execution_count": null,
      "outputs": []
    },
    {
      "cell_type": "markdown",
      "metadata": {
        "id": "v4D8NFxb-Ng5"
      },
      "source": [
        "which leads to the following transformation:"
      ]
    },
    {
      "cell_type": "code",
      "metadata": {
        "id": "gofqMvQpBRlA"
      },
      "source": [
        "# Run this cell to download and view a figure to illustrate the transformation\n",
        "\n",
        "!wget -q -O linear_operator_full.png --no-check-certificate \"https://docs.google.com/uc?export=download&id=1Zk5lp7-VTwmX5r0yPAqVGGzWIgYTjJIJ\"\n",
        "Image(\"linear_operator_full.png\", width=500)"
      ],
      "execution_count": null,
      "outputs": []
    },
    {
      "cell_type": "code",
      "metadata": {
        "id": "d9kDhz0C-Ng6"
      },
      "source": [
        "# Apply the bijector to the sample x\n",
        "\n",
        "y = bijector(x)\n",
        "y"
      ],
      "execution_count": null,
      "outputs": []
    },
    {
      "cell_type": "markdown",
      "metadata": {
        "id": "_HyVQWuy-Ng8"
      },
      "source": [
        "### Batch operations and broadcasting\n",
        "\n",
        "As you've seen before, it's important to be very careful with shapes in TensorFlow Probability. That's because there are three possible components to a shape: the event shape (dimensionality of the random variable), sample shape (dimensionality of the samples drawn) and batch shape (multiple distributions can be considered in one object). This subtlety is especially important for bijectors, but can be harnassed to make powerful, and very computationally efficient, transformations of spaces. Let's examine this a little bit in this section.\n",
        "\n",
        "In the previous examples, we applied a bijector to a two-dimensional data point $\\mathbf{x}$ to create a two-dimensional data point $\\mathbf{y}$. This was done using $\\mathbf{y} = B \\mathbf{x}$ where $B$ is the $2 \\times 2$ matrix that represents the scale bijector. This is simply matrix multiplication. To implement this, we created a tensor `x` with `x.shape == [2]` and a bijector using a matrix of shape `B.shape == [2, 2]`. This generalises straightforwardly to higher dimensions: if $\\mathbf{x}$ is $n$-dimensional, the bijection matrix must be of shape $n \\times n$ for some $n>0$. In this case, $\\mathbf{y}$ is $n$-dimensional.\n",
        "\n",
        "But what if you wanted to apply the same bijection to ten $\\mathbf{x}$ values at once? You can then arrange all these samples into a single tensor `x` with `x.shape == [10, 2]` and create a bijector as usual, with a matrix of shape `B.shape == [2, 2]`."
      ]
    },
    {
      "cell_type": "code",
      "metadata": {
        "id": "-eLiZNZi-Ng8"
      },
      "source": [
        "# Create 10 samples from the uniform distribution\n",
        "\n",
        "x = uniform.sample(10)\n",
        "x"
      ],
      "execution_count": null,
      "outputs": []
    },
    {
      "cell_type": "code",
      "metadata": {
        "id": "3ACfBTuZ-Ng_"
      },
      "source": [
        "# Recreate the diagonal matrix transformation with LinearOperatorDiag\n",
        "\n",
        "scale = tf.linalg.LinearOperatorDiag(diag=[1.5, -0.5])\n",
        "scale.to_dense()"
      ],
      "execution_count": null,
      "outputs": []
    },
    {
      "cell_type": "code",
      "metadata": {
        "id": "mplwIBb0-NhA"
      },
      "source": [
        "# Create the ScaleMatvecLinearOperator bijector\n",
        "\n",
        "bijector = tfb.ScaleMatvecLinearOperator(scale)"
      ],
      "execution_count": null,
      "outputs": []
    },
    {
      "cell_type": "code",
      "metadata": {
        "id": "ak74fvbe-NhC"
      },
      "source": [
        "# Apply the bijector to the 10 samples\n",
        "\n",
        "y = bijector(x)\n",
        "y"
      ],
      "execution_count": null,
      "outputs": []
    },
    {
      "cell_type": "markdown",
      "metadata": {
        "id": "vl6rCedgBqud"
      },
      "source": [
        "This gives us the same plot we had before:"
      ]
    },
    {
      "cell_type": "code",
      "metadata": {
        "id": "mKT0LCFWBq2a"
      },
      "source": [
        "# Run this cell to download and view a figure to illustrate the transformation\n",
        "\n",
        "!wget -q -O diag.png --no-check-certificate \"https://docs.google.com/uc?export=download&id=1sgfZ_Qzdd2v7CErP2zIk04p6R6hUW7RR\"\n",
        "Image(\"diag.png\", width=500)"
      ],
      "execution_count": null,
      "outputs": []
    },
    {
      "cell_type": "markdown",
      "metadata": {
        "id": "Q33XJsx8-NhE"
      },
      "source": [
        "For matrix multiplication to work, we need `B.shape[-1] == x.shape[-1]`, and the output tensor has last dimension `y.shape[-1] == B.shape[-2]`. For invertibility, we also need the matrix `B` to be square. Any dimensions except for the last one on `x` become sample/batch dimensions: the operation is broadcast across these dimensions as we are used to. It's probably easiest to understand through a table of values, where `s`, `b`, `m`, and `n` are positive integers and `m != n`:\n",
        "\n",
        "| `B.shape` | `x.shape` | `y.shape` |\n",
        "| ----- | ----- | ----- | \n",
        "| `(2, 2)` | `(2)` | `(2)` |\n",
        "| `(n, n)` | `(m)` | `ERROR` | \n",
        "| `(n, n)` | `(n)` | `(n)` | \n",
        "| `(n, n)` | `(s, n)` | `(s, n)` | \n",
        "| `(b, n, n)` | `(n)` | `(b, n)` |\n",
        "| `(b, n, n)` | `(b, n)` | `(b, n)` |\n",
        "| `(b, n, n)` | `(s, 1, n)` | `(s, b, n)` |  \n",
        "\n",
        "These rules and the ability to broadcast make batch operations easy. "
      ]
    },
    {
      "cell_type": "markdown",
      "metadata": {
        "id": "gGSUs-0B-NhE"
      },
      "source": [
        "We can also easily apply multiple bijectors. Suppose we want to apply both these bijectors:\n",
        "\n",
        "$$\n",
        "\\begin{align}\n",
        "B_1 = \n",
        "\\begin{bmatrix}\n",
        "1 & 0 \\\\\n",
        "0 & -1 \\\\\n",
        "\\end{bmatrix}\n",
        "& \\qquad\n",
        "B_2 = \n",
        "\\begin{bmatrix}\n",
        "-1 & 0 \\\\\n",
        "0 & 1 \\\\\n",
        "\\end{bmatrix}.\n",
        "\\end{align}\n",
        "$$\n",
        "\n",
        "We can do this using the batched bijector"
      ]
    },
    {
      "cell_type": "code",
      "metadata": {
        "id": "FBnTnUEy-NhF"
      },
      "source": [
        "# Create a batched ScaleMatvecLinearOperator bijector\n",
        "\n",
        "diag = tf.stack((tf.constant([1, -1.]), \n",
        "                 tf.constant([-1, 1.])))  # (2, 2)\n",
        "scale = tf.linalg.LinearOperatorDiag(diag=diag)  # (2, 2, 2)\n",
        "bijector = tfb.ScaleMatvecLinearOperator(scale=scale)"
      ],
      "execution_count": null,
      "outputs": []
    },
    {
      "cell_type": "markdown",
      "metadata": {
        "id": "-444xO4x-NhG"
      },
      "source": [
        "and we can broadcast the samples across both bijectors in the batch, as well as broadcasting the bijectors across all samples. For this, we need to include a batch dimension in the samples Tensor."
      ]
    },
    {
      "cell_type": "code",
      "metadata": {
        "id": "DAS06SEJ-NhH"
      },
      "source": [
        "# Add a singleton batch dimension to x\n",
        "\n",
        "x = tf.expand_dims(x, axis=1)\n",
        "x.shape"
      ],
      "execution_count": null,
      "outputs": []
    },
    {
      "cell_type": "code",
      "metadata": {
        "id": "G0rMQi5B-NhJ"
      },
      "source": [
        "# Apply the batched bijector to x\n",
        "\n",
        "y = bijector(x)\n",
        "y.shape  # (S, B, E) shape semantics"
      ],
      "execution_count": null,
      "outputs": []
    },
    {
      "cell_type": "markdown",
      "metadata": {
        "id": "kXA95fDP-NhL"
      },
      "source": [
        "which gives two batches of forward values for each sample:"
      ]
    },
    {
      "cell_type": "code",
      "metadata": {
        "id": "saqG9CHcB9Iv"
      },
      "source": [
        "# Run this cell to download and view a figure to illustrate the transformation\n",
        "\n",
        "!wget -q -O linear_operator_batch.png --no-check-certificate \"https://docs.google.com/uc?export=download&id=1obgl3sOIYsH_ijxxkhgBu4miBxq23fny\"\n",
        "Image(\"linear_operator_batch.png\", width=500)"
      ],
      "execution_count": null,
      "outputs": []
    },
    {
      "cell_type": "markdown",
      "metadata": {
        "id": "9VS3QAuI-NhL"
      },
      "source": [
        "## Conclusion\n",
        "\n",
        "In this reading, you saw how to construct scale bijectors in two dimensions using the various `ScaleMatvec` classes. You also had a quick introduction to the general `LinearOperators` class and some of its subclasses. Finally, you saw how batching makes large computations clean and efficient. Be careful to keep track of the tensor shapes, as broadcasting and the difference between batch shapes and event shapes makes errors easy. Finally, note that these bijectors are still amenable to composition (via `Chain` or simply feeding one into another) and inversion, which retains the same syntax you're used to. Enjoy using this powerful tool!"
      ]
    },
    {
      "cell_type": "markdown",
      "metadata": {
        "id": "wACUDIBT-NhM"
      },
      "source": [
        "### Further reading and resources\n",
        "\n",
        "* `ScaleMatvec` bijectors:\n",
        "  * https://www.tensorflow.org/probability/api_docs/python/tfp/bijectors/ScaleMatvecDiag\\n\",\n",
        "  * https://www.tensorflow.org/probability/api_docs/python/tfp/bijectors/ScaleMatvecLinearOperator\\n\",\n",
        "  * https://www.tensorflow.org/probability/api_docs/python/tfp/bijectors/ScaleMatvecLU\\n\",\n",
        "  * https://www.tensorflow.org/probability/api_docs/python/tfp/bijectors/ScaleMatvecTriL\\n\",\n",
        "* `LinearOperator` class (see also subclasses)\n",
        "  * https://www.tensorflow.org/api_docs/python/tf/linalg/LinearOperator"
      ]
    }
  ]
}